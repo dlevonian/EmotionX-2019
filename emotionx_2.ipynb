{
  "nbformat": 4,
  "nbformat_minor": 0,
  "metadata": {
    "colab": {
      "name": "emotionx_2.ipynb",
      "provenance": [],
      "collapsed_sections": [],
      "toc_visible": true,
      "machine_shape": "hm",
      "authorship_tag": "ABX9TyM/5x4aJ972dzAF1Is9V5gL",
      "include_colab_link": true
    },
    "kernelspec": {
      "name": "python3",
      "display_name": "Python 3"
    },
    "accelerator": "GPU"
  },
  "cells": [
    {
      "cell_type": "markdown",
      "metadata": {
        "id": "view-in-github",
        "colab_type": "text"
      },
      "source": [
        "<a href=\"https://colab.research.google.com/github/dlevonian/EmotionX-2019/blob/master/emotionx_2.ipynb\" target=\"_parent\"><img src=\"https://colab.research.google.com/assets/colab-badge.svg\" alt=\"Open In Colab\"/></a>"
      ]
    },
    {
      "cell_type": "markdown",
      "metadata": {
        "id": "UXZcYcRKKQNq",
        "colab_type": "text"
      },
      "source": [
        "# EmotionX 2019"
      ]
    },
    {
      "cell_type": "markdown",
      "metadata": {
        "id": "2i7kbHxkGkam",
        "colab_type": "text"
      },
      "source": [
        "[EmotionX 2019 Challenge](https://sites.google.com/view/emotionx2019/home?authuser=0)\n",
        "\n",
        "Participants are challenged to predict the emotions induced by dialogue utterances by classifying each utterance into one of four label candidates: joy, sadness, anger, and neutral.\n",
        "\n",
        "Leaderboard for the Friends dataset:"
      ]
    },
    {
      "cell_type": "markdown",
      "metadata": {
        "id": "Knl46gMgGkfs",
        "colab_type": "text"
      },
      "source": [
        "![alt text](https://drive.google.com/uc?id=1wWCGTD-rFySYK350_QQyEdXdDAzMKQ1d)"
      ]
    },
    {
      "cell_type": "markdown",
      "metadata": {
        "id": "oBVK9MG-U7zZ",
        "colab_type": "text"
      },
      "source": [
        "Thanks to David Patton for this great notebook:\n",
        "https://github.com/dcpatton/NLP/blob/master/Friends_Albert.ipynb\n",
        "\n",
        "Thanks to George Zoto, David Patton, and Robert Kraig for organizing the [Deep Learning Adventures](https://www.meetup.com/Deep-Learning-Adventures/) group"
      ]
    },
    {
      "cell_type": "markdown",
      "metadata": {
        "id": "28SY1mhsVBzS",
        "colab_type": "text"
      },
      "source": [
        "### Imports"
      ]
    },
    {
      "cell_type": "code",
      "metadata": {
        "id": "ALrFzWh2REW2",
        "colab_type": "code",
        "colab": {}
      },
      "source": [
        "# make sure nightly builds are installed to use official.nlp modules\n",
        "# this is needed for BERT tokenization and, optionally, for custom official.nlp optimizers\n",
        "!pip install tf-nightly\n",
        "!pip install -q tf-models-nightly"
      ],
      "execution_count": null,
      "outputs": []
    },
    {
      "cell_type": "code",
      "metadata": {
        "id": "ZRsekViu_zb-",
        "colab_type": "code",
        "colab": {}
      },
      "source": [
        "import numpy as np\n",
        "import pandas as pd\n",
        "\n",
        "import math\n",
        "import time\n",
        "\n",
        "import matplotlib.pyplot as plt\n",
        "plt.style.use('ggplot')\n",
        "\n",
        "import warnings\n",
        "warnings.simplefilter(action='ignore')"
      ],
      "execution_count": 2,
      "outputs": []
    },
    {
      "cell_type": "code",
      "metadata": {
        "id": "QQqy2ixhRKlc",
        "colab_type": "code",
        "colab": {
          "base_uri": "https://localhost:8080/",
          "height": 69
        },
        "outputId": "fbe29bc8-612f-46b2-a447-f8378e140283"
      },
      "source": [
        "import tensorflow as tf\n",
        "import tensorflow_hub as hub\n",
        "# %load_ext tensorboard\n",
        "\n",
        "from tensorflow import keras\n",
        "from tensorflow.keras.preprocessing.sequence import pad_sequences\n",
        "from tensorflow.keras.utils import to_categorical\n",
        "\n",
        "import official.nlp.bert.tokenization as tokenization\n",
        "import official.nlp.optimization as optimization\n",
        "\n",
        "from sklearn.metrics import confusion_matrix, classification_report \n",
        "from sklearn.preprocessing import LabelEncoder\n",
        "\n",
        "print(\"TF version: \", tf.__version__)\n",
        "print(\"Hub version: \", hub.__version__)\n",
        "print('GPU is available' if tf.config.experimental.list_physical_devices('GPU') else 'CPU')"
      ],
      "execution_count": 3,
      "outputs": [
        {
          "output_type": "stream",
          "text": [
            "TF version:  2.4.0-dev20200813\n",
            "Hub version:  0.8.0\n",
            "GPU is available\n"
          ],
          "name": "stdout"
        }
      ]
    },
    {
      "cell_type": "code",
      "metadata": {
        "id": "exKvZGuwA6yf",
        "colab_type": "code",
        "colab": {
          "base_uri": "https://localhost:8080/",
          "height": 35
        },
        "outputId": "ba62da55-93c1-46ff-85ab-46018cbb29bf"
      },
      "source": [
        "from google.colab import drive\n",
        "drive.mount('/content/drive', force_remount=True)\n",
        "path = '/content/drive/My Drive/EmotionX_2019/'"
      ],
      "execution_count": 5,
      "outputs": [
        {
          "output_type": "stream",
          "text": [
            "Mounted at /content/drive\n"
          ],
          "name": "stdout"
        }
      ]
    },
    {
      "cell_type": "code",
      "metadata": {
        "id": "nig473-3XC-i",
        "colab_type": "code",
        "colab": {}
      },
      "source": [
        "seed_value=2020\n",
        "np.random.seed(seed_value)\n",
        "tf.random.set_seed(seed_value)"
      ],
      "execution_count": 6,
      "outputs": []
    },
    {
      "cell_type": "markdown",
      "metadata": {
        "id": "qKO-3-g7gzyV",
        "colab_type": "text"
      },
      "source": [
        "### Load EmotionX 2019"
      ]
    },
    {
      "cell_type": "code",
      "metadata": {
        "id": "RMfmzuJFMuQH",
        "colab_type": "code",
        "colab": {
          "base_uri": "https://localhost:8080/",
          "height": 284
        },
        "outputId": "0d55631d-f5df-43e5-d5c7-156003b4fabe"
      },
      "source": [
        "train_original = pd.read_json(path+'emotionx_data/2019_Train_Friends/Friends/friends.json')\n",
        "print(train_original.shape)\n",
        "train_original.head(2)"
      ],
      "execution_count": 7,
      "outputs": [
        {
          "output_type": "stream",
          "text": [
            "(1000, 24)\n"
          ],
          "name": "stdout"
        },
        {
          "output_type": "execute_result",
          "data": {
            "text/html": [
              "<div>\n",
              "<style scoped>\n",
              "    .dataframe tbody tr th:only-of-type {\n",
              "        vertical-align: middle;\n",
              "    }\n",
              "\n",
              "    .dataframe tbody tr th {\n",
              "        vertical-align: top;\n",
              "    }\n",
              "\n",
              "    .dataframe thead th {\n",
              "        text-align: right;\n",
              "    }\n",
              "</style>\n",
              "<table border=\"1\" class=\"dataframe\">\n",
              "  <thead>\n",
              "    <tr style=\"text-align: right;\">\n",
              "      <th></th>\n",
              "      <th>0</th>\n",
              "      <th>1</th>\n",
              "      <th>2</th>\n",
              "      <th>3</th>\n",
              "      <th>4</th>\n",
              "      <th>5</th>\n",
              "      <th>6</th>\n",
              "      <th>7</th>\n",
              "      <th>8</th>\n",
              "      <th>9</th>\n",
              "      <th>10</th>\n",
              "      <th>11</th>\n",
              "      <th>12</th>\n",
              "      <th>13</th>\n",
              "      <th>14</th>\n",
              "      <th>15</th>\n",
              "      <th>16</th>\n",
              "      <th>17</th>\n",
              "      <th>18</th>\n",
              "      <th>19</th>\n",
              "      <th>20</th>\n",
              "      <th>21</th>\n",
              "      <th>22</th>\n",
              "      <th>23</th>\n",
              "    </tr>\n",
              "  </thead>\n",
              "  <tbody>\n",
              "    <tr>\n",
              "      <th>0</th>\n",
              "      <td>{'speaker': 'Phoebe', 'utterance': 'Oh my God,...</td>\n",
              "      <td>{'speaker': 'Monica', 'utterance': 'What?', 'e...</td>\n",
              "      <td>{'speaker': 'Ross', 'utterance': 'Or! Or, we c...</td>\n",
              "      <td>{'speaker': 'Chandler', 'utterance': 'Youre a...</td>\n",
              "      <td>{'speaker': 'Joey', 'utterance': 'Aww, man, no...</td>\n",
              "      <td>{'speaker': 'Chandler', 'utterance': 'Now, the...</td>\n",
              "      <td>{'speaker': 'Phoebe', 'utterance': 'Hey.', 'em...</td>\n",
              "      <td>{'speaker': 'All', 'utterance': 'Hey!', 'emoti...</td>\n",
              "      <td>{'speaker': 'Phoebe', 'utterance': 'Ohh, you g...</td>\n",
              "      <td>{'speaker': 'Rachel', 'utterance': 'Where?!', ...</td>\n",
              "      <td>{'speaker': 'Phoebe', 'utterance': 'On the tou...</td>\n",
              "      <td>{'speaker': 'Ross', 'utterance': 'And', 'emoti...</td>\n",
              "      <td>{'speaker': 'Phoebe', 'utterance': 'No, I know...</td>\n",
              "      <td>{'speaker': 'Phoebe', 'utterance': 'I-Im sorr...</td>\n",
              "      <td>{'speaker': 'Monica', 'utterance': 'Well, next...</td>\n",
              "      <td>{'speaker': 'Joey', 'utterance': 'Yeah! Yeah! ...</td>\n",
              "      <td>{'speaker': 'Chandler', 'utterance': 'Thank yo...</td>\n",
              "      <td>{'speaker': 'Joey', 'utterance': 'No-no, thank...</td>\n",
              "      <td>None</td>\n",
              "      <td>None</td>\n",
              "      <td>None</td>\n",
              "      <td>None</td>\n",
              "      <td>None</td>\n",
              "      <td>None</td>\n",
              "    </tr>\n",
              "    <tr>\n",
              "      <th>1</th>\n",
              "      <td>{'speaker': 'Joey', 'utterance': 'Hey Estelle,...</td>\n",
              "      <td>{'speaker': 'Estelle', 'utterance': 'Well! Wel...</td>\n",
              "      <td>{'speaker': 'Joey', 'utterance': 'What are you...</td>\n",
              "      <td>{'speaker': 'Estelle', 'utterance': 'Really?!'...</td>\n",
              "      <td>{'speaker': 'Joey', 'utterance': 'Yeah!', 'emo...</td>\n",
              "      <td>{'speaker': 'Estelle', 'utterance': 'Oh well, ...</td>\n",
              "      <td>{'speaker': 'Gary', 'utterance': 'Okay, you gu...</td>\n",
              "      <td>{'speaker': 'Ross', 'utterance': 'Yeah!!', 'em...</td>\n",
              "      <td>{'speaker': 'Chandler', 'utterance': 'Tonight?...</td>\n",
              "      <td>None</td>\n",
              "      <td>None</td>\n",
              "      <td>None</td>\n",
              "      <td>None</td>\n",
              "      <td>None</td>\n",
              "      <td>None</td>\n",
              "      <td>None</td>\n",
              "      <td>None</td>\n",
              "      <td>None</td>\n",
              "      <td>None</td>\n",
              "      <td>None</td>\n",
              "      <td>None</td>\n",
              "      <td>None</td>\n",
              "      <td>None</td>\n",
              "      <td>None</td>\n",
              "    </tr>\n",
              "  </tbody>\n",
              "</table>\n",
              "</div>"
            ],
            "text/plain": [
              "                                                   0  ...    23\n",
              "0  {'speaker': 'Phoebe', 'utterance': 'Oh my God,...  ...  None\n",
              "1  {'speaker': 'Joey', 'utterance': 'Hey Estelle,...  ...  None\n",
              "\n",
              "[2 rows x 24 columns]"
            ]
          },
          "metadata": {
            "tags": []
          },
          "execution_count": 7
        }
      ]
    },
    {
      "cell_type": "code",
      "metadata": {
        "id": "1gS03SerR5f8",
        "colab_type": "code",
        "colab": {
          "base_uri": "https://localhost:8080/",
          "height": 284
        },
        "outputId": "7321ae1d-64d1-4946-8609-56ed581c0e64"
      },
      "source": [
        "# augmented data (round-trip translation)\n",
        "train_augmented = pd.read_json(path+'emotionx_data/2019_Train_Friends/Friends/friends.augmented.json')\n",
        "print(train_augmented.shape)\n",
        "train_augmented.sample(2)"
      ],
      "execution_count": 8,
      "outputs": [
        {
          "output_type": "stream",
          "text": [
            "(1000, 24)\n"
          ],
          "name": "stdout"
        },
        {
          "output_type": "execute_result",
          "data": {
            "text/html": [
              "<div>\n",
              "<style scoped>\n",
              "    .dataframe tbody tr th:only-of-type {\n",
              "        vertical-align: middle;\n",
              "    }\n",
              "\n",
              "    .dataframe tbody tr th {\n",
              "        vertical-align: top;\n",
              "    }\n",
              "\n",
              "    .dataframe thead th {\n",
              "        text-align: right;\n",
              "    }\n",
              "</style>\n",
              "<table border=\"1\" class=\"dataframe\">\n",
              "  <thead>\n",
              "    <tr style=\"text-align: right;\">\n",
              "      <th></th>\n",
              "      <th>0</th>\n",
              "      <th>1</th>\n",
              "      <th>2</th>\n",
              "      <th>3</th>\n",
              "      <th>4</th>\n",
              "      <th>5</th>\n",
              "      <th>6</th>\n",
              "      <th>7</th>\n",
              "      <th>8</th>\n",
              "      <th>9</th>\n",
              "      <th>10</th>\n",
              "      <th>11</th>\n",
              "      <th>12</th>\n",
              "      <th>13</th>\n",
              "      <th>14</th>\n",
              "      <th>15</th>\n",
              "      <th>16</th>\n",
              "      <th>17</th>\n",
              "      <th>18</th>\n",
              "      <th>19</th>\n",
              "      <th>20</th>\n",
              "      <th>21</th>\n",
              "      <th>22</th>\n",
              "      <th>23</th>\n",
              "    </tr>\n",
              "  </thead>\n",
              "  <tbody>\n",
              "    <tr>\n",
              "      <th>725</th>\n",
              "      <td>{'speaker': 'Monica', 'utterance': 'Hey! What ...</td>\n",
              "      <td>{'speaker': 'Joey', 'utterance': 'I don't know...</td>\n",
              "      <td>{'speaker': 'Joey', 'utterance': 'It's not lik...</td>\n",
              "      <td>{'speaker': 'Joey', 'utterance': 'This is a se...</td>\n",
              "      <td>{'speaker': 'Joey', 'utterance': 'Y'know?', 'e...</td>\n",
              "      <td>{'speaker': 'Joey', 'utterance': 'And the nudi...</td>\n",
              "      <td>{'speaker': 'Monica', 'utterance': 'That's wha...</td>\n",
              "      <td>{'speaker': 'Joey', 'utterance': 'You're right...</td>\n",
              "      <td>{'speaker': 'Monica', 'utterance': 'No! No you...</td>\n",
              "      <td>{'speaker': 'Joey', 'utterance': 'Well that's ...</td>\n",
              "      <td>{'speaker': 'Joey', 'utterance': 'And I am onl...</td>\n",
              "      <td>{'speaker': 'Joey', 'utterance': 'Plus it soun...</td>\n",
              "      <td>{'speaker': 'Joey', 'utterance': 'My character...</td>\n",
              "      <td>{'speaker': 'Joey', 'utterance': 'Who run away...</td>\n",
              "      <td>{'speaker': 'Joey', 'utterance': 'So we go int...</td>\n",
              "      <td>{'speaker': 'Joey', 'utterance': 'It's really ...</td>\n",
              "      <td>None</td>\n",
              "      <td>None</td>\n",
              "      <td>None</td>\n",
              "      <td>None</td>\n",
              "      <td>None</td>\n",
              "      <td>None</td>\n",
              "      <td>None</td>\n",
              "      <td>None</td>\n",
              "    </tr>\n",
              "    <tr>\n",
              "      <th>986</th>\n",
              "      <td>{'speaker': 'Chandler', 'utterance': 'How abou...</td>\n",
              "      <td>{'speaker': 'Joey', 'utterance': 'No, still to...</td>\n",
              "      <td>{'speaker': 'Chandler', 'utterance': 'Joey... ...</td>\n",
              "      <td>{'speaker': 'Joey', 'utterance': 'Plus, y'know...</td>\n",
              "      <td>{'speaker': 'Joey', 'utterance': 'Y'know, Joey...</td>\n",
              "      <td>{'speaker': 'Joey', 'utterance': 'Which I'm no...</td>\n",
              "      <td>{'speaker': 'Chandler', 'utterance': 'Joe...Jo...</td>\n",
              "      <td>{'speaker': 'Joey', 'utterance': 'Stalin...Sta...</td>\n",
              "      <td>{'speaker': 'Chandler', 'utterance': 'Well, it...</td>\n",
              "      <td>{'speaker': 'Joey', 'utterance': 'Joe Stalin. ...</td>\n",
              "      <td>{'speaker': 'Chandler', 'utterance': 'Might wa...</td>\n",
              "      <td>{'speaker': 'Joey', 'utterance': 'Joseph Stali...</td>\n",
              "      <td>{'speaker': 'Chandler', 'utterance': 'Oh yes! ...</td>\n",
              "      <td>None</td>\n",
              "      <td>None</td>\n",
              "      <td>None</td>\n",
              "      <td>None</td>\n",
              "      <td>None</td>\n",
              "      <td>None</td>\n",
              "      <td>None</td>\n",
              "      <td>None</td>\n",
              "      <td>None</td>\n",
              "      <td>None</td>\n",
              "      <td>None</td>\n",
              "    </tr>\n",
              "  </tbody>\n",
              "</table>\n",
              "</div>"
            ],
            "text/plain": [
              "                                                     0  ...    23\n",
              "725  {'speaker': 'Monica', 'utterance': 'Hey! What ...  ...  None\n",
              "986  {'speaker': 'Chandler', 'utterance': 'How abou...  ...  None\n",
              "\n",
              "[2 rows x 24 columns]"
            ]
          },
          "metadata": {
            "tags": []
          },
          "execution_count": 8
        }
      ]
    },
    {
      "cell_type": "code",
      "metadata": {
        "id": "nbEn1NJRSxfj",
        "colab_type": "code",
        "colab": {
          "base_uri": "https://localhost:8080/",
          "height": 35
        },
        "outputId": "f3c5e98f-0eae-472d-d6ed-b6197f56986b"
      },
      "source": [
        "# concatenate the regular and augmented\n",
        "train_df = pd.concat([train_original, train_augmented], axis=0)\n",
        "train_df.index = range(len(train_df))\n",
        "train_df.shape"
      ],
      "execution_count": 9,
      "outputs": [
        {
          "output_type": "execute_result",
          "data": {
            "text/plain": [
              "(2000, 24)"
            ]
          },
          "metadata": {
            "tags": []
          },
          "execution_count": 9
        }
      ]
    },
    {
      "cell_type": "code",
      "metadata": {
        "id": "s8PwICfeSVVM",
        "colab_type": "code",
        "colab": {
          "base_uri": "https://localhost:8080/",
          "height": 284
        },
        "outputId": "65818b73-66af-4171-e953-2828bf1308f9"
      },
      "source": [
        "test_df = pd.read_json(path+'emotionx_data/2019_Eval_Labeled/friends_eval_gold.json')\n",
        "print(test_df.shape)\n",
        "test_df.sample(2)"
      ],
      "execution_count": 10,
      "outputs": [
        {
          "output_type": "stream",
          "text": [
            "(240, 24)\n"
          ],
          "name": "stdout"
        },
        {
          "output_type": "execute_result",
          "data": {
            "text/html": [
              "<div>\n",
              "<style scoped>\n",
              "    .dataframe tbody tr th:only-of-type {\n",
              "        vertical-align: middle;\n",
              "    }\n",
              "\n",
              "    .dataframe tbody tr th {\n",
              "        vertical-align: top;\n",
              "    }\n",
              "\n",
              "    .dataframe thead th {\n",
              "        text-align: right;\n",
              "    }\n",
              "</style>\n",
              "<table border=\"1\" class=\"dataframe\">\n",
              "  <thead>\n",
              "    <tr style=\"text-align: right;\">\n",
              "      <th></th>\n",
              "      <th>0</th>\n",
              "      <th>1</th>\n",
              "      <th>2</th>\n",
              "      <th>3</th>\n",
              "      <th>4</th>\n",
              "      <th>5</th>\n",
              "      <th>6</th>\n",
              "      <th>7</th>\n",
              "      <th>8</th>\n",
              "      <th>9</th>\n",
              "      <th>10</th>\n",
              "      <th>11</th>\n",
              "      <th>12</th>\n",
              "      <th>13</th>\n",
              "      <th>14</th>\n",
              "      <th>15</th>\n",
              "      <th>16</th>\n",
              "      <th>17</th>\n",
              "      <th>18</th>\n",
              "      <th>19</th>\n",
              "      <th>20</th>\n",
              "      <th>21</th>\n",
              "      <th>22</th>\n",
              "      <th>23</th>\n",
              "    </tr>\n",
              "  </thead>\n",
              "  <tbody>\n",
              "    <tr>\n",
              "      <th>99</th>\n",
              "      <td>{'speaker': 'Chandler', 'utterance': 'Did she ...</td>\n",
              "      <td>{'speaker': 'Phoebe', 'utterance': 'No, sorry....</td>\n",
              "      <td>{'speaker': 'Chandler', 'utterance': 'All righ...</td>\n",
              "      <td>{'speaker': 'Joey', 'utterance': 'No! Forget h...</td>\n",
              "      <td>{'speaker': 'Ross', 'utterance': 'Hes right, ...</td>\n",
              "      <td>{'speaker': 'Chandler', 'utterance': 'Well, ye...</td>\n",
              "      <td>{'speaker': 'Ross', 'utterance': 'How might yo...</td>\n",
              "      <td>{'speaker': 'Chandler', 'utterance': 'Well y'k...</td>\n",
              "      <td>{'speaker': 'Joey', 'utterance': 'Dude, tell m...</td>\n",
              "      <td>{'speaker': 'Chandler', 'utterance': 'She did ...</td>\n",
              "      <td>{'speaker': 'Ross', 'utterance': 'Thats all y...</td>\n",
              "      <td>{'speaker': 'Chandler', 'utterance': 'Thats n...</td>\n",
              "      <td>{'speaker': 'Joey', 'utterance': 'Whoa-whoa, t...</td>\n",
              "      <td>{'speaker': 'Chandler', 'utterance': 'Oh my Go...</td>\n",
              "      <td>None</td>\n",
              "      <td>None</td>\n",
              "      <td>None</td>\n",
              "      <td>None</td>\n",
              "      <td>None</td>\n",
              "      <td>None</td>\n",
              "      <td>None</td>\n",
              "      <td>None</td>\n",
              "      <td>None</td>\n",
              "      <td>None</td>\n",
              "    </tr>\n",
              "    <tr>\n",
              "      <th>26</th>\n",
              "      <td>{'speaker': 'Joey', 'utterance': 'So thats wh...</td>\n",
              "      <td>{'speaker': 'Casting Director #2', 'utterance'...</td>\n",
              "      <td>{'speaker': 'Joey', 'utterance': 'Exactly.', '...</td>\n",
              "      <td>{'speaker': 'Casting Director #2', 'utterance'...</td>\n",
              "      <td>{'speaker': 'Joey', 'utterance': 'Or, I could ...</td>\n",
              "      <td>{'speaker': 'Casting Director #2', 'utterance'...</td>\n",
              "      <td>{'speaker': 'Joey', 'utterance': 'Yeah, okay.'...</td>\n",
              "      <td>None</td>\n",
              "      <td>None</td>\n",
              "      <td>None</td>\n",
              "      <td>None</td>\n",
              "      <td>None</td>\n",
              "      <td>None</td>\n",
              "      <td>None</td>\n",
              "      <td>None</td>\n",
              "      <td>None</td>\n",
              "      <td>None</td>\n",
              "      <td>None</td>\n",
              "      <td>None</td>\n",
              "      <td>None</td>\n",
              "      <td>None</td>\n",
              "      <td>None</td>\n",
              "      <td>None</td>\n",
              "      <td>None</td>\n",
              "    </tr>\n",
              "  </tbody>\n",
              "</table>\n",
              "</div>"
            ],
            "text/plain": [
              "                                                    0  ...    23\n",
              "99  {'speaker': 'Chandler', 'utterance': 'Did she ...  ...  None\n",
              "26  {'speaker': 'Joey', 'utterance': 'So thats wh...  ...  None\n",
              "\n",
              "[2 rows x 24 columns]"
            ]
          },
          "metadata": {
            "tags": []
          },
          "execution_count": 10
        }
      ]
    },
    {
      "cell_type": "code",
      "metadata": {
        "id": "s3eCFTOhNIZ9",
        "colab_type": "code",
        "colab": {}
      },
      "source": [
        ""
      ],
      "execution_count": 10,
      "outputs": []
    },
    {
      "cell_type": "code",
      "metadata": {
        "id": "Rk-d57eyMyyC",
        "colab_type": "code",
        "colab": {}
      },
      "source": [
        "def flatten_dialogs(df):\n",
        "    speaker, utterance, preceding, emotion  = [], [], [], []\n",
        "    for r, row in df.iterrows():\n",
        "        for i in range(len(df.columns)):\n",
        "            if row[i] is not None:\n",
        "                speaker.append(row[i]['speaker'])\n",
        "                emotion.append(row[i]['emotion'])\n",
        "                utterance.append(row[i]['utterance'].replace('\\x92', '`'))\n",
        "                preceding.append('Start of the dialog:') if i==0 else preceding.append(utterance[-2])\n",
        "\n",
        "    return pd.DataFrame(zip(speaker, preceding, utterance, emotion), \n",
        "                        columns =['speaker', 'preceding', 'utterance', 'emotion'])    "
      ],
      "execution_count": 11,
      "outputs": []
    },
    {
      "cell_type": "code",
      "metadata": {
        "id": "Pyv5IxrxXGFO",
        "colab_type": "code",
        "colab": {
          "base_uri": "https://localhost:8080/",
          "height": 198
        },
        "outputId": "49c924d9-1f7a-4d3b-873b-d55a1ecfba2f"
      },
      "source": [
        "train_df = flatten_dialogs(train_df)\n",
        "train_df.head()"
      ],
      "execution_count": 12,
      "outputs": [
        {
          "output_type": "execute_result",
          "data": {
            "text/html": [
              "<div>\n",
              "<style scoped>\n",
              "    .dataframe tbody tr th:only-of-type {\n",
              "        vertical-align: middle;\n",
              "    }\n",
              "\n",
              "    .dataframe tbody tr th {\n",
              "        vertical-align: top;\n",
              "    }\n",
              "\n",
              "    .dataframe thead th {\n",
              "        text-align: right;\n",
              "    }\n",
              "</style>\n",
              "<table border=\"1\" class=\"dataframe\">\n",
              "  <thead>\n",
              "    <tr style=\"text-align: right;\">\n",
              "      <th></th>\n",
              "      <th>speaker</th>\n",
              "      <th>preceding</th>\n",
              "      <th>utterance</th>\n",
              "      <th>emotion</th>\n",
              "    </tr>\n",
              "  </thead>\n",
              "  <tbody>\n",
              "    <tr>\n",
              "      <th>0</th>\n",
              "      <td>Phoebe</td>\n",
              "      <td>Start of the dialog:</td>\n",
              "      <td>Oh my God, he`s lost it. He`s totally lost it.</td>\n",
              "      <td>non-neutral</td>\n",
              "    </tr>\n",
              "    <tr>\n",
              "      <th>1</th>\n",
              "      <td>Monica</td>\n",
              "      <td>Oh my God, he`s lost it. He`s totally lost it.</td>\n",
              "      <td>What?</td>\n",
              "      <td>surprise</td>\n",
              "    </tr>\n",
              "    <tr>\n",
              "      <th>2</th>\n",
              "      <td>Ross</td>\n",
              "      <td>What?</td>\n",
              "      <td>Or! Or, we could go to the bank, close our acc...</td>\n",
              "      <td>neutral</td>\n",
              "    </tr>\n",
              "    <tr>\n",
              "      <th>3</th>\n",
              "      <td>Chandler</td>\n",
              "      <td>Or! Or, we could go to the bank, close our acc...</td>\n",
              "      <td>You`re a genius!</td>\n",
              "      <td>joy</td>\n",
              "    </tr>\n",
              "    <tr>\n",
              "      <th>4</th>\n",
              "      <td>Joey</td>\n",
              "      <td>You`re a genius!</td>\n",
              "      <td>Aww, man, now we won`t be bank buddies!</td>\n",
              "      <td>sadness</td>\n",
              "    </tr>\n",
              "  </tbody>\n",
              "</table>\n",
              "</div>"
            ],
            "text/plain": [
              "    speaker  ...      emotion\n",
              "0    Phoebe  ...  non-neutral\n",
              "1    Monica  ...     surprise\n",
              "2      Ross  ...      neutral\n",
              "3  Chandler  ...          joy\n",
              "4      Joey  ...      sadness\n",
              "\n",
              "[5 rows x 4 columns]"
            ]
          },
          "metadata": {
            "tags": []
          },
          "execution_count": 12
        }
      ]
    },
    {
      "cell_type": "code",
      "metadata": {
        "id": "5259_BtYgpaL",
        "colab_type": "code",
        "colab": {
          "base_uri": "https://localhost:8080/",
          "height": 233
        },
        "outputId": "55f55a9f-45ca-4c29-a4cd-005fa720ea58"
      },
      "source": [
        "test_df = flatten_dialogs(test_df)\n",
        "test_df.head()"
      ],
      "execution_count": 13,
      "outputs": [
        {
          "output_type": "execute_result",
          "data": {
            "text/html": [
              "<div>\n",
              "<style scoped>\n",
              "    .dataframe tbody tr th:only-of-type {\n",
              "        vertical-align: middle;\n",
              "    }\n",
              "\n",
              "    .dataframe tbody tr th {\n",
              "        vertical-align: top;\n",
              "    }\n",
              "\n",
              "    .dataframe thead th {\n",
              "        text-align: right;\n",
              "    }\n",
              "</style>\n",
              "<table border=\"1\" class=\"dataframe\">\n",
              "  <thead>\n",
              "    <tr style=\"text-align: right;\">\n",
              "      <th></th>\n",
              "      <th>speaker</th>\n",
              "      <th>preceding</th>\n",
              "      <th>utterance</th>\n",
              "      <th>emotion</th>\n",
              "    </tr>\n",
              "  </thead>\n",
              "  <tbody>\n",
              "    <tr>\n",
              "      <th>0</th>\n",
              "      <td>Phoebe</td>\n",
              "      <td>Start of the dialog:</td>\n",
              "      <td>Alright, whadyou do with him?</td>\n",
              "      <td>non-neutral</td>\n",
              "    </tr>\n",
              "    <tr>\n",
              "      <th>1</th>\n",
              "      <td>Monica</td>\n",
              "      <td>Alright, whadyou do with him?</td>\n",
              "      <td>Oh! You're awake!</td>\n",
              "      <td>surprise</td>\n",
              "    </tr>\n",
              "    <tr>\n",
              "      <th>2</th>\n",
              "      <td>Joey</td>\n",
              "      <td>Oh! You're awake!</td>\n",
              "      <td>Then you gotta come clean with Ma! This is not...</td>\n",
              "      <td>anger</td>\n",
              "    </tr>\n",
              "    <tr>\n",
              "      <th>3</th>\n",
              "      <td>Mr. Tribbiani</td>\n",
              "      <td>Then you gotta come clean with Ma! This is not...</td>\n",
              "      <td>Yeah, but this is</td>\n",
              "      <td>neutral</td>\n",
              "    </tr>\n",
              "    <tr>\n",
              "      <th>4</th>\n",
              "      <td>Joey</td>\n",
              "      <td>Yeah, but this is</td>\n",
              "      <td>I don't wanna hear it! Now go to my room!</td>\n",
              "      <td>anger</td>\n",
              "    </tr>\n",
              "  </tbody>\n",
              "</table>\n",
              "</div>"
            ],
            "text/plain": [
              "         speaker  ...      emotion\n",
              "0         Phoebe  ...  non-neutral\n",
              "1         Monica  ...     surprise\n",
              "2           Joey  ...        anger\n",
              "3  Mr. Tribbiani  ...      neutral\n",
              "4           Joey  ...        anger\n",
              "\n",
              "[5 rows x 4 columns]"
            ]
          },
          "metadata": {
            "tags": []
          },
          "execution_count": 13
        }
      ]
    },
    {
      "cell_type": "code",
      "metadata": {
        "id": "kIxgyoLj0nJ_",
        "colab_type": "code",
        "colab": {
          "base_uri": "https://localhost:8080/",
          "height": 52
        },
        "outputId": "2c0b34a5-7d79-4a15-e002-5a04508bf2ce"
      },
      "source": [
        "print(train_df.shape)\n",
        "print(test_df.shape)"
      ],
      "execution_count": 14,
      "outputs": [
        {
          "output_type": "stream",
          "text": [
            "(29006, 4)\n",
            "(3296, 4)\n"
          ],
          "name": "stdout"
        }
      ]
    },
    {
      "cell_type": "markdown",
      "metadata": {
        "id": "rIr7yOWCgqA4",
        "colab_type": "text"
      },
      "source": [
        "### Process train/test"
      ]
    },
    {
      "cell_type": "code",
      "metadata": {
        "id": "qj3X-5vJXGHU",
        "colab_type": "code",
        "colab": {
          "base_uri": "https://localhost:8080/",
          "height": 138
        },
        "outputId": "4289942b-2def-47cf-c15d-c46c3d959e2b"
      },
      "source": [
        "# There are more speakers than the main 6 characters:\n",
        "print(len(train_df.speaker.unique()))\n",
        "train_df.speaker.unique()[:30]"
      ],
      "execution_count": 15,
      "outputs": [
        {
          "output_type": "stream",
          "text": [
            "309\n"
          ],
          "name": "stdout"
        },
        {
          "output_type": "execute_result",
          "data": {
            "text/plain": [
              "array(['Phoebe', 'Monica', 'Ross', 'Chandler', 'Joey', 'All', 'Rachel',\n",
              "       'Estelle', 'Gary', 'Guy', 'Woman', 'Mrs. Green', 'Dr. Harad',\n",
              "       'Frank', 'Alice', 'Bob', 'Whitney', 'Kyle', 'Passerby', 'Susan',\n",
              "       'Cookie', 'Kori', 'Dr. Long', 'Carol', 'Mark', 'TV Announcer',\n",
              "       'The Hot Girl', 'Jen', 'Monica and Rachel', 'The Dry Cleaner'],\n",
              "      dtype=object)"
            ]
          },
          "metadata": {
            "tags": []
          },
          "execution_count": 15
        }
      ]
    },
    {
      "cell_type": "code",
      "metadata": {
        "id": "dU6frSuvVfvG",
        "colab_type": "code",
        "colab": {
          "base_uri": "https://localhost:8080/",
          "height": 35
        },
        "outputId": "fa0b5c8a-901e-4ca6-aae0-9baddc925dd0"
      },
      "source": [
        "main_characters = train_df.speaker.value_counts()[:6].index.tolist()\n",
        "print(main_characters)"
      ],
      "execution_count": 16,
      "outputs": [
        {
          "output_type": "stream",
          "text": [
            "['Ross', 'Joey', 'Rachel', 'Phoebe', 'Monica', 'Chandler']\n"
          ],
          "name": "stdout"
        }
      ]
    },
    {
      "cell_type": "code",
      "metadata": {
        "id": "YvGEKqhhUEym",
        "colab_type": "code",
        "colab": {
          "base_uri": "https://localhost:8080/",
          "height": 155
        },
        "outputId": "778110cc-1aa3-4342-df81-7f1c5584fc36"
      },
      "source": [
        "# Label all non-main speakers as 'Other'\n",
        "train_df.speaker = train_df.speaker.apply(lambda x: x if x in main_characters else 'Other')\n",
        "test_df.speaker = test_df.speaker.apply(lambda x: x if x in main_characters else 'Other')\n",
        "\n",
        "train_df.speaker.value_counts()"
      ],
      "execution_count": 17,
      "outputs": [
        {
          "output_type": "execute_result",
          "data": {
            "text/plain": [
              "Other       4808\n",
              "Ross        4332\n",
              "Joey        4326\n",
              "Rachel      4190\n",
              "Phoebe      3852\n",
              "Monica      3776\n",
              "Chandler    3722\n",
              "Name: speaker, dtype: int64"
            ]
          },
          "metadata": {
            "tags": []
          },
          "execution_count": 17
        }
      ]
    },
    {
      "cell_type": "markdown",
      "metadata": {
        "id": "hwzdtRK-ZxxW",
        "colab_type": "text"
      },
      "source": [
        "Explore the distribution of emotions:"
      ]
    },
    {
      "cell_type": "code",
      "metadata": {
        "id": "slEoL51jdX1t",
        "colab_type": "code",
        "colab": {
          "base_uri": "https://localhost:8080/",
          "height": 318
        },
        "outputId": "fb29ad69-9233-4729-aaf1-6d6a08befe0d"
      },
      "source": [
        "speaker_emotions = train_df.groupby(['speaker', 'emotion']).count().reset_index()\n",
        "speaker_emotions = speaker_emotions.pivot_table(index='speaker', columns='emotion', values='utterance', \n",
        "                                                aggfunc=np.sum, margins=True)\n",
        "speaker_emotions"
      ],
      "execution_count": 18,
      "outputs": [
        {
          "output_type": "execute_result",
          "data": {
            "text/html": [
              "<div>\n",
              "<style scoped>\n",
              "    .dataframe tbody tr th:only-of-type {\n",
              "        vertical-align: middle;\n",
              "    }\n",
              "\n",
              "    .dataframe tbody tr th {\n",
              "        vertical-align: top;\n",
              "    }\n",
              "\n",
              "    .dataframe thead th {\n",
              "        text-align: right;\n",
              "    }\n",
              "</style>\n",
              "<table border=\"1\" class=\"dataframe\">\n",
              "  <thead>\n",
              "    <tr style=\"text-align: right;\">\n",
              "      <th>emotion</th>\n",
              "      <th>anger</th>\n",
              "      <th>disgust</th>\n",
              "      <th>fear</th>\n",
              "      <th>joy</th>\n",
              "      <th>neutral</th>\n",
              "      <th>non-neutral</th>\n",
              "      <th>sadness</th>\n",
              "      <th>surprise</th>\n",
              "      <th>All</th>\n",
              "    </tr>\n",
              "    <tr>\n",
              "      <th>speaker</th>\n",
              "      <th></th>\n",
              "      <th></th>\n",
              "      <th></th>\n",
              "      <th></th>\n",
              "      <th></th>\n",
              "      <th></th>\n",
              "      <th></th>\n",
              "      <th></th>\n",
              "      <th></th>\n",
              "    </tr>\n",
              "  </thead>\n",
              "  <tbody>\n",
              "    <tr>\n",
              "      <th>Chandler</th>\n",
              "      <td>122</td>\n",
              "      <td>102</td>\n",
              "      <td>90</td>\n",
              "      <td>398</td>\n",
              "      <td>1742</td>\n",
              "      <td>772</td>\n",
              "      <td>92</td>\n",
              "      <td>404</td>\n",
              "      <td>3722</td>\n",
              "    </tr>\n",
              "    <tr>\n",
              "      <th>Joey</th>\n",
              "      <td>214</td>\n",
              "      <td>90</td>\n",
              "      <td>70</td>\n",
              "      <td>550</td>\n",
              "      <td>1960</td>\n",
              "      <td>816</td>\n",
              "      <td>120</td>\n",
              "      <td>506</td>\n",
              "      <td>4326</td>\n",
              "    </tr>\n",
              "    <tr>\n",
              "      <th>Monica</th>\n",
              "      <td>208</td>\n",
              "      <td>132</td>\n",
              "      <td>48</td>\n",
              "      <td>452</td>\n",
              "      <td>1568</td>\n",
              "      <td>790</td>\n",
              "      <td>96</td>\n",
              "      <td>482</td>\n",
              "      <td>3776</td>\n",
              "    </tr>\n",
              "    <tr>\n",
              "      <th>Other</th>\n",
              "      <td>246</td>\n",
              "      <td>70</td>\n",
              "      <td>78</td>\n",
              "      <td>572</td>\n",
              "      <td>2470</td>\n",
              "      <td>718</td>\n",
              "      <td>172</td>\n",
              "      <td>482</td>\n",
              "      <td>4808</td>\n",
              "    </tr>\n",
              "    <tr>\n",
              "      <th>Phoebe</th>\n",
              "      <td>228</td>\n",
              "      <td>94</td>\n",
              "      <td>60</td>\n",
              "      <td>464</td>\n",
              "      <td>1664</td>\n",
              "      <td>734</td>\n",
              "      <td>150</td>\n",
              "      <td>458</td>\n",
              "      <td>3852</td>\n",
              "    </tr>\n",
              "    <tr>\n",
              "      <th>Rachel</th>\n",
              "      <td>252</td>\n",
              "      <td>86</td>\n",
              "      <td>64</td>\n",
              "      <td>506</td>\n",
              "      <td>1644</td>\n",
              "      <td>872</td>\n",
              "      <td>198</td>\n",
              "      <td>568</td>\n",
              "      <td>4190</td>\n",
              "    </tr>\n",
              "    <tr>\n",
              "      <th>Ross</th>\n",
              "      <td>248</td>\n",
              "      <td>88</td>\n",
              "      <td>82</td>\n",
              "      <td>478</td>\n",
              "      <td>2012</td>\n",
              "      <td>842</td>\n",
              "      <td>168</td>\n",
              "      <td>414</td>\n",
              "      <td>4332</td>\n",
              "    </tr>\n",
              "    <tr>\n",
              "      <th>All</th>\n",
              "      <td>1518</td>\n",
              "      <td>662</td>\n",
              "      <td>492</td>\n",
              "      <td>3420</td>\n",
              "      <td>13060</td>\n",
              "      <td>5544</td>\n",
              "      <td>996</td>\n",
              "      <td>3314</td>\n",
              "      <td>29006</td>\n",
              "    </tr>\n",
              "  </tbody>\n",
              "</table>\n",
              "</div>"
            ],
            "text/plain": [
              "emotion   anger  disgust  fear   joy  ...  non-neutral  sadness  surprise    All\n",
              "speaker                               ...                                       \n",
              "Chandler    122      102    90   398  ...          772       92       404   3722\n",
              "Joey        214       90    70   550  ...          816      120       506   4326\n",
              "Monica      208      132    48   452  ...          790       96       482   3776\n",
              "Other       246       70    78   572  ...          718      172       482   4808\n",
              "Phoebe      228       94    60   464  ...          734      150       458   3852\n",
              "Rachel      252       86    64   506  ...          872      198       568   4190\n",
              "Ross        248       88    82   478  ...          842      168       414   4332\n",
              "All        1518      662   492  3420  ...         5544      996      3314  29006\n",
              "\n",
              "[8 rows x 9 columns]"
            ]
          },
          "metadata": {
            "tags": []
          },
          "execution_count": 18
        }
      ]
    },
    {
      "cell_type": "code",
      "metadata": {
        "id": "JPh1OYxr6XgD",
        "colab_type": "code",
        "colab": {
          "base_uri": "https://localhost:8080/",
          "height": 318
        },
        "outputId": "d5aaaf9a-a6df-41d1-ef21-a04349bc0042"
      },
      "source": [
        "speaker_emotions = speaker_emotions.sort_values(by ='All', axis=1, ascending =False)\n",
        "speaker_emotions = speaker_emotions.apply(lambda row: row/row[0], axis=1).drop('All', axis=1)\n",
        "speaker_emotions"
      ],
      "execution_count": 19,
      "outputs": [
        {
          "output_type": "execute_result",
          "data": {
            "text/html": [
              "<div>\n",
              "<style scoped>\n",
              "    .dataframe tbody tr th:only-of-type {\n",
              "        vertical-align: middle;\n",
              "    }\n",
              "\n",
              "    .dataframe tbody tr th {\n",
              "        vertical-align: top;\n",
              "    }\n",
              "\n",
              "    .dataframe thead th {\n",
              "        text-align: right;\n",
              "    }\n",
              "</style>\n",
              "<table border=\"1\" class=\"dataframe\">\n",
              "  <thead>\n",
              "    <tr style=\"text-align: right;\">\n",
              "      <th>emotion</th>\n",
              "      <th>neutral</th>\n",
              "      <th>non-neutral</th>\n",
              "      <th>joy</th>\n",
              "      <th>surprise</th>\n",
              "      <th>anger</th>\n",
              "      <th>sadness</th>\n",
              "      <th>disgust</th>\n",
              "      <th>fear</th>\n",
              "    </tr>\n",
              "    <tr>\n",
              "      <th>speaker</th>\n",
              "      <th></th>\n",
              "      <th></th>\n",
              "      <th></th>\n",
              "      <th></th>\n",
              "      <th></th>\n",
              "      <th></th>\n",
              "      <th></th>\n",
              "      <th></th>\n",
              "    </tr>\n",
              "  </thead>\n",
              "  <tbody>\n",
              "    <tr>\n",
              "      <th>Chandler</th>\n",
              "      <td>0.468028</td>\n",
              "      <td>0.207415</td>\n",
              "      <td>0.106932</td>\n",
              "      <td>0.108544</td>\n",
              "      <td>0.032778</td>\n",
              "      <td>0.024718</td>\n",
              "      <td>0.027405</td>\n",
              "      <td>0.024181</td>\n",
              "    </tr>\n",
              "    <tr>\n",
              "      <th>Joey</th>\n",
              "      <td>0.453074</td>\n",
              "      <td>0.188627</td>\n",
              "      <td>0.127138</td>\n",
              "      <td>0.116967</td>\n",
              "      <td>0.049468</td>\n",
              "      <td>0.027739</td>\n",
              "      <td>0.020804</td>\n",
              "      <td>0.016181</td>\n",
              "    </tr>\n",
              "    <tr>\n",
              "      <th>Monica</th>\n",
              "      <td>0.415254</td>\n",
              "      <td>0.209216</td>\n",
              "      <td>0.119703</td>\n",
              "      <td>0.127648</td>\n",
              "      <td>0.055085</td>\n",
              "      <td>0.025424</td>\n",
              "      <td>0.034958</td>\n",
              "      <td>0.012712</td>\n",
              "    </tr>\n",
              "    <tr>\n",
              "      <th>Other</th>\n",
              "      <td>0.513727</td>\n",
              "      <td>0.149334</td>\n",
              "      <td>0.118968</td>\n",
              "      <td>0.100250</td>\n",
              "      <td>0.051165</td>\n",
              "      <td>0.035774</td>\n",
              "      <td>0.014559</td>\n",
              "      <td>0.016223</td>\n",
              "    </tr>\n",
              "    <tr>\n",
              "      <th>Phoebe</th>\n",
              "      <td>0.431983</td>\n",
              "      <td>0.190550</td>\n",
              "      <td>0.120457</td>\n",
              "      <td>0.118899</td>\n",
              "      <td>0.059190</td>\n",
              "      <td>0.038941</td>\n",
              "      <td>0.024403</td>\n",
              "      <td>0.015576</td>\n",
              "    </tr>\n",
              "    <tr>\n",
              "      <th>Rachel</th>\n",
              "      <td>0.392363</td>\n",
              "      <td>0.208115</td>\n",
              "      <td>0.120764</td>\n",
              "      <td>0.135561</td>\n",
              "      <td>0.060143</td>\n",
              "      <td>0.047255</td>\n",
              "      <td>0.020525</td>\n",
              "      <td>0.015274</td>\n",
              "    </tr>\n",
              "    <tr>\n",
              "      <th>Ross</th>\n",
              "      <td>0.464451</td>\n",
              "      <td>0.194367</td>\n",
              "      <td>0.110342</td>\n",
              "      <td>0.095568</td>\n",
              "      <td>0.057248</td>\n",
              "      <td>0.038781</td>\n",
              "      <td>0.020314</td>\n",
              "      <td>0.018929</td>\n",
              "    </tr>\n",
              "    <tr>\n",
              "      <th>All</th>\n",
              "      <td>0.450252</td>\n",
              "      <td>0.191133</td>\n",
              "      <td>0.117907</td>\n",
              "      <td>0.114252</td>\n",
              "      <td>0.052334</td>\n",
              "      <td>0.034338</td>\n",
              "      <td>0.022823</td>\n",
              "      <td>0.016962</td>\n",
              "    </tr>\n",
              "  </tbody>\n",
              "</table>\n",
              "</div>"
            ],
            "text/plain": [
              "emotion    neutral  non-neutral       joy  ...   sadness   disgust      fear\n",
              "speaker                                    ...                              \n",
              "Chandler  0.468028     0.207415  0.106932  ...  0.024718  0.027405  0.024181\n",
              "Joey      0.453074     0.188627  0.127138  ...  0.027739  0.020804  0.016181\n",
              "Monica    0.415254     0.209216  0.119703  ...  0.025424  0.034958  0.012712\n",
              "Other     0.513727     0.149334  0.118968  ...  0.035774  0.014559  0.016223\n",
              "Phoebe    0.431983     0.190550  0.120457  ...  0.038941  0.024403  0.015576\n",
              "Rachel    0.392363     0.208115  0.120764  ...  0.047255  0.020525  0.015274\n",
              "Ross      0.464451     0.194367  0.110342  ...  0.038781  0.020314  0.018929\n",
              "All       0.450252     0.191133  0.117907  ...  0.034338  0.022823  0.016962\n",
              "\n",
              "[8 rows x 8 columns]"
            ]
          },
          "metadata": {
            "tags": []
          },
          "execution_count": 19
        }
      ]
    },
    {
      "cell_type": "code",
      "metadata": {
        "id": "juDShm1P_sEM",
        "colab_type": "code",
        "colab": {
          "base_uri": "https://localhost:8080/",
          "height": 348
        },
        "outputId": "b5f2ca1f-5fff-49b5-febc-06526420c360"
      },
      "source": [
        "speaker_emotions.T.plot(kind='bar', figsize=(12, 4), title='EmotionX dataset: speakers/emotions');\n",
        "\n",
        "#observation: emotions are relatively evenly spread among the speakers"
      ],
      "execution_count": 20,
      "outputs": [
        {
          "output_type": "display_data",
          "data": {
            "image/png": "[encoded data removed]",
            "text/plain": [
              "<Figure size 864x288 with 1 Axes>"
            ]
          },
          "metadata": {
            "tags": []
          }
        }
      ]
    },
    {
      "cell_type": "code",
      "metadata": {
        "id": "U2hnXLipiuHA",
        "colab_type": "code",
        "colab": {}
      },
      "source": [
        "# In EmotionX_2019, all 7 emotions are tagged but only 4 categories are counted towards the competition f1 metric:\n",
        "# Neutral, Joy, Anger, Sadness\n",
        "# 'Surprise', the second-largest distinct category, is not included (?)\n",
        "\n",
        "allowed_emotions = ['neutral', 'joy', 'anger', 'sadness']\n",
        "train_df = train_df[train_df.emotion.isin(allowed_emotions)]\n",
        "test_df = test_df[test_df.emotion.isin(allowed_emotions)]"
      ],
      "execution_count": 21,
      "outputs": []
    },
    {
      "cell_type": "code",
      "metadata": {
        "id": "Z7bbm2poiuAx",
        "colab_type": "code",
        "colab": {
          "base_uri": "https://localhost:8080/",
          "height": 198
        },
        "outputId": "6575caaf-fb96-4c3f-9f19-744f7d7c5422"
      },
      "source": [
        "labelEncoder = LabelEncoder()\n",
        "train_df['label'] = labelEncoder.fit_transform(train_df['emotion'].values)\n",
        "test_df['label']  = labelEncoder.transform(test_df['emotion'].values)\n",
        "train_df.head()"
      ],
      "execution_count": 22,
      "outputs": [
        {
          "output_type": "execute_result",
          "data": {
            "text/html": [
              "<div>\n",
              "<style scoped>\n",
              "    .dataframe tbody tr th:only-of-type {\n",
              "        vertical-align: middle;\n",
              "    }\n",
              "\n",
              "    .dataframe tbody tr th {\n",
              "        vertical-align: top;\n",
              "    }\n",
              "\n",
              "    .dataframe thead th {\n",
              "        text-align: right;\n",
              "    }\n",
              "</style>\n",
              "<table border=\"1\" class=\"dataframe\">\n",
              "  <thead>\n",
              "    <tr style=\"text-align: right;\">\n",
              "      <th></th>\n",
              "      <th>speaker</th>\n",
              "      <th>preceding</th>\n",
              "      <th>utterance</th>\n",
              "      <th>emotion</th>\n",
              "      <th>label</th>\n",
              "    </tr>\n",
              "  </thead>\n",
              "  <tbody>\n",
              "    <tr>\n",
              "      <th>2</th>\n",
              "      <td>Ross</td>\n",
              "      <td>What?</td>\n",
              "      <td>Or! Or, we could go to the bank, close our acc...</td>\n",
              "      <td>neutral</td>\n",
              "      <td>2</td>\n",
              "    </tr>\n",
              "    <tr>\n",
              "      <th>3</th>\n",
              "      <td>Chandler</td>\n",
              "      <td>Or! Or, we could go to the bank, close our acc...</td>\n",
              "      <td>You`re a genius!</td>\n",
              "      <td>joy</td>\n",
              "      <td>1</td>\n",
              "    </tr>\n",
              "    <tr>\n",
              "      <th>4</th>\n",
              "      <td>Joey</td>\n",
              "      <td>You`re a genius!</td>\n",
              "      <td>Aww, man, now we won`t be bank buddies!</td>\n",
              "      <td>sadness</td>\n",
              "      <td>3</td>\n",
              "    </tr>\n",
              "    <tr>\n",
              "      <th>5</th>\n",
              "      <td>Chandler</td>\n",
              "      <td>Aww, man, now we won`t be bank buddies!</td>\n",
              "      <td>Now, there`s two reasons.</td>\n",
              "      <td>neutral</td>\n",
              "      <td>2</td>\n",
              "    </tr>\n",
              "    <tr>\n",
              "      <th>6</th>\n",
              "      <td>Phoebe</td>\n",
              "      <td>Now, there`s two reasons.</td>\n",
              "      <td>Hey.</td>\n",
              "      <td>neutral</td>\n",
              "      <td>2</td>\n",
              "    </tr>\n",
              "  </tbody>\n",
              "</table>\n",
              "</div>"
            ],
            "text/plain": [
              "    speaker                                          preceding  ...  emotion label\n",
              "2      Ross                                              What?  ...  neutral     2\n",
              "3  Chandler  Or! Or, we could go to the bank, close our acc...  ...      joy     1\n",
              "4      Joey                                   You`re a genius!  ...  sadness     3\n",
              "5  Chandler            Aww, man, now we won`t be bank buddies!  ...  neutral     2\n",
              "6    Phoebe                          Now, there`s two reasons.  ...  neutral     2\n",
              "\n",
              "[5 rows x 5 columns]"
            ]
          },
          "metadata": {
            "tags": []
          },
          "execution_count": 22
        }
      ]
    },
    {
      "cell_type": "code",
      "metadata": {
        "id": "4dCp4FJ_itop",
        "colab_type": "code",
        "colab": {
          "base_uri": "https://localhost:8080/",
          "height": 35
        },
        "outputId": "fcb5706b-ca41-4108-9040-2f5e38664064"
      },
      "source": [
        "EMOTION_NAMES = labelEncoder.classes_\n",
        "NUM_EMOTIONS = len(EMOTION_NAMES)\n",
        "EMOTION_NAMES"
      ],
      "execution_count": 23,
      "outputs": [
        {
          "output_type": "execute_result",
          "data": {
            "text/plain": [
              "array(['anger', 'joy', 'neutral', 'sadness'], dtype=object)"
            ]
          },
          "metadata": {
            "tags": []
          },
          "execution_count": 23
        }
      ]
    },
    {
      "cell_type": "code",
      "metadata": {
        "id": "YgbBYKC7js1w",
        "colab_type": "code",
        "colab": {
          "base_uri": "https://localhost:8080/",
          "height": 233
        },
        "outputId": "3beb4767-a50c-489f-8b74-d03b3e070e48"
      },
      "source": [
        "# encode the speakers\n",
        "speakerEncoder = LabelEncoder()\n",
        "train_df['s'] = speakerEncoder.fit_transform(train_df['speaker'].values)\n",
        "test_df['s'] = speakerEncoder.transform(test_df['speaker'].values)\n",
        "train_df.head()"
      ],
      "execution_count": 24,
      "outputs": [
        {
          "output_type": "execute_result",
          "data": {
            "text/html": [
              "<div>\n",
              "<style scoped>\n",
              "    .dataframe tbody tr th:only-of-type {\n",
              "        vertical-align: middle;\n",
              "    }\n",
              "\n",
              "    .dataframe tbody tr th {\n",
              "        vertical-align: top;\n",
              "    }\n",
              "\n",
              "    .dataframe thead th {\n",
              "        text-align: right;\n",
              "    }\n",
              "</style>\n",
              "<table border=\"1\" class=\"dataframe\">\n",
              "  <thead>\n",
              "    <tr style=\"text-align: right;\">\n",
              "      <th></th>\n",
              "      <th>speaker</th>\n",
              "      <th>preceding</th>\n",
              "      <th>utterance</th>\n",
              "      <th>emotion</th>\n",
              "      <th>label</th>\n",
              "      <th>s</th>\n",
              "    </tr>\n",
              "  </thead>\n",
              "  <tbody>\n",
              "    <tr>\n",
              "      <th>2</th>\n",
              "      <td>Ross</td>\n",
              "      <td>What?</td>\n",
              "      <td>Or! Or, we could go to the bank, close our acc...</td>\n",
              "      <td>neutral</td>\n",
              "      <td>2</td>\n",
              "      <td>6</td>\n",
              "    </tr>\n",
              "    <tr>\n",
              "      <th>3</th>\n",
              "      <td>Chandler</td>\n",
              "      <td>Or! Or, we could go to the bank, close our acc...</td>\n",
              "      <td>You`re a genius!</td>\n",
              "      <td>joy</td>\n",
              "      <td>1</td>\n",
              "      <td>0</td>\n",
              "    </tr>\n",
              "    <tr>\n",
              "      <th>4</th>\n",
              "      <td>Joey</td>\n",
              "      <td>You`re a genius!</td>\n",
              "      <td>Aww, man, now we won`t be bank buddies!</td>\n",
              "      <td>sadness</td>\n",
              "      <td>3</td>\n",
              "      <td>1</td>\n",
              "    </tr>\n",
              "    <tr>\n",
              "      <th>5</th>\n",
              "      <td>Chandler</td>\n",
              "      <td>Aww, man, now we won`t be bank buddies!</td>\n",
              "      <td>Now, there`s two reasons.</td>\n",
              "      <td>neutral</td>\n",
              "      <td>2</td>\n",
              "      <td>0</td>\n",
              "    </tr>\n",
              "    <tr>\n",
              "      <th>6</th>\n",
              "      <td>Phoebe</td>\n",
              "      <td>Now, there`s two reasons.</td>\n",
              "      <td>Hey.</td>\n",
              "      <td>neutral</td>\n",
              "      <td>2</td>\n",
              "      <td>4</td>\n",
              "    </tr>\n",
              "  </tbody>\n",
              "</table>\n",
              "</div>"
            ],
            "text/plain": [
              "    speaker                                          preceding  ... label  s\n",
              "2      Ross                                              What?  ...     2  6\n",
              "3  Chandler  Or! Or, we could go to the bank, close our acc...  ...     1  0\n",
              "4      Joey                                   You`re a genius!  ...     3  1\n",
              "5  Chandler            Aww, man, now we won`t be bank buddies!  ...     2  0\n",
              "6    Phoebe                          Now, there`s two reasons.  ...     2  4\n",
              "\n",
              "[5 rows x 6 columns]"
            ]
          },
          "metadata": {
            "tags": []
          },
          "execution_count": 24
        }
      ]
    },
    {
      "cell_type": "code",
      "metadata": {
        "id": "p2kA48DBooVZ",
        "colab_type": "code",
        "colab": {
          "base_uri": "https://localhost:8080/",
          "height": 52
        },
        "outputId": "29eb220d-2ee9-446c-91e9-8d4f4cc406a4"
      },
      "source": [
        "SPEAKER_NAMES = speakerEncoder.classes_\n",
        "NUM_SPEAKERS = len(SPEAKER_NAMES)\n",
        "SPEAKER_NAMES"
      ],
      "execution_count": 25,
      "outputs": [
        {
          "output_type": "execute_result",
          "data": {
            "text/plain": [
              "array(['Chandler', 'Joey', 'Monica', 'Other', 'Phoebe', 'Rachel', 'Ross'],\n",
              "      dtype=object)"
            ]
          },
          "metadata": {
            "tags": []
          },
          "execution_count": 25
        }
      ]
    },
    {
      "cell_type": "code",
      "metadata": {
        "id": "VmB4ngI3uOQO",
        "colab_type": "code",
        "colab": {
          "base_uri": "https://localhost:8080/",
          "height": 52
        },
        "outputId": "6532b275-b088-48fb-dc96-25b8bba9e991"
      },
      "source": [
        "# y_true to be used in performance metrics\n",
        "y_true = test_df.label\n",
        "\n",
        "# reindex\n",
        "train_df.index = range(len(train_df))\n",
        "test_df.index = range(len(test_df))\n",
        "print(train_df.shape)\n",
        "print(test_df.shape)"
      ],
      "execution_count": 26,
      "outputs": [
        {
          "output_type": "stream",
          "text": [
            "(18994, 6)\n",
            "(1802, 6)\n"
          ],
          "name": "stdout"
        }
      ]
    },
    {
      "cell_type": "markdown",
      "metadata": {
        "id": "LSVDIYWQZPWh",
        "colab_type": "text"
      },
      "source": [
        "### Random f1"
      ]
    },
    {
      "cell_type": "code",
      "metadata": {
        "id": "YMyDJkaZ4rdE",
        "colab_type": "code",
        "colab": {}
      },
      "source": [
        "# scores_df to keep track of performace. Initialize with top-3 teams from EmotionX 2019 challenge\n",
        "scores_df = pd.DataFrame(data={\n",
        "                            'team/model': ['NTHU IDEA Lab --2019', 'KAKAO NLP+KU  --2019', 'HSU HK --2019'],\n",
        "                            'micro-f1': [81.5, 79.5, 79.1],\n",
        "                            'macro-f1': [73.1, 68.7, 69.9]\n",
        "                            })\n",
        "\n",
        "def update_scores(scores_df, model_name, y_pred, y_true=y_true, target_names=EMOTION_NAMES):\n",
        "\n",
        "    report = classification_report(y_true, y_pred, target_names=target_names, digits=3)\n",
        "    print(report)\n",
        "    \n",
        "    # f1 scores are contained at specific points in sklearn class.report string\n",
        "    micro = 100*float(report.split('accuracy')[1][25:35])  \n",
        "    macro = 100*float(report.split('macro avg')[1][25:35])\n",
        "    scores_df.loc[scores_df.shape[0]]=[model_name, micro, macro]\n",
        "\n",
        "    return scores_df"
      ],
      "execution_count": 27,
      "outputs": []
    },
    {
      "cell_type": "markdown",
      "metadata": {
        "id": "63N-2Q3KZY_x",
        "colab_type": "text"
      },
      "source": [
        "2 types of random benchmark:\n",
        "- stratified, i.e. random shuffle preserving class weights\n",
        "- majority class"
      ]
    },
    {
      "cell_type": "code",
      "metadata": {
        "id": "rAqHoj4ibDl9",
        "colab_type": "code",
        "colab": {
          "base_uri": "https://localhost:8080/",
          "height": 358
        },
        "outputId": "891021fc-63d2-4ee4-cfb9-13f30cc4e84d"
      },
      "source": [
        "# Stratified random shuffle\n",
        "y_shuffled = y_true.copy().values\n",
        "np.random.shuffle(y_shuffled)\n",
        "\n",
        "scores_df = update_scores(scores_df, 'random stratified', y_shuffled)\n",
        "scores_df.head(10)"
      ],
      "execution_count": 28,
      "outputs": [
        {
          "output_type": "stream",
          "text": [
            "              precision    recall  f1-score   support\n",
            "\n",
            "       anger      0.092     0.092     0.092       141\n",
            "         joy      0.297     0.297     0.297       505\n",
            "     neutral      0.574     0.574     0.574      1035\n",
            "     sadness      0.066     0.066     0.066       121\n",
            "\n",
            "    accuracy                          0.425      1802\n",
            "   macro avg      0.257     0.257     0.257      1802\n",
            "weighted avg      0.425     0.425     0.425      1802\n",
            "\n"
          ],
          "name": "stdout"
        },
        {
          "output_type": "execute_result",
          "data": {
            "text/html": [
              "<div>\n",
              "<style scoped>\n",
              "    .dataframe tbody tr th:only-of-type {\n",
              "        vertical-align: middle;\n",
              "    }\n",
              "\n",
              "    .dataframe tbody tr th {\n",
              "        vertical-align: top;\n",
              "    }\n",
              "\n",
              "    .dataframe thead th {\n",
              "        text-align: right;\n",
              "    }\n",
              "</style>\n",
              "<table border=\"1\" class=\"dataframe\">\n",
              "  <thead>\n",
              "    <tr style=\"text-align: right;\">\n",
              "      <th></th>\n",
              "      <th>team/model</th>\n",
              "      <th>micro-f1</th>\n",
              "      <th>macro-f1</th>\n",
              "    </tr>\n",
              "  </thead>\n",
              "  <tbody>\n",
              "    <tr>\n",
              "      <th>0</th>\n",
              "      <td>NTHU IDEA Lab --2019</td>\n",
              "      <td>81.5</td>\n",
              "      <td>73.1</td>\n",
              "    </tr>\n",
              "    <tr>\n",
              "      <th>1</th>\n",
              "      <td>KAKAO NLP+KU  --2019</td>\n",
              "      <td>79.5</td>\n",
              "      <td>68.7</td>\n",
              "    </tr>\n",
              "    <tr>\n",
              "      <th>2</th>\n",
              "      <td>HSU HK --2019</td>\n",
              "      <td>79.1</td>\n",
              "      <td>69.9</td>\n",
              "    </tr>\n",
              "    <tr>\n",
              "      <th>3</th>\n",
              "      <td>random stratified</td>\n",
              "      <td>42.5</td>\n",
              "      <td>25.7</td>\n",
              "    </tr>\n",
              "  </tbody>\n",
              "</table>\n",
              "</div>"
            ],
            "text/plain": [
              "             team/model  micro-f1  macro-f1\n",
              "0  NTHU IDEA Lab --2019      81.5      73.1\n",
              "1  KAKAO NLP+KU  --2019      79.5      68.7\n",
              "2         HSU HK --2019      79.1      69.9\n",
              "3     random stratified      42.5      25.7"
            ]
          },
          "metadata": {
            "tags": []
          },
          "execution_count": 28
        }
      ]
    },
    {
      "cell_type": "code",
      "metadata": {
        "id": "o34ppNMQZPT6",
        "colab_type": "code",
        "colab": {
          "base_uri": "https://localhost:8080/",
          "height": 405
        },
        "outputId": "f7f3fd83-72cb-44c9-ddc8-76646637f294"
      },
      "source": [
        "# predict all y_pred as majority class\n",
        "maj_class = y_true.value_counts().index[0]\n",
        "maj_pred = np.full_like(y_true, maj_class)\n",
        "print(maj_class, EMOTION_NAMES[maj_class])\n",
        "\n",
        "scores_df = update_scores(scores_df, 'all majority class', maj_pred)\n",
        "scores_df.head(10)"
      ],
      "execution_count": 29,
      "outputs": [
        {
          "output_type": "stream",
          "text": [
            "2 neutral\n",
            "              precision    recall  f1-score   support\n",
            "\n",
            "       anger      0.000     0.000     0.000       141\n",
            "         joy      0.000     0.000     0.000       505\n",
            "     neutral      0.574     1.000     0.730      1035\n",
            "     sadness      0.000     0.000     0.000       121\n",
            "\n",
            "    accuracy                          0.574      1802\n",
            "   macro avg      0.144     0.250     0.182      1802\n",
            "weighted avg      0.330     0.574     0.419      1802\n",
            "\n"
          ],
          "name": "stdout"
        },
        {
          "output_type": "execute_result",
          "data": {
            "text/html": [
              "<div>\n",
              "<style scoped>\n",
              "    .dataframe tbody tr th:only-of-type {\n",
              "        vertical-align: middle;\n",
              "    }\n",
              "\n",
              "    .dataframe tbody tr th {\n",
              "        vertical-align: top;\n",
              "    }\n",
              "\n",
              "    .dataframe thead th {\n",
              "        text-align: right;\n",
              "    }\n",
              "</style>\n",
              "<table border=\"1\" class=\"dataframe\">\n",
              "  <thead>\n",
              "    <tr style=\"text-align: right;\">\n",
              "      <th></th>\n",
              "      <th>team/model</th>\n",
              "      <th>micro-f1</th>\n",
              "      <th>macro-f1</th>\n",
              "    </tr>\n",
              "  </thead>\n",
              "  <tbody>\n",
              "    <tr>\n",
              "      <th>0</th>\n",
              "      <td>NTHU IDEA Lab --2019</td>\n",
              "      <td>81.5</td>\n",
              "      <td>73.1</td>\n",
              "    </tr>\n",
              "    <tr>\n",
              "      <th>1</th>\n",
              "      <td>KAKAO NLP+KU  --2019</td>\n",
              "      <td>79.5</td>\n",
              "      <td>68.7</td>\n",
              "    </tr>\n",
              "    <tr>\n",
              "      <th>2</th>\n",
              "      <td>HSU HK --2019</td>\n",
              "      <td>79.1</td>\n",
              "      <td>69.9</td>\n",
              "    </tr>\n",
              "    <tr>\n",
              "      <th>3</th>\n",
              "      <td>random stratified</td>\n",
              "      <td>42.5</td>\n",
              "      <td>25.7</td>\n",
              "    </tr>\n",
              "    <tr>\n",
              "      <th>4</th>\n",
              "      <td>all majority class</td>\n",
              "      <td>57.4</td>\n",
              "      <td>18.2</td>\n",
              "    </tr>\n",
              "  </tbody>\n",
              "</table>\n",
              "</div>"
            ],
            "text/plain": [
              "             team/model  micro-f1  macro-f1\n",
              "0  NTHU IDEA Lab --2019      81.5      73.1\n",
              "1  KAKAO NLP+KU  --2019      79.5      68.7\n",
              "2         HSU HK --2019      79.1      69.9\n",
              "3     random stratified      42.5      25.7\n",
              "4    all majority class      57.4      18.2"
            ]
          },
          "metadata": {
            "tags": []
          },
          "execution_count": 29
        }
      ]
    },
    {
      "cell_type": "markdown",
      "metadata": {
        "id": "hPh_5NWiiEap",
        "colab_type": "text"
      },
      "source": [
        "### Load BERT, encode"
      ]
    },
    {
      "cell_type": "code",
      "metadata": {
        "id": "KtAwB8p3KNzq",
        "colab_type": "code",
        "colab": {
          "base_uri": "https://localhost:8080/",
          "height": 35
        },
        "outputId": "7741f619-9234-4498-a378-b6a19f56eb38"
      },
      "source": [
        "tic = time.time()\n",
        "\n",
        "# Import the smaller, uncased version of BERT, 109 M parameters, 387 MB size\n",
        "# L=12 Transformer blocks, H=768 hidden size, A=12 attention heads.\n",
        "bert_layer = hub.KerasLayer(\"https://tfhub.dev/tensorflow/bert_en_uncased_L-12_H-768_A-12/2\",  \n",
        "                            name = 'bert_layer',\n",
        "                            trainable=True)\n",
        "toc = time.time()\n",
        "print(f'done in {toc-tic:.1f} sec')"
      ],
      "execution_count": 30,
      "outputs": [
        {
          "output_type": "stream",
          "text": [
            "done in 12.0 sec\n"
          ],
          "name": "stdout"
        }
      ]
    },
    {
      "cell_type": "code",
      "metadata": {
        "id": "YTScCZTS_rax",
        "colab_type": "code",
        "colab": {}
      },
      "source": [
        "vocab_file = bert_layer.resolved_object.vocab_file.asset_path.numpy()\n",
        "do_lower_case = bert_layer.resolved_object.do_lower_case.numpy()\n",
        "\n",
        "tokenizer = tokenization.FullTokenizer(vocab_file, do_lower_case)\n",
        "# dir(tokenizer)"
      ],
      "execution_count": 31,
      "outputs": []
    },
    {
      "cell_type": "code",
      "metadata": {
        "id": "38qdrMAtRayp",
        "colab_type": "code",
        "colab": {
          "base_uri": "https://localhost:8080/",
          "height": 72
        },
        "outputId": "1e3ba3da-1cb9-40b5-c9cc-10da8a3a2903"
      },
      "source": [
        "tokens = tokenizer.tokenize(train_df.utterance[0])\n",
        "ids = tokenizer.convert_tokens_to_ids(tokens)\n",
        "\n",
        "print(tokens)\n",
        "print(ids)"
      ],
      "execution_count": 32,
      "outputs": [
        {
          "output_type": "stream",
          "text": [
            "['or', '!', 'or', ',', 'we', 'could', 'go', 'to', 'the', 'bank', ',', 'close', 'our', 'accounts', 'and', 'cut', 'them', 'off', 'at', 'the', 'source', '.']\n",
            "[2030, 999, 2030, 1010, 2057, 2071, 2175, 2000, 1996, 2924, 1010, 2485, 2256, 6115, 1998, 3013, 2068, 2125, 2012, 1996, 3120, 1012]\n"
          ],
          "name": "stdout"
        }
      ]
    },
    {
      "cell_type": "code",
      "metadata": {
        "id": "wvltG3AAY0qN",
        "colab_type": "code",
        "colab": {}
      },
      "source": [
        "def encode_sentence(s, first=True):\n",
        "    # the first sentence in BERT must start with [CLS] token and end with [SEP]\n",
        "    # the second sentence is optional. if supplied as input to BERT, append to the first sentence\n",
        "    if first:\n",
        "        return (tokenizer.convert_tokens_to_ids(['[CLS]']) + \n",
        "                tokenizer.convert_tokens_to_ids(tokenizer.tokenize(s)) + \n",
        "                tokenizer.convert_tokens_to_ids(['[SEP]']))\n",
        "    else:\n",
        "        return tokenizer.convert_tokens_to_ids(tokenizer.tokenize(s))\n",
        "\n",
        "# MAX_LEN based on the longer uu\n",
        "train_ids = train_df.utterance.apply(encode_sentence)\n",
        "test_ids = test_df.utterance.apply(encode_sentence)"
      ],
      "execution_count": 33,
      "outputs": []
    },
    {
      "cell_type": "code",
      "metadata": {
        "id": "3LSPssVfY_9O",
        "colab_type": "code",
        "colab": {
          "base_uri": "https://localhost:8080/",
          "height": 69
        },
        "outputId": "04133976-4bba-44f2-b800-a7cd190453ee"
      },
      "source": [
        "max_len_train = max(map(len, train_ids))\n",
        "max_len_test = max(map(len, test_ids))\n",
        "MAX_LEN = max(max_len_train, max_len_test)\n",
        "\n",
        "print(f'max len train =', max_len_train)\n",
        "print(f'max len test =', max_len_test)\n",
        "print(f'MAX LEN =', MAX_LEN)"
      ],
      "execution_count": 34,
      "outputs": [
        {
          "output_type": "stream",
          "text": [
            "max len train = 65\n",
            "max len test = 67\n",
            "MAX LEN = 67\n"
          ],
          "name": "stdout"
        }
      ]
    },
    {
      "cell_type": "code",
      "metadata": {
        "id": "wl0sJUx1F6AN",
        "colab_type": "code",
        "colab": {}
      },
      "source": [
        "z = train_df['utterance'].apply(lambda x: encode_sentence(x, False)).values\n"
      ],
      "execution_count": 35,
      "outputs": []
    },
    {
      "cell_type": "code",
      "metadata": {
        "id": "1FZCwA6oGOps",
        "colab_type": "code",
        "colab": {
          "base_uri": "https://localhost:8080/",
          "height": 72
        },
        "outputId": "10d53034-e463-4795-c958-857290386c70"
      },
      "source": [
        "train_ids[:2].values"
      ],
      "execution_count": 36,
      "outputs": [
        {
          "output_type": "execute_result",
          "data": {
            "text/plain": [
              "array([list([101, 2030, 999, 2030, 1010, 2057, 2071, 2175, 2000, 1996, 2924, 1010, 2485, 2256, 6115, 1998, 3013, 2068, 2125, 2012, 1996, 3120, 1012, 102]),\n",
              "       list([101, 2017, 1036, 2128, 1037, 11067, 999, 102])], dtype=object)"
            ]
          },
          "metadata": {
            "tags": []
          },
          "execution_count": 36
        }
      ]
    },
    {
      "cell_type": "code",
      "metadata": {
        "id": "f5Nk2RUpF6Cc",
        "colab_type": "code",
        "colab": {
          "base_uri": "https://localhost:8080/",
          "height": 35
        },
        "outputId": "00a7477c-ccab-40bc-ed6b-86cad84ae1e6"
      },
      "source": [
        "print(z.shape)\n"
      ],
      "execution_count": 37,
      "outputs": [
        {
          "output_type": "stream",
          "text": [
            "(18994,)\n"
          ],
          "name": "stdout"
        }
      ]
    },
    {
      "cell_type": "code",
      "metadata": {
        "id": "wMsXFpmvIxm_",
        "colab_type": "code",
        "colab": {}
      },
      "source": [
        "    zz = pad_sequences(z, maxlen=MAX_LEN, dtype=\"long\", value=0, padding=\"post\")"
      ],
      "execution_count": 38,
      "outputs": []
    },
    {
      "cell_type": "code",
      "metadata": {
        "id": "IP6eiQwWIxp1",
        "colab_type": "code",
        "colab": {
          "base_uri": "https://localhost:8080/",
          "height": 35
        },
        "outputId": "15e09d69-069a-4af5-8d1e-b0c7efe9daac"
      },
      "source": [
        "aa = zz\n",
        "dd = np.concatenate([aa,zz], axis=1)\n",
        "print(zz.shape, dd.shape)"
      ],
      "execution_count": 39,
      "outputs": [
        {
          "output_type": "stream",
          "text": [
            "(18994, 67) (18994, 134)\n"
          ],
          "name": "stdout"
        }
      ]
    },
    {
      "cell_type": "markdown",
      "metadata": {
        "id": "cHufWe5YZXT9",
        "colab_type": "text"
      },
      "source": [
        "### TF Dataset"
      ]
    },
    {
      "cell_type": "code",
      "metadata": {
        "id": "f517GxOO1Og9",
        "colab_type": "code",
        "colab": {
          "base_uri": "https://localhost:8080/",
          "height": 233
        },
        "outputId": "37a02e82-2a5f-420b-b002-e49abcb8cc08"
      },
      "source": [
        "train_df.sample(5)"
      ],
      "execution_count": 40,
      "outputs": [
        {
          "output_type": "execute_result",
          "data": {
            "text/html": [
              "<div>\n",
              "<style scoped>\n",
              "    .dataframe tbody tr th:only-of-type {\n",
              "        vertical-align: middle;\n",
              "    }\n",
              "\n",
              "    .dataframe tbody tr th {\n",
              "        vertical-align: top;\n",
              "    }\n",
              "\n",
              "    .dataframe thead th {\n",
              "        text-align: right;\n",
              "    }\n",
              "</style>\n",
              "<table border=\"1\" class=\"dataframe\">\n",
              "  <thead>\n",
              "    <tr style=\"text-align: right;\">\n",
              "      <th></th>\n",
              "      <th>speaker</th>\n",
              "      <th>preceding</th>\n",
              "      <th>utterance</th>\n",
              "      <th>emotion</th>\n",
              "      <th>label</th>\n",
              "      <th>s</th>\n",
              "    </tr>\n",
              "  </thead>\n",
              "  <tbody>\n",
              "    <tr>\n",
              "      <th>14922</th>\n",
              "      <td>Joey</td>\n",
              "      <td>They loved me!</td>\n",
              "      <td>Oh my God!</td>\n",
              "      <td>joy</td>\n",
              "      <td>1</td>\n",
              "      <td>1</td>\n",
              "    </tr>\n",
              "    <tr>\n",
              "      <th>4057</th>\n",
              "      <td>Joey</td>\n",
              "      <td>Y`know you wear a white coat, I wear a blue bl...</td>\n",
              "      <td>Y`know, hey I understand.</td>\n",
              "      <td>neutral</td>\n",
              "      <td>2</td>\n",
              "      <td>1</td>\n",
              "    </tr>\n",
              "    <tr>\n",
              "      <th>17510</th>\n",
              "      <td>Ross</td>\n",
              "      <td>Ezel!  Hey Gunther! You're an ezel!</td>\n",
              "      <td>Damnit!</td>\n",
              "      <td>anger</td>\n",
              "      <td>0</td>\n",
              "      <td>6</td>\n",
              "    </tr>\n",
              "    <tr>\n",
              "      <th>2182</th>\n",
              "      <td>Joey</td>\n",
              "      <td>Yeah.</td>\n",
              "      <td>Monica and Rachel made out.</td>\n",
              "      <td>neutral</td>\n",
              "      <td>2</td>\n",
              "      <td>1</td>\n",
              "    </tr>\n",
              "    <tr>\n",
              "      <th>15980</th>\n",
              "      <td>Chandler</td>\n",
              "      <td>Dude!</td>\n",
              "      <td>And hats off to Phoebe. Quite a competitor.  A...</td>\n",
              "      <td>joy</td>\n",
              "      <td>1</td>\n",
              "      <td>0</td>\n",
              "    </tr>\n",
              "  </tbody>\n",
              "</table>\n",
              "</div>"
            ],
            "text/plain": [
              "        speaker                                          preceding  ... label  s\n",
              "14922      Joey                                     They loved me!  ...     1  1\n",
              "4057       Joey  Y`know you wear a white coat, I wear a blue bl...  ...     2  1\n",
              "17510      Ross                Ezel!  Hey Gunther! You're an ezel!  ...     0  6\n",
              "2182       Joey                                              Yeah.  ...     2  1\n",
              "15980  Chandler                                              Dude!  ...     1  0\n",
              "\n",
              "[5 rows x 6 columns]"
            ]
          },
          "metadata": {
            "tags": []
          },
          "execution_count": 40
        }
      ]
    },
    {
      "cell_type": "code",
      "metadata": {
        "id": "fh1IOvMc67Hz",
        "colab_type": "code",
        "colab": {}
      },
      "source": [
        "BATCH_SIZE=32\n",
        "\n",
        "def bert_dataset(df,\n",
        "                 maxlen=MAX_LEN, \n",
        "                 two_utt=False,\n",
        "                 include_speakers=False,\n",
        "                 num_speakers=NUM_SPEAKERS,\n",
        "                 num_emotions=NUM_EMOTIONS,\n",
        "                 split=0.9,\n",
        "                 shuffle=True,\n",
        "                 batch_size=BATCH_SIZE,                  \n",
        "                 ):\n",
        "    \"\"\"\n",
        "    Produce TF datasets, both train and val, from the input dataframe\n",
        "    The convention for the input df: \n",
        "        labels        in column 'label,\n",
        "        utterances    in column 'utterance'\n",
        "        preceding utt in column 'preceding'\n",
        "        speaker codes in column 's'\n",
        "    \"\"\"\n",
        "    # single input utterance\n",
        "    input_utt  = df['utterance'].apply(lambda x: encode_sentence(x)).values\n",
        "    input_utt = pad_sequences(input_utt, maxlen=maxlen, dtype=\"long\", value=0, padding=\"post\")\n",
        "\n",
        "    # for two utterances incl. preceding, concatenate two np.arrays (note preceding seq len=MAX_LEN-2)\n",
        "    if two_utt:\n",
        "        preceding = df['preceding'].apply(lambda x: encode_sentence(x, first=False)).values    \n",
        "        preceding = pad_sequences(preceding, maxlen=maxlen-2, dtype=\"long\", value=0, padding=\"post\")\n",
        "        input_utt = np.concatenate([input_utt, preceding], axis=1)\n",
        "\n",
        "    input_mask = np.vectorize(lambda arr: int(arr>0))(input_utt)\n",
        "\n",
        "    # BERT needs the segment embedding input: 0s for 1st segment, 1s for the 2nd segment (after [SEP])\n",
        "    input_segment = np.zeros_like(input_mask)\n",
        "    if two_utt:\n",
        "        input_segment[:,maxlen:]=1\n",
        "\n",
        "    # add speakers to X tensor\n",
        "    if not include_speakers:\n",
        "        inputs = (input_utt, input_mask, input_segment)\n",
        "    else:\n",
        "        speakers = to_categorical(df['s'].values, num_classes=num_speakers)\n",
        "        inputs = (input_utt, input_mask, input_segment, speakers)\n",
        "    \n",
        "    # one-hot encode the labels (Y)\n",
        "    labels = to_categorical(df['label'].values, num_classes=num_emotions)\n",
        "\n",
        "    dataset = tf.data.Dataset.from_tensor_slices((inputs, labels))\n",
        "    if shuffle: dataset = dataset.shuffle(1024)\n",
        "    \n",
        "    split = int(split*df.shape[0])\n",
        "    train_ds = dataset.take(split).batch(batch_size).cache()\n",
        "    val_ds   = dataset.skip(split).batch(batch_size).cache()\n",
        "    \n",
        "    return train_ds, val_ds\n"
      ],
      "execution_count": 41,
      "outputs": []
    },
    {
      "cell_type": "code",
      "metadata": {
        "id": "pdI0K-2TZXYt",
        "colab_type": "code",
        "colab": {
          "base_uri": "https://localhost:8080/",
          "height": 1000
        },
        "outputId": "03c3eb1f-996f-4e71-a051-9c19643ed4b8"
      },
      "source": [
        "train_ds, val_ds = bert_dataset(train_df, two_utt=True, include_speakers=True)\n",
        "# train_ds, val_ds = bert_dataset(train_df, include_speakers=True)\n",
        "\n",
        "# inspect the dataset element\n",
        "print(train_ds.element_spec )\n",
        "next(iter(train_ds))\n"
      ],
      "execution_count": 42,
      "outputs": [
        {
          "output_type": "stream",
          "text": [
            "((TensorSpec(shape=(None, 132), dtype=tf.int64, name=None), TensorSpec(shape=(None, 132), dtype=tf.int64, name=None), TensorSpec(shape=(None, 132), dtype=tf.int64, name=None), TensorSpec(shape=(None, 7), dtype=tf.float32, name=None)), TensorSpec(shape=(None, 4), dtype=tf.float32, name=None))\n"
          ],
          "name": "stdout"
        },
        {
          "output_type": "execute_result",
          "data": {
            "text/plain": [
              "((<tf.Tensor: shape=(32, 132), dtype=int64, numpy=\n",
              "  array([[ 101, 2054, 1036, ...,    0,    0,    0],\n",
              "         [ 101, 2298, 1010, ...,    0,    0,    0],\n",
              "         [ 101, 4931, 6887, ...,    0,    0,    0],\n",
              "         ...,\n",
              "         [ 101, 4931,  999, ...,    0,    0,    0],\n",
              "         [ 101,  999,  102, ...,    0,    0,    0],\n",
              "         [ 101, 2821, 2057, ...,    0,    0,    0]])>,\n",
              "  <tf.Tensor: shape=(32, 132), dtype=int64, numpy=\n",
              "  array([[1, 1, 1, ..., 0, 0, 0],\n",
              "         [1, 1, 1, ..., 0, 0, 0],\n",
              "         [1, 1, 1, ..., 0, 0, 0],\n",
              "         ...,\n",
              "         [1, 1, 1, ..., 0, 0, 0],\n",
              "         [1, 1, 1, ..., 0, 0, 0],\n",
              "         [1, 1, 1, ..., 0, 0, 0]])>,\n",
              "  <tf.Tensor: shape=(32, 132), dtype=int64, numpy=\n",
              "  array([[0, 0, 0, ..., 1, 1, 1],\n",
              "         [0, 0, 0, ..., 1, 1, 1],\n",
              "         [0, 0, 0, ..., 1, 1, 1],\n",
              "         ...,\n",
              "         [0, 0, 0, ..., 1, 1, 1],\n",
              "         [0, 0, 0, ..., 1, 1, 1],\n",
              "         [0, 0, 0, ..., 1, 1, 1]])>,\n",
              "  <tf.Tensor: shape=(32, 7), dtype=float32, numpy=\n",
              "  array([[0., 0., 1., 0., 0., 0., 0.],\n",
              "         [0., 0., 1., 0., 0., 0., 0.],\n",
              "         [0., 0., 0., 0., 0., 0., 1.],\n",
              "         [0., 0., 1., 0., 0., 0., 0.],\n",
              "         [0., 0., 0., 0., 0., 1., 0.],\n",
              "         [0., 1., 0., 0., 0., 0., 0.],\n",
              "         [0., 0., 0., 0., 1., 0., 0.],\n",
              "         [0., 0., 0., 1., 0., 0., 0.],\n",
              "         [0., 1., 0., 0., 0., 0., 0.],\n",
              "         [1., 0., 0., 0., 0., 0., 0.],\n",
              "         [1., 0., 0., 0., 0., 0., 0.],\n",
              "         [0., 0., 0., 0., 0., 0., 1.],\n",
              "         [0., 1., 0., 0., 0., 0., 0.],\n",
              "         [0., 0., 1., 0., 0., 0., 0.],\n",
              "         [0., 0., 0., 1., 0., 0., 0.],\n",
              "         [0., 0., 0., 0., 0., 0., 1.],\n",
              "         [0., 0., 0., 1., 0., 0., 0.],\n",
              "         [0., 0., 0., 0., 0., 1., 0.],\n",
              "         [0., 0., 0., 0., 0., 1., 0.],\n",
              "         [0., 0., 0., 0., 0., 1., 0.],\n",
              "         [0., 0., 1., 0., 0., 0., 0.],\n",
              "         [0., 0., 0., 0., 0., 0., 1.],\n",
              "         [0., 0., 0., 1., 0., 0., 0.],\n",
              "         [0., 0., 0., 0., 1., 0., 0.],\n",
              "         [0., 0., 0., 0., 1., 0., 0.],\n",
              "         [0., 0., 0., 0., 0., 0., 1.],\n",
              "         [0., 0., 0., 0., 0., 0., 1.],\n",
              "         [0., 0., 0., 1., 0., 0., 0.],\n",
              "         [1., 0., 0., 0., 0., 0., 0.],\n",
              "         [0., 0., 0., 0., 1., 0., 0.],\n",
              "         [0., 0., 0., 0., 0., 1., 0.],\n",
              "         [0., 0., 0., 0., 0., 1., 0.]], dtype=float32)>),\n",
              " <tf.Tensor: shape=(32, 4), dtype=float32, numpy=\n",
              " array([[0., 0., 1., 0.],\n",
              "        [0., 0., 0., 1.],\n",
              "        [0., 0., 1., 0.],\n",
              "        [0., 1., 0., 0.],\n",
              "        [0., 0., 1., 0.],\n",
              "        [0., 0., 1., 0.],\n",
              "        [1., 0., 0., 0.],\n",
              "        [0., 0., 1., 0.],\n",
              "        [0., 1., 0., 0.],\n",
              "        [0., 0., 1., 0.],\n",
              "        [0., 0., 1., 0.],\n",
              "        [1., 0., 0., 0.],\n",
              "        [0., 0., 1., 0.],\n",
              "        [0., 0., 1., 0.],\n",
              "        [0., 0., 1., 0.],\n",
              "        [0., 0., 1., 0.],\n",
              "        [0., 0., 1., 0.],\n",
              "        [1., 0., 0., 0.],\n",
              "        [0., 1., 0., 0.],\n",
              "        [1., 0., 0., 0.],\n",
              "        [0., 0., 1., 0.],\n",
              "        [0., 0., 1., 0.],\n",
              "        [0., 0., 1., 0.],\n",
              "        [0., 1., 0., 0.],\n",
              "        [0., 0., 1., 0.],\n",
              "        [0., 0., 1., 0.],\n",
              "        [0., 0., 1., 0.],\n",
              "        [1., 0., 0., 0.],\n",
              "        [0., 0., 1., 0.],\n",
              "        [0., 1., 0., 0.],\n",
              "        [1., 0., 0., 0.],\n",
              "        [0., 1., 0., 0.]], dtype=float32)>)"
            ]
          },
          "metadata": {
            "tags": []
          },
          "execution_count": 42
        }
      ]
    },
    {
      "cell_type": "markdown",
      "metadata": {
        "id": "0iNab7nehLLi",
        "colab_type": "text"
      },
      "source": [
        "### BERT model"
      ]
    },
    {
      "cell_type": "code",
      "metadata": {
        "id": "h515V77qZXbN",
        "colab_type": "code",
        "colab": {}
      },
      "source": [
        "from tensorflow.keras.models import Model\n",
        "from tensorflow.keras.layers import Input, Dense, Dropout, LSTM\n",
        "from tensorflow.keras.initializers import Constant\n",
        "\n",
        "from tensorflow.keras.optimizers import Adam\n",
        "from tensorflow.keras.losses import CategoricalCrossentropy\n",
        "from tensorflow.keras.metrics import Accuracy, Precision, Recall, AUC\n",
        "\n",
        "from tensorflow.keras import callbacks\n",
        "import tensorflow.keras.backend as K\n"
      ],
      "execution_count": 43,
      "outputs": []
    },
    {
      "cell_type": "code",
      "metadata": {
        "id": "aH2ip1eTdCg6",
        "colab_type": "code",
        "colab": {}
      },
      "source": [
        "import tensorflow_addons as tfa\n",
        "f1_score = tfa.metrics.F1Score(NUM_EMOTIONS, average='micro', name='f1')   # the competition metric"
      ],
      "execution_count": 44,
      "outputs": []
    },
    {
      "cell_type": "code",
      "metadata": {
        "id": "vdnDo-Nk94LI",
        "colab_type": "code",
        "colab": {}
      },
      "source": [
        "# (input_utt, input_mask, input_segment, speakers)\n",
        "\n",
        "def bert_model( max_len=MAX_LEN, \n",
        "                two_utt=False,\n",
        "                num_emotions=NUM_EMOTIONS,\n",
        "                include_speakers=False,\n",
        "                num_speakers=NUM_SPEAKERS,\n",
        "                dropout_rate=0, \n",
        "                seed=seed_value):\n",
        "    \n",
        "    if two_utt:   # encoded as: [CLS] + utterance_1 + [SEP] + utterance_2\n",
        "        max_len = 2*max_len - 2\n",
        "\n",
        "    input_utt = Input(shape=(max_len,), dtype=tf.int32, name=\"input_utt\")\n",
        "    input_mask     = Input(shape=(max_len,), dtype=tf.int32, name=\"input_mask\")\n",
        "    input_segment    = Input(shape=(max_len,), dtype=tf.int32, name=\"input_segment\")\n",
        "\n",
        "    # deep copy of a keras layer object is problematic, therefore download for each instance\n",
        "    bert = hub.KerasLayer(\"https://tfhub.dev/tensorflow/bert_en_uncased_L-12_H-768_A-12/2\",  \n",
        "                                name = 'bert_layer', trainable=True)\n",
        "\n",
        "    if not include_speakers:\n",
        "        inputs = [input_utt, input_mask, input_segment]\n",
        "        x, _ = bert(inputs)\n",
        "        x = Dropout(dropout_rate, seed=seed, name='dropout')(x)\n",
        "    else:\n",
        "        speakers = Input(shape=(num_speakers,), dtype=tf.float32, name=\"speakers\")\n",
        "        inputs = [input_utt, input_mask, input_segment, speakers]\n",
        "        x, _ = bert(inputs[:-1])\n",
        "        x = Dropout(dropout_rate, seed=seed, name='dropout')(x)\n",
        "        x = tf.concat([x, speakers], axis=1)\n",
        "        x = Dense(512, activation='relu')(x)\n",
        "\n",
        "    output = Dense(num_emotions, activation='softmax')(x)\n",
        "    model = Model(inputs, output)\n",
        "\n",
        "    return model\n"
      ],
      "execution_count": 45,
      "outputs": []
    },
    {
      "cell_type": "code",
      "metadata": {
        "id": "OeNtwW_4m8bX",
        "colab_type": "code",
        "colab": {}
      },
      "source": [
        "def plot_training(history):\n",
        "\n",
        "    f,axes = plt.subplots(1, 2, figsize=(12, 4))\n",
        "    ax0,ax1=axes[0],axes[1]\n",
        "    \n",
        "    hist = history.history\n",
        "    epochs = np.arange(1,1+len(hist['loss']))\n",
        "\n",
        "    ax0.plot(epochs, hist['f1'], label='f1 train') \n",
        "    ax0.plot(epochs, hist['val_f1'], label='f1 val') \n",
        "    ax0.set_title('f1 score')\n",
        "    ax0.legend()\n",
        "\n",
        "    ax1.plot(epochs, hist['P'], label='precision train') \n",
        "    ax1.plot(epochs, hist['R'], label='recall train') \n",
        "    ax1.plot(epochs, hist['val_P'], label='precision val') \n",
        "    ax1.plot(epochs, hist['val_R'], label='recall val') \n",
        "    ax1.set_title('precision / recall')\n",
        "    ax1.legend()\n",
        "\n",
        "    plt.show()"
      ],
      "execution_count": 46,
      "outputs": []
    },
    {
      "cell_type": "code",
      "metadata": {
        "id": "klpcof6dH556",
        "colab_type": "code",
        "colab": {
          "base_uri": "https://localhost:8080/",
          "height": 518
        },
        "outputId": "8508f747-644e-4c1b-f2b9-be6fd2b6b630"
      },
      "source": [
        "# test model\n",
        "model = bert_model(two_utt=True, include_speakers=True)\n",
        "model.summary()"
      ],
      "execution_count": 47,
      "outputs": [
        {
          "output_type": "stream",
          "text": [
            "Model: \"functional_1\"\n",
            "__________________________________________________________________________________________________\n",
            "Layer (type)                    Output Shape         Param #     Connected to                     \n",
            "==================================================================================================\n",
            "input_utt (InputLayer)          [(None, 132)]        0                                            \n",
            "__________________________________________________________________________________________________\n",
            "input_mask (InputLayer)         [(None, 132)]        0                                            \n",
            "__________________________________________________________________________________________________\n",
            "input_segment (InputLayer)      [(None, 132)]        0                                            \n",
            "__________________________________________________________________________________________________\n",
            "bert_layer (KerasLayer)         [(None, 768), (None, 109482241   input_utt[0][0]                  \n",
            "                                                                 input_mask[0][0]                 \n",
            "                                                                 input_segment[0][0]              \n",
            "__________________________________________________________________________________________________\n",
            "dropout (Dropout)               (None, 768)          0           bert_layer[0][0]                 \n",
            "__________________________________________________________________________________________________\n",
            "speakers (InputLayer)           [(None, 7)]          0                                            \n",
            "__________________________________________________________________________________________________\n",
            "tf.concat (TFOpLambda)          (None, 775)          0           dropout[0][0]                    \n",
            "                                                                 speakers[0][0]                   \n",
            "__________________________________________________________________________________________________\n",
            "dense (Dense)                   (None, 512)          397312      tf.concat[0][0]                  \n",
            "__________________________________________________________________________________________________\n",
            "dense_1 (Dense)                 (None, 4)            2052        dense[0][0]                      \n",
            "==================================================================================================\n",
            "Total params: 109,881,605\n",
            "Trainable params: 109,881,604\n",
            "Non-trainable params: 1\n",
            "__________________________________________________________________________________________________\n"
          ],
          "name": "stdout"
        }
      ]
    },
    {
      "cell_type": "code",
      "metadata": {
        "id": "U48B0aVx4Tm8",
        "colab_type": "code",
        "colab": {
          "base_uri": "https://localhost:8080/",
          "height": 52
        },
        "outputId": "034f6435-498a-461e-d4ea-1d0f26fbd600"
      },
      "source": [
        "# Test the computational graph\n",
        "tic=time.time()\n",
        "sample_input = next(iter(train_ds))\n",
        "\n",
        "# Dataset is a generator of (X,Y). Only X should be passed to the model, i.e. sample_input[0]\n",
        "sample_output = model(sample_input[0])\n",
        "\n",
        "toc=time.time()\n",
        "print(f'done in {toc-tic:.1f} sec')\n",
        "print(sample_output.shape)\n"
      ],
      "execution_count": 48,
      "outputs": [
        {
          "output_type": "stream",
          "text": [
            "done in 2.1 sec\n",
            "(32, 4)\n"
          ],
          "name": "stdout"
        }
      ]
    },
    {
      "cell_type": "code",
      "metadata": {
        "id": "9xAbn3Xv7voX",
        "colab_type": "code",
        "colab": {
          "base_uri": "https://localhost:8080/",
          "height": 435
        },
        "outputId": "4452aaf7-864f-4579-b7d0-1bfa75a4113d"
      },
      "source": [
        "tf.keras.utils.plot_model(model, show_shapes=True, dpi=64)"
      ],
      "execution_count": 49,
      "outputs": [
        {
          "output_type": "execute_result",
          "data": {
            "image/png": "[encoded data removed]",
            "text/plain": [
              "<IPython.core.display.Image object>"
            ]
          },
          "metadata": {
            "tags": []
          },
          "execution_count": 49
        }
      ]
    },
    {
      "cell_type": "code",
      "metadata": {
        "id": "-y8QhqB84lRN",
        "colab_type": "code",
        "colab": {}
      },
      "source": [
        "def run_model(config):\n",
        "    \n",
        "    train_ds, val_ds = bert_dataset(train_df, **config)\n",
        "    test_ds, _ = bert_dataset(test_df,  **config, split=1, shuffle=False)\n",
        "    model = bert_model(**config)\n",
        "    \n",
        "    EPOCHS=10\n",
        "    LR=1e-5\n",
        "\n",
        "    model.compile(optimizer=Adam(LR),\n",
        "                  loss=CategoricalCrossentropy(),\n",
        "                  metrics=[f1_score, Precision(name='P'), Recall(name='R')])\n",
        "\n",
        "    def scheduler(epoch, lr):\n",
        "        # keep the original lr for flat_period epochs, exponential decay since then subject to floor_lr\n",
        "        flat_period, decay, floor_lr = 5, -0.2, 1e-6\n",
        "        if epoch<=flat_period: \n",
        "            return lr\n",
        "        return max(lr*np.exp(decay), floor_lr)\n",
        "   \n",
        "    lr_callback=callbacks.LearningRateScheduler(scheduler, verbose=1) \n",
        "    es_callback=callbacks.EarlyStopping(monitor='val_f1', verbose=1, patience=2, mode='max')\n",
        "\n",
        "    history=model.fit(train_ds,\n",
        "                    epochs=EPOCHS,\n",
        "                    verbose=1,\n",
        "                    callbacks=[lr_callback, es_callback],\n",
        "                    validation_data=val_ds)\n",
        "    plot_training(history)\n",
        "\n",
        "    y_pred = model.predict(test_ds).argmax(axis=1)\n",
        "     \n",
        "    return y_pred \n"
      ],
      "execution_count": 50,
      "outputs": []
    },
    {
      "cell_type": "markdown",
      "metadata": {
        "id": "RhD7bwcDLwEE",
        "colab_type": "text"
      },
      "source": [
        "### m0. single utt"
      ]
    },
    {
      "cell_type": "code",
      "metadata": {
        "id": "4v--nGEs5KJc",
        "colab_type": "code",
        "colab": {
          "base_uri": "https://localhost:8080/",
          "height": 1000
        },
        "outputId": "199b0002-4339-4ed8-b92e-4025f4300288"
      },
      "source": [
        "config = {'two_utt':False, 'include_speakers':False}\n",
        "\n",
        "model_name = 'model_0. single utt'\n",
        "\n",
        "y_pred = run_model(config)\n",
        "scores_df = update_scores(scores_df, model_name, y_pred)\n",
        "scores_df.head(10)\n"
      ],
      "execution_count": 51,
      "outputs": [
        {
          "output_type": "stream",
          "text": [
            "\n",
            "Epoch 00001: LearningRateScheduler reducing learning rate to 9.999999747378752e-06.\n",
            "Epoch 1/10\n",
            "535/535 [==============================] - 161s 302ms/step - loss: 0.6624 - f1: 0.7828 - P: 0.8141 - R: 0.7444 - val_loss: 0.3956 - val_f1: 0.8616 - val_P: 0.8766 - val_R: 0.8411\n",
            "\n",
            "Epoch 00002: LearningRateScheduler reducing learning rate to 9.999999747378752e-06.\n",
            "Epoch 2/10\n",
            "535/535 [==============================] - 145s 272ms/step - loss: 0.3769 - f1: 0.8739 - P: 0.8882 - R: 0.8586 - val_loss: 0.2707 - val_f1: 0.9011 - val_P: 0.9125 - val_R: 0.8942\n",
            "\n",
            "Epoch 00003: LearningRateScheduler reducing learning rate to 9.999999747378752e-06.\n",
            "Epoch 3/10\n",
            "535/535 [==============================] - 145s 272ms/step - loss: 0.2424 - f1: 0.9210 - P: 0.9276 - R: 0.9137 - val_loss: 0.1702 - val_f1: 0.9432 - val_P: 0.9454 - val_R: 0.9395\n",
            "\n",
            "Epoch 00004: LearningRateScheduler reducing learning rate to 9.999999747378752e-06.\n",
            "Epoch 4/10\n",
            "535/535 [==============================] - 145s 271ms/step - loss: 0.1492 - f1: 0.9528 - P: 0.9562 - R: 0.9504 - val_loss: 0.1086 - val_f1: 0.9616 - val_P: 0.9636 - val_R: 0.9611\n",
            "\n",
            "Epoch 00005: LearningRateScheduler reducing learning rate to 9.999999747378752e-06.\n",
            "Epoch 5/10\n",
            "535/535 [==============================] - 145s 271ms/step - loss: 0.1028 - f1: 0.9668 - P: 0.9689 - R: 0.9650 - val_loss: 0.0843 - val_f1: 0.9737 - val_P: 0.9742 - val_R: 0.9726\n",
            "\n",
            "Epoch 00006: LearningRateScheduler reducing learning rate to 9.999999747378752e-06.\n",
            "Epoch 6/10\n",
            "535/535 [==============================] - 145s 271ms/step - loss: 0.0774 - f1: 0.9750 - P: 0.9754 - R: 0.9739 - val_loss: 0.0617 - val_f1: 0.9779 - val_P: 0.9779 - val_R: 0.9774\n",
            "\n",
            "Epoch 00007: LearningRateScheduler reducing learning rate to 8.187307323951033e-06.\n",
            "Epoch 7/10\n",
            "535/535 [==============================] - 145s 271ms/step - loss: 0.0620 - f1: 0.9798 - P: 0.9808 - R: 0.9793 - val_loss: 0.0477 - val_f1: 0.9832 - val_P: 0.9842 - val_R: 0.9821\n",
            "\n",
            "Epoch 00008: LearningRateScheduler reducing learning rate to 6.703200586742346e-06.\n",
            "Epoch 8/10\n",
            "535/535 [==============================] - 145s 271ms/step - loss: 0.0554 - f1: 0.9819 - P: 0.9830 - R: 0.9811 - val_loss: 0.0417 - val_f1: 0.9858 - val_P: 0.9868 - val_R: 0.9853\n",
            "\n",
            "Epoch 00009: LearningRateScheduler reducing learning rate to 5.488116473025672e-06.\n",
            "Epoch 9/10\n",
            "535/535 [==============================] - 145s 271ms/step - loss: 0.0499 - f1: 0.9832 - P: 0.9839 - R: 0.9829 - val_loss: 0.0452 - val_f1: 0.9847 - val_P: 0.9858 - val_R: 0.9842\n",
            "\n",
            "Epoch 00010: LearningRateScheduler reducing learning rate to 4.493289824767367e-06.\n",
            "Epoch 10/10\n",
            "535/535 [==============================] - 145s 271ms/step - loss: 0.0420 - f1: 0.9854 - P: 0.9865 - R: 0.9843 - val_loss: 0.0377 - val_f1: 0.9858 - val_P: 0.9879 - val_R: 0.9853\n",
            "Epoch 00010: early stopping\n"
          ],
          "name": "stdout"
        },
        {
          "output_type": "display_data",
          "data": {
            "image/png": "[encoded data removed]",
            "text/plain": [
              "<Figure size 864x288 with 2 Axes>"
            ]
          },
          "metadata": {
            "tags": []
          }
        },
        {
          "output_type": "stream",
          "text": [
            "              precision    recall  f1-score   support\n",
            "\n",
            "       anger      0.721     0.624     0.669       141\n",
            "         joy      0.846     0.622     0.717       505\n",
            "     neutral      0.795     0.925     0.855      1035\n",
            "     sadness      0.600     0.521     0.558       121\n",
            "\n",
            "    accuracy                          0.789      1802\n",
            "   macro avg      0.741     0.673     0.700      1802\n",
            "weighted avg      0.790     0.789     0.782      1802\n",
            "\n"
          ],
          "name": "stdout"
        },
        {
          "output_type": "execute_result",
          "data": {
            "text/html": [
              "<div>\n",
              "<style scoped>\n",
              "    .dataframe tbody tr th:only-of-type {\n",
              "        vertical-align: middle;\n",
              "    }\n",
              "\n",
              "    .dataframe tbody tr th {\n",
              "        vertical-align: top;\n",
              "    }\n",
              "\n",
              "    .dataframe thead th {\n",
              "        text-align: right;\n",
              "    }\n",
              "</style>\n",
              "<table border=\"1\" class=\"dataframe\">\n",
              "  <thead>\n",
              "    <tr style=\"text-align: right;\">\n",
              "      <th></th>\n",
              "      <th>team/model</th>\n",
              "      <th>micro-f1</th>\n",
              "      <th>macro-f1</th>\n",
              "    </tr>\n",
              "  </thead>\n",
              "  <tbody>\n",
              "    <tr>\n",
              "      <th>0</th>\n",
              "      <td>NTHU IDEA Lab --2019</td>\n",
              "      <td>81.5</td>\n",
              "      <td>73.1</td>\n",
              "    </tr>\n",
              "    <tr>\n",
              "      <th>1</th>\n",
              "      <td>KAKAO NLP+KU  --2019</td>\n",
              "      <td>79.5</td>\n",
              "      <td>68.7</td>\n",
              "    </tr>\n",
              "    <tr>\n",
              "      <th>2</th>\n",
              "      <td>HSU HK --2019</td>\n",
              "      <td>79.1</td>\n",
              "      <td>69.9</td>\n",
              "    </tr>\n",
              "    <tr>\n",
              "      <th>3</th>\n",
              "      <td>random stratified</td>\n",
              "      <td>42.5</td>\n",
              "      <td>25.7</td>\n",
              "    </tr>\n",
              "    <tr>\n",
              "      <th>4</th>\n",
              "      <td>all majority class</td>\n",
              "      <td>57.4</td>\n",
              "      <td>18.2</td>\n",
              "    </tr>\n",
              "    <tr>\n",
              "      <th>5</th>\n",
              "      <td>model_0. single utt</td>\n",
              "      <td>78.9</td>\n",
              "      <td>70.0</td>\n",
              "    </tr>\n",
              "  </tbody>\n",
              "</table>\n",
              "</div>"
            ],
            "text/plain": [
              "             team/model  micro-f1  macro-f1\n",
              "0  NTHU IDEA Lab --2019      81.5      73.1\n",
              "1  KAKAO NLP+KU  --2019      79.5      68.7\n",
              "2         HSU HK --2019      79.1      69.9\n",
              "3     random stratified      42.5      25.7\n",
              "4    all majority class      57.4      18.2\n",
              "5   model_0. single utt      78.9      70.0"
            ]
          },
          "metadata": {
            "tags": []
          },
          "execution_count": 51
        }
      ]
    },
    {
      "cell_type": "markdown",
      "metadata": {
        "id": "MDgxN8nK89o5",
        "colab_type": "text"
      },
      "source": [
        "### m1. two utt"
      ]
    },
    {
      "cell_type": "code",
      "metadata": {
        "id": "bywUmYYil9ao",
        "colab_type": "code",
        "colab": {
          "base_uri": "https://localhost:8080/",
          "height": 1000
        },
        "outputId": "2d1b6fe7-7f1a-4526-8ba9-0e026a4fe79a"
      },
      "source": [
        "config = {'two_utt':True, 'include_speakers':False}\n",
        "\n",
        "model_name = 'model_1. two utt'\n",
        "\n",
        "y_pred = run_model(config)\n",
        "scores_df = update_scores(scores_df, model_name, y_pred)\n",
        "scores_df.head(10)\n"
      ],
      "execution_count": 52,
      "outputs": [
        {
          "output_type": "stream",
          "text": [
            "\n",
            "Epoch 00001: LearningRateScheduler reducing learning rate to 9.999999747378752e-06.\n",
            "Epoch 1/10\n",
            "535/535 [==============================] - 291s 545ms/step - loss: 0.7761 - f1: 0.7960 - P: 0.7399 - R: 0.6562 - val_loss: 0.4283 - val_f1: 0.8495 - val_P: 0.8657 - val_R: 0.8311\n",
            "\n",
            "Epoch 00002: LearningRateScheduler reducing learning rate to 9.999999747378752e-06.\n",
            "Epoch 2/10\n",
            "535/535 [==============================] - 276s 515ms/step - loss: 0.3824 - f1: 0.8696 - P: 0.8838 - R: 0.8535 - val_loss: 0.3036 - val_f1: 0.8968 - val_P: 0.9078 - val_R: 0.8911\n",
            "\n",
            "Epoch 00003: LearningRateScheduler reducing learning rate to 9.999999747378752e-06.\n",
            "Epoch 3/10\n",
            "535/535 [==============================] - 276s 515ms/step - loss: 0.2358 - f1: 0.9206 - P: 0.9300 - R: 0.9123 - val_loss: 0.1711 - val_f1: 0.9421 - val_P: 0.9468 - val_R: 0.9374\n",
            "\n",
            "Epoch 00004: LearningRateScheduler reducing learning rate to 9.999999747378752e-06.\n",
            "Epoch 4/10\n",
            "535/535 [==============================] - 276s 515ms/step - loss: 0.1306 - f1: 0.9569 - P: 0.9614 - R: 0.9538 - val_loss: 0.0977 - val_f1: 0.9647 - val_P: 0.9672 - val_R: 0.9632\n",
            "\n",
            "Epoch 00005: LearningRateScheduler reducing learning rate to 9.999999747378752e-06.\n",
            "Epoch 5/10\n",
            "535/535 [==============================] - 276s 515ms/step - loss: 0.0724 - f1: 0.9749 - P: 0.9763 - R: 0.9734 - val_loss: 0.0674 - val_f1: 0.9784 - val_P: 0.9784 - val_R: 0.9763\n",
            "\n",
            "Epoch 00006: LearningRateScheduler reducing learning rate to 9.999999747378752e-06.\n",
            "Epoch 6/10\n",
            "535/535 [==============================] - 276s 515ms/step - loss: 0.0516 - f1: 0.9824 - P: 0.9833 - R: 0.9817 - val_loss: 0.0444 - val_f1: 0.9816 - val_P: 0.9816 - val_R: 0.9811\n",
            "\n",
            "Epoch 00007: LearningRateScheduler reducing learning rate to 8.187307323951033e-06.\n",
            "Epoch 7/10\n",
            "535/535 [==============================] - 276s 515ms/step - loss: 0.0441 - f1: 0.9832 - P: 0.9839 - R: 0.9829 - val_loss: 0.0233 - val_f1: 0.9921 - val_P: 0.9921 - val_R: 0.9921\n",
            "\n",
            "Epoch 00008: LearningRateScheduler reducing learning rate to 6.703200586742346e-06.\n",
            "Epoch 8/10\n",
            "535/535 [==============================] - 276s 515ms/step - loss: 0.0267 - f1: 0.9902 - P: 0.9907 - R: 0.9898 - val_loss: 0.0260 - val_f1: 0.9916 - val_P: 0.9916 - val_R: 0.9916\n",
            "\n",
            "Epoch 00009: LearningRateScheduler reducing learning rate to 5.488116473025672e-06.\n",
            "Epoch 9/10\n",
            "535/535 [==============================] - 276s 515ms/step - loss: 0.0197 - f1: 0.9931 - P: 0.9933 - R: 0.9931 - val_loss: 0.0224 - val_f1: 0.9926 - val_P: 0.9926 - val_R: 0.9926\n",
            "\n",
            "Epoch 00010: LearningRateScheduler reducing learning rate to 4.493289824767367e-06.\n",
            "Epoch 10/10\n",
            "535/535 [==============================] - 276s 515ms/step - loss: 0.0157 - f1: 0.9943 - P: 0.9945 - R: 0.9941 - val_loss: 0.0171 - val_f1: 0.9942 - val_P: 0.9942 - val_R: 0.9942\n"
          ],
          "name": "stdout"
        },
        {
          "output_type": "display_data",
          "data": {
            "image/png": "[encoded data removed]",
            "text/plain": [
              "<Figure size 864x288 with 2 Axes>"
            ]
          },
          "metadata": {
            "tags": []
          }
        },
        {
          "output_type": "stream",
          "text": [
            "              precision    recall  f1-score   support\n",
            "\n",
            "       anger      0.702     0.617     0.657       141\n",
            "         joy      0.850     0.640     0.730       505\n",
            "     neutral      0.806     0.927     0.862      1035\n",
            "     sadness      0.620     0.554     0.585       121\n",
            "\n",
            "    accuracy                          0.797      1802\n",
            "   macro avg      0.744     0.684     0.708      1802\n",
            "weighted avg      0.798     0.797     0.790      1802\n",
            "\n"
          ],
          "name": "stdout"
        },
        {
          "output_type": "execute_result",
          "data": {
            "text/html": [
              "<div>\n",
              "<style scoped>\n",
              "    .dataframe tbody tr th:only-of-type {\n",
              "        vertical-align: middle;\n",
              "    }\n",
              "\n",
              "    .dataframe tbody tr th {\n",
              "        vertical-align: top;\n",
              "    }\n",
              "\n",
              "    .dataframe thead th {\n",
              "        text-align: right;\n",
              "    }\n",
              "</style>\n",
              "<table border=\"1\" class=\"dataframe\">\n",
              "  <thead>\n",
              "    <tr style=\"text-align: right;\">\n",
              "      <th></th>\n",
              "      <th>team/model</th>\n",
              "      <th>micro-f1</th>\n",
              "      <th>macro-f1</th>\n",
              "    </tr>\n",
              "  </thead>\n",
              "  <tbody>\n",
              "    <tr>\n",
              "      <th>0</th>\n",
              "      <td>NTHU IDEA Lab --2019</td>\n",
              "      <td>81.5</td>\n",
              "      <td>73.1</td>\n",
              "    </tr>\n",
              "    <tr>\n",
              "      <th>1</th>\n",
              "      <td>KAKAO NLP+KU  --2019</td>\n",
              "      <td>79.5</td>\n",
              "      <td>68.7</td>\n",
              "    </tr>\n",
              "    <tr>\n",
              "      <th>2</th>\n",
              "      <td>HSU HK --2019</td>\n",
              "      <td>79.1</td>\n",
              "      <td>69.9</td>\n",
              "    </tr>\n",
              "    <tr>\n",
              "      <th>3</th>\n",
              "      <td>random stratified</td>\n",
              "      <td>42.5</td>\n",
              "      <td>25.7</td>\n",
              "    </tr>\n",
              "    <tr>\n",
              "      <th>4</th>\n",
              "      <td>all majority class</td>\n",
              "      <td>57.4</td>\n",
              "      <td>18.2</td>\n",
              "    </tr>\n",
              "    <tr>\n",
              "      <th>5</th>\n",
              "      <td>model_0. single utt</td>\n",
              "      <td>78.9</td>\n",
              "      <td>70.0</td>\n",
              "    </tr>\n",
              "    <tr>\n",
              "      <th>6</th>\n",
              "      <td>model_1. two utt</td>\n",
              "      <td>79.7</td>\n",
              "      <td>70.8</td>\n",
              "    </tr>\n",
              "  </tbody>\n",
              "</table>\n",
              "</div>"
            ],
            "text/plain": [
              "             team/model  micro-f1  macro-f1\n",
              "0  NTHU IDEA Lab --2019      81.5      73.1\n",
              "1  KAKAO NLP+KU  --2019      79.5      68.7\n",
              "2         HSU HK --2019      79.1      69.9\n",
              "3     random stratified      42.5      25.7\n",
              "4    all majority class      57.4      18.2\n",
              "5   model_0. single utt      78.9      70.0\n",
              "6      model_1. two utt      79.7      70.8"
            ]
          },
          "metadata": {
            "tags": []
          },
          "execution_count": 52
        }
      ]
    },
    {
      "cell_type": "code",
      "metadata": {
        "id": "gEL4cq8kLn7k",
        "colab_type": "code",
        "colab": {}
      },
      "source": [
        ""
      ],
      "execution_count": 52,
      "outputs": []
    },
    {
      "cell_type": "markdown",
      "metadata": {
        "id": "n4S6sAZ5CVN1",
        "colab_type": "text"
      },
      "source": [
        "### m2. single utt + speaker"
      ]
    },
    {
      "cell_type": "code",
      "metadata": {
        "id": "V8sop2oSzWWV",
        "colab_type": "code",
        "colab": {
          "base_uri": "https://localhost:8080/",
          "height": 1000
        },
        "outputId": "6107d0e0-7a5d-4272-a791-dafe1d2e0c91"
      },
      "source": [
        "config = {'two_utt':False, 'include_speakers':True}\n",
        "\n",
        "model_name = 'model_2. single utt + speaker'\n",
        "\n",
        "y_pred = run_model(config)\n",
        "scores_df = update_scores(scores_df, model_name, y_pred)\n",
        "scores_df.head(10)\n"
      ],
      "execution_count": 53,
      "outputs": [
        {
          "output_type": "stream",
          "text": [
            "\n",
            "Epoch 00001: LearningRateScheduler reducing learning rate to 9.999999747378752e-06.\n",
            "Epoch 1/10\n",
            "535/535 [==============================] - 161s 302ms/step - loss: 0.6651 - f1: 0.8394 - P: 0.8194 - R: 0.7064 - val_loss: 0.3834 - val_f1: 0.8663 - val_P: 0.8871 - val_R: 0.8479\n",
            "\n",
            "Epoch 00002: LearningRateScheduler reducing learning rate to 9.999999747378752e-06.\n",
            "Epoch 2/10\n",
            "535/535 [==============================] - 145s 272ms/step - loss: 0.3648 - f1: 0.8730 - P: 0.8875 - R: 0.8562 - val_loss: 0.2825 - val_f1: 0.9079 - val_P: 0.9147 - val_R: 0.8968\n",
            "\n",
            "Epoch 00003: LearningRateScheduler reducing learning rate to 9.999999747378752e-06.\n",
            "Epoch 3/10\n",
            "535/535 [==============================] - 146s 272ms/step - loss: 0.2250 - f1: 0.9264 - P: 0.9333 - R: 0.9185 - val_loss: 0.1707 - val_f1: 0.9411 - val_P: 0.9444 - val_R: 0.9395\n",
            "\n",
            "Epoch 00004: LearningRateScheduler reducing learning rate to 9.999999747378752e-06.\n",
            "Epoch 4/10\n",
            "535/535 [==============================] - 146s 272ms/step - loss: 0.1328 - f1: 0.9583 - P: 0.9626 - R: 0.9556 - val_loss: 0.1129 - val_f1: 0.9621 - val_P: 0.9631 - val_R: 0.9605\n",
            "\n",
            "Epoch 00005: LearningRateScheduler reducing learning rate to 9.999999747378752e-06.\n",
            "Epoch 5/10\n",
            "535/535 [==============================] - 146s 272ms/step - loss: 0.0947 - f1: 0.9693 - P: 0.9710 - R: 0.9678 - val_loss: 0.0896 - val_f1: 0.9716 - val_P: 0.9721 - val_R: 0.9705\n",
            "\n",
            "Epoch 00006: LearningRateScheduler reducing learning rate to 9.999999747378752e-06.\n",
            "Epoch 6/10\n",
            "535/535 [==============================] - 145s 272ms/step - loss: 0.0696 - f1: 0.9784 - P: 0.9798 - R: 0.9777 - val_loss: 0.0777 - val_f1: 0.9742 - val_P: 0.9747 - val_R: 0.9721\n",
            "\n",
            "Epoch 00007: LearningRateScheduler reducing learning rate to 8.187307323951033e-06.\n",
            "Epoch 7/10\n",
            "535/535 [==============================] - 145s 272ms/step - loss: 0.0610 - f1: 0.9796 - P: 0.9811 - R: 0.9783 - val_loss: 0.0725 - val_f1: 0.9779 - val_P: 0.9784 - val_R: 0.9763\n",
            "\n",
            "Epoch 00008: LearningRateScheduler reducing learning rate to 6.703200586742346e-06.\n",
            "Epoch 8/10\n",
            "535/535 [==============================] - 145s 272ms/step - loss: 0.0527 - f1: 0.9829 - P: 0.9835 - R: 0.9825 - val_loss: 0.0610 - val_f1: 0.9774 - val_P: 0.9789 - val_R: 0.9768\n",
            "\n",
            "Epoch 00009: LearningRateScheduler reducing learning rate to 5.488116473025672e-06.\n",
            "Epoch 9/10\n",
            "535/535 [==============================] - 145s 272ms/step - loss: 0.0433 - f1: 0.9858 - P: 0.9863 - R: 0.9851 - val_loss: 0.0546 - val_f1: 0.9784 - val_P: 0.9784 - val_R: 0.9784\n",
            "\n",
            "Epoch 00010: LearningRateScheduler reducing learning rate to 4.493289824767367e-06.\n",
            "Epoch 10/10\n",
            "535/535 [==============================] - 145s 272ms/step - loss: 0.0445 - f1: 0.9854 - P: 0.9857 - R: 0.9850 - val_loss: 0.0470 - val_f1: 0.9811 - val_P: 0.9811 - val_R: 0.9811\n"
          ],
          "name": "stdout"
        },
        {
          "output_type": "display_data",
          "data": {
            "image/png": "[encoded data removed]",
            "text/plain": [
              "<Figure size 864x288 with 2 Axes>"
            ]
          },
          "metadata": {
            "tags": []
          }
        },
        {
          "output_type": "stream",
          "text": [
            "              precision    recall  f1-score   support\n",
            "\n",
            "       anger      0.693     0.674     0.683       141\n",
            "         joy      0.839     0.638     0.724       505\n",
            "     neutral      0.806     0.926     0.862      1035\n",
            "     sadness      0.624     0.479     0.542       121\n",
            "\n",
            "    accuracy                          0.795      1802\n",
            "   macro avg      0.741     0.679     0.703      1802\n",
            "weighted avg      0.794     0.795     0.788      1802\n",
            "\n"
          ],
          "name": "stdout"
        },
        {
          "output_type": "execute_result",
          "data": {
            "text/html": [
              "<div>\n",
              "<style scoped>\n",
              "    .dataframe tbody tr th:only-of-type {\n",
              "        vertical-align: middle;\n",
              "    }\n",
              "\n",
              "    .dataframe tbody tr th {\n",
              "        vertical-align: top;\n",
              "    }\n",
              "\n",
              "    .dataframe thead th {\n",
              "        text-align: right;\n",
              "    }\n",
              "</style>\n",
              "<table border=\"1\" class=\"dataframe\">\n",
              "  <thead>\n",
              "    <tr style=\"text-align: right;\">\n",
              "      <th></th>\n",
              "      <th>team/model</th>\n",
              "      <th>micro-f1</th>\n",
              "      <th>macro-f1</th>\n",
              "    </tr>\n",
              "  </thead>\n",
              "  <tbody>\n",
              "    <tr>\n",
              "      <th>0</th>\n",
              "      <td>NTHU IDEA Lab --2019</td>\n",
              "      <td>81.5</td>\n",
              "      <td>73.1</td>\n",
              "    </tr>\n",
              "    <tr>\n",
              "      <th>1</th>\n",
              "      <td>KAKAO NLP+KU  --2019</td>\n",
              "      <td>79.5</td>\n",
              "      <td>68.7</td>\n",
              "    </tr>\n",
              "    <tr>\n",
              "      <th>2</th>\n",
              "      <td>HSU HK --2019</td>\n",
              "      <td>79.1</td>\n",
              "      <td>69.9</td>\n",
              "    </tr>\n",
              "    <tr>\n",
              "      <th>3</th>\n",
              "      <td>random stratified</td>\n",
              "      <td>42.5</td>\n",
              "      <td>25.7</td>\n",
              "    </tr>\n",
              "    <tr>\n",
              "      <th>4</th>\n",
              "      <td>all majority class</td>\n",
              "      <td>57.4</td>\n",
              "      <td>18.2</td>\n",
              "    </tr>\n",
              "    <tr>\n",
              "      <th>5</th>\n",
              "      <td>model_0. single utt</td>\n",
              "      <td>78.9</td>\n",
              "      <td>70.0</td>\n",
              "    </tr>\n",
              "    <tr>\n",
              "      <th>6</th>\n",
              "      <td>model_1. two utt</td>\n",
              "      <td>79.7</td>\n",
              "      <td>70.8</td>\n",
              "    </tr>\n",
              "    <tr>\n",
              "      <th>7</th>\n",
              "      <td>model_2. single utt + speaker</td>\n",
              "      <td>79.5</td>\n",
              "      <td>70.3</td>\n",
              "    </tr>\n",
              "  </tbody>\n",
              "</table>\n",
              "</div>"
            ],
            "text/plain": [
              "                      team/model  micro-f1  macro-f1\n",
              "0           NTHU IDEA Lab --2019      81.5      73.1\n",
              "1           KAKAO NLP+KU  --2019      79.5      68.7\n",
              "2                  HSU HK --2019      79.1      69.9\n",
              "3              random stratified      42.5      25.7\n",
              "4             all majority class      57.4      18.2\n",
              "5            model_0. single utt      78.9      70.0\n",
              "6               model_1. two utt      79.7      70.8\n",
              "7  model_2. single utt + speaker      79.5      70.3"
            ]
          },
          "metadata": {
            "tags": []
          },
          "execution_count": 53
        }
      ]
    },
    {
      "cell_type": "markdown",
      "metadata": {
        "id": "Id0E13b8zpyV",
        "colab_type": "text"
      },
      "source": [
        "### m3. two utt + speaker"
      ]
    },
    {
      "cell_type": "code",
      "metadata": {
        "id": "aKQUGnPazp4o",
        "colab_type": "code",
        "colab": {
          "base_uri": "https://localhost:8080/",
          "height": 1000
        },
        "outputId": "b50f050f-0ad6-49ab-caff-d83391b2dee4"
      },
      "source": [
        "config = {'two_utt':True, 'include_speakers':True}\n",
        "\n",
        "model_name = 'model_3. two utt + speaker'\n",
        "\n",
        "y_pred = run_model(config)\n",
        "scores_df = update_scores(scores_df, model_name, y_pred)\n",
        "scores_df.head(10)\n"
      ],
      "execution_count": 54,
      "outputs": [
        {
          "output_type": "stream",
          "text": [
            "\n",
            "Epoch 00001: LearningRateScheduler reducing learning rate to 9.999999747378752e-06.\n",
            "Epoch 1/10\n",
            "535/535 [==============================] - 292s 545ms/step - loss: 0.7793 - f1: 0.7991 - P: 0.7440 - R: 0.6612 - val_loss: 0.4098 - val_f1: 0.8537 - val_P: 0.8600 - val_R: 0.8405\n",
            "\n",
            "Epoch 00002: LearningRateScheduler reducing learning rate to 9.999999747378752e-06.\n",
            "Epoch 2/10\n",
            "535/535 [==============================] - 276s 515ms/step - loss: 0.3723 - f1: 0.8720 - P: 0.8876 - R: 0.8580 - val_loss: 0.2962 - val_f1: 0.8984 - val_P: 0.9086 - val_R: 0.8889\n",
            "\n",
            "Epoch 00003: LearningRateScheduler reducing learning rate to 9.999999747378752e-06.\n",
            "Epoch 3/10\n",
            "535/535 [==============================] - 276s 515ms/step - loss: 0.2152 - f1: 0.9284 - P: 0.9342 - R: 0.9234 - val_loss: 0.1610 - val_f1: 0.9505 - val_P: 0.9539 - val_R: 0.9484\n",
            "\n",
            "Epoch 00004: LearningRateScheduler reducing learning rate to 9.999999747378752e-06.\n",
            "Epoch 4/10\n",
            "535/535 [==============================] - 276s 515ms/step - loss: 0.1256 - f1: 0.9613 - P: 0.9636 - R: 0.9583 - val_loss: 0.0988 - val_f1: 0.9668 - val_P: 0.9673 - val_R: 0.9653\n",
            "\n",
            "Epoch 00005: LearningRateScheduler reducing learning rate to 9.999999747378752e-06.\n",
            "Epoch 5/10\n",
            "535/535 [==============================] - 276s 515ms/step - loss: 0.0773 - f1: 0.9753 - P: 0.9768 - R: 0.9740 - val_loss: 0.0561 - val_f1: 0.9784 - val_P: 0.9794 - val_R: 0.9779\n",
            "\n",
            "Epoch 00006: LearningRateScheduler reducing learning rate to 9.999999747378752e-06.\n",
            "Epoch 6/10\n",
            "535/535 [==============================] - 276s 515ms/step - loss: 0.0596 - f1: 0.9792 - P: 0.9798 - R: 0.9790 - val_loss: 0.0395 - val_f1: 0.9842 - val_P: 0.9852 - val_R: 0.9842\n",
            "\n",
            "Epoch 00007: LearningRateScheduler reducing learning rate to 8.187307323951033e-06.\n",
            "Epoch 7/10\n",
            "535/535 [==============================] - 276s 515ms/step - loss: 0.0450 - f1: 0.9846 - P: 0.9850 - R: 0.9840 - val_loss: 0.0326 - val_f1: 0.9884 - val_P: 0.9895 - val_R: 0.9879\n",
            "\n",
            "Epoch 00008: LearningRateScheduler reducing learning rate to 6.703200586742346e-06.\n",
            "Epoch 8/10\n",
            "535/535 [==============================] - 276s 515ms/step - loss: 0.0217 - f1: 0.9924 - P: 0.9926 - R: 0.9920 - val_loss: 0.0227 - val_f1: 0.9926 - val_P: 0.9926 - val_R: 0.9926\n",
            "\n",
            "Epoch 00009: LearningRateScheduler reducing learning rate to 5.488116473025672e-06.\n",
            "Epoch 9/10\n",
            "535/535 [==============================] - 276s 515ms/step - loss: 0.0157 - f1: 0.9947 - P: 0.9947 - R: 0.9944 - val_loss: 0.0192 - val_f1: 0.9932 - val_P: 0.9932 - val_R: 0.9932\n",
            "\n",
            "Epoch 00010: LearningRateScheduler reducing learning rate to 4.493289824767367e-06.\n",
            "Epoch 10/10\n",
            "535/535 [==============================] - 276s 515ms/step - loss: 0.0155 - f1: 0.9945 - P: 0.9946 - R: 0.9945 - val_loss: 0.0188 - val_f1: 0.9947 - val_P: 0.9947 - val_R: 0.9947\n"
          ],
          "name": "stdout"
        },
        {
          "output_type": "display_data",
          "data": {
            "image/png": "[encoded data removed]",
            "text/plain": [
              "<Figure size 864x288 with 2 Axes>"
            ]
          },
          "metadata": {
            "tags": []
          }
        },
        {
          "output_type": "stream",
          "text": [
            "              precision    recall  f1-score   support\n",
            "\n",
            "       anger      0.649     0.695     0.671       141\n",
            "         joy      0.865     0.657     0.747       505\n",
            "     neutral      0.820     0.918     0.866      1035\n",
            "     sadness      0.679     0.612     0.643       121\n",
            "\n",
            "    accuracy                          0.807      1802\n",
            "   macro avg      0.753     0.720     0.732      1802\n",
            "weighted avg      0.810     0.807     0.803      1802\n",
            "\n"
          ],
          "name": "stdout"
        },
        {
          "output_type": "execute_result",
          "data": {
            "text/html": [
              "<div>\n",
              "<style scoped>\n",
              "    .dataframe tbody tr th:only-of-type {\n",
              "        vertical-align: middle;\n",
              "    }\n",
              "\n",
              "    .dataframe tbody tr th {\n",
              "        vertical-align: top;\n",
              "    }\n",
              "\n",
              "    .dataframe thead th {\n",
              "        text-align: right;\n",
              "    }\n",
              "</style>\n",
              "<table border=\"1\" class=\"dataframe\">\n",
              "  <thead>\n",
              "    <tr style=\"text-align: right;\">\n",
              "      <th></th>\n",
              "      <th>team/model</th>\n",
              "      <th>micro-f1</th>\n",
              "      <th>macro-f1</th>\n",
              "    </tr>\n",
              "  </thead>\n",
              "  <tbody>\n",
              "    <tr>\n",
              "      <th>0</th>\n",
              "      <td>NTHU IDEA Lab --2019</td>\n",
              "      <td>81.5</td>\n",
              "      <td>73.1</td>\n",
              "    </tr>\n",
              "    <tr>\n",
              "      <th>1</th>\n",
              "      <td>KAKAO NLP+KU  --2019</td>\n",
              "      <td>79.5</td>\n",
              "      <td>68.7</td>\n",
              "    </tr>\n",
              "    <tr>\n",
              "      <th>2</th>\n",
              "      <td>HSU HK --2019</td>\n",
              "      <td>79.1</td>\n",
              "      <td>69.9</td>\n",
              "    </tr>\n",
              "    <tr>\n",
              "      <th>3</th>\n",
              "      <td>random stratified</td>\n",
              "      <td>42.5</td>\n",
              "      <td>25.7</td>\n",
              "    </tr>\n",
              "    <tr>\n",
              "      <th>4</th>\n",
              "      <td>all majority class</td>\n",
              "      <td>57.4</td>\n",
              "      <td>18.2</td>\n",
              "    </tr>\n",
              "    <tr>\n",
              "      <th>5</th>\n",
              "      <td>model_0. single utt</td>\n",
              "      <td>78.9</td>\n",
              "      <td>70.0</td>\n",
              "    </tr>\n",
              "    <tr>\n",
              "      <th>6</th>\n",
              "      <td>model_1. two utt</td>\n",
              "      <td>79.7</td>\n",
              "      <td>70.8</td>\n",
              "    </tr>\n",
              "    <tr>\n",
              "      <th>7</th>\n",
              "      <td>model_2. single utt + speaker</td>\n",
              "      <td>79.5</td>\n",
              "      <td>70.3</td>\n",
              "    </tr>\n",
              "    <tr>\n",
              "      <th>8</th>\n",
              "      <td>model_3. two utt + speaker</td>\n",
              "      <td>80.7</td>\n",
              "      <td>73.2</td>\n",
              "    </tr>\n",
              "  </tbody>\n",
              "</table>\n",
              "</div>"
            ],
            "text/plain": [
              "                      team/model  micro-f1  macro-f1\n",
              "0           NTHU IDEA Lab --2019      81.5      73.1\n",
              "1           KAKAO NLP+KU  --2019      79.5      68.7\n",
              "2                  HSU HK --2019      79.1      69.9\n",
              "3              random stratified      42.5      25.7\n",
              "4             all majority class      57.4      18.2\n",
              "5            model_0. single utt      78.9      70.0\n",
              "6               model_1. two utt      79.7      70.8\n",
              "7  model_2. single utt + speaker      79.5      70.3\n",
              "8     model_3. two utt + speaker      80.7      73.2"
            ]
          },
          "metadata": {
            "tags": []
          },
          "execution_count": 54
        }
      ]
    },
    {
      "cell_type": "code",
      "metadata": {
        "id": "FKVgQIYCzp-y",
        "colab_type": "code",
        "colab": {}
      },
      "source": [
        ""
      ],
      "execution_count": 54,
      "outputs": []
    },
    {
      "cell_type": "markdown",
      "metadata": {
        "id": "tLhh3jUTY4GV",
        "colab_type": "text"
      },
      "source": [
        "### Scores"
      ]
    },
    {
      "cell_type": "code",
      "metadata": {
        "id": "5b5gA_B4aJqH",
        "colab_type": "code",
        "colab": {
          "base_uri": "https://localhost:8080/",
          "height": 441
        },
        "outputId": "cb1e757d-2668-4e63-a38b-5d54edb77340"
      },
      "source": [
        "x = np.arange(len(scores_df))\n",
        "width = 0.3\n",
        "\n",
        "fig, ax = plt.subplots(figsize=(12, 6))\n",
        "micro = ax.bar(x-width/2, scores_df['micro-f1'], width, label='micro-f1', color='c')\n",
        "macro = ax.bar(x+width/2, scores_df['macro-f1'], width, label='macro-f1', color='lightcyan')\n",
        "\n",
        "ax.set_title('EmotionX 2019:  f1 scores.   First 3 models are top-3 in the 2019 challenge')\n",
        "ax.set_ylim(0,100)\n",
        "ax.set_xticks(x)\n",
        "ax.set_xticklabels(scores_df['team/model'], rotation=60)\n",
        "ax.legend(loc='lower right')\n",
        "\n",
        "def autolabel(rects):\n",
        "    for rect in rects:\n",
        "        height = rect.get_height()\n",
        "        ax.annotate(f'{height:.1f}', xy=(rect.get_x()+.5*rect.get_width(), height), xytext=(0,3), \n",
        "                                     textcoords=\"offset points\", ha='center', va='bottom')\n",
        "autolabel(micro)\n",
        "autolabel(macro)\n",
        "fig.tight_layout()\n",
        "plt.show()"
      ],
      "execution_count": 57,
      "outputs": [
        {
          "output_type": "display_data",
          "data": {
            "image/png": "[encoded data removed]",
            "text/plain": [
              "<Figure size 864x432 with 1 Axes>"
            ]
          },
          "metadata": {
            "tags": []
          }
        }
      ]
    },
    {
      "cell_type": "code",
      "metadata": {
        "id": "je98mFwGzONV",
        "colab_type": "code",
        "colab": {}
      },
      "source": [
        ""
      ],
      "execution_count": null,
      "outputs": []
    },
    {
      "cell_type": "markdown",
      "metadata": {
        "id": "WuqSXW2n3OGH",
        "colab_type": "text"
      },
      "source": [
        "### Extract BERT features"
      ]
    },
    {
      "cell_type": "code",
      "metadata": {
        "id": "UIC5blUu4n_V",
        "colab_type": "code",
        "colab": {
          "base_uri": "https://localhost:8080/",
          "height": 173
        },
        "outputId": "f19bf526-a2b7-414d-d737-92c968ddb9a5"
      },
      "source": [
        "model_3.layers"
      ],
      "execution_count": null,
      "outputs": [
        {
          "output_type": "execute_result",
          "data": {
            "text/plain": [
              "[<tensorflow.python.keras.engine.input_layer.InputLayer at 0x7feabe9113c8>,\n",
              " <tensorflow.python.keras.engine.input_layer.InputLayer at 0x7feabea3b668>,\n",
              " <tensorflow.python.keras.engine.input_layer.InputLayer at 0x7feabe911eb8>,\n",
              " <tensorflow_hub.keras_layer.KerasLayer at 0x7feabe9115f8>,\n",
              " <tensorflow.python.keras.layers.core.Dropout at 0x7fea78de5cf8>,\n",
              " <tensorflow.python.keras.engine.input_layer.InputLayer at 0x7fea796d8748>,\n",
              " <tensorflow.python.keras.layers.core.TFOpLambda at 0x7fea78d31048>,\n",
              " <tensorflow.python.keras.layers.core.Dense at 0x7fea78d8b470>,\n",
              " <tensorflow.python.keras.layers.core.Dense at 0x7fea78de5ac8>]"
            ]
          },
          "metadata": {
            "tags": []
          },
          "execution_count": 58
        }
      ]
    },
    {
      "cell_type": "code",
      "metadata": {
        "id": "Eaj4ksB_H-bf",
        "colab_type": "code",
        "colab": {
          "base_uri": "https://localhost:8080/",
          "height": 35
        },
        "outputId": "dd4fd47a-1de2-4a4d-de1d-c3a8dbe65ef2"
      },
      "source": [
        "# extract the pre-trained BERT sentence embeddings from the best-performing model\n",
        "# model_3 includes the speaker one-hot vector after concatenation\n",
        "model_3.layers[6]"
      ],
      "execution_count": null,
      "outputs": [
        {
          "output_type": "execute_result",
          "data": {
            "text/plain": [
              "<tensorflow.python.keras.layers.core.TFOpLambda at 0x7fea78d31048>"
            ]
          },
          "metadata": {
            "tags": []
          },
          "execution_count": 56
        }
      ]
    },
    {
      "cell_type": "code",
      "metadata": {
        "id": "vtnxvTsTVV5P",
        "colab_type": "code",
        "colab": {
          "base_uri": "https://localhost:8080/",
          "height": 52
        },
        "outputId": "09d42216-6b32-4906-9877-c74a10b77905"
      },
      "source": [
        "# output at layer 6 after concatenation\n",
        "bert_extractor = keras.Model(inputs=model_3.input, outputs=model_3.layers[6].output)\n",
        "\n",
        "# model_3 config. no shuffling to preserve he order for feature extraction\n",
        "config = {'two_utt':True, 'include_speakers':True, 'split':1, 'shuffle':False}\n",
        "f_train_ds = bert_dataset(train_df, **config)[0]\n",
        "f_test_ds  = bert_dataset(test_df,  **config)[0]\n",
        "\n",
        "# produce numpy features\n",
        "f_train = bert_extractor.predict(f_train_ds)\n",
        "f_test  = bert_extractor.predict(f_test_ds)\n",
        "\n",
        "print(train_df.shape, f_train.shape)\n",
        "print(test_df.shape, f_test.shape)\n",
        "\n",
        "# save numpy features \n",
        "np.save(path+'models/train_extracted_m1', f_train, allow_pickle=True)\n",
        "np.save(path+'models/test_extracted_m1', f_test, allow_pickle=True)"
      ],
      "execution_count": null,
      "outputs": [
        {
          "output_type": "stream",
          "text": [
            "(18994, 6) (18994, 775)\n",
            "(1802, 6) (1802, 775)\n"
          ],
          "name": "stdout"
        }
      ]
    },
    {
      "cell_type": "code",
      "metadata": {
        "id": "wH5PevfR50b4",
        "colab_type": "code",
        "colab": {}
      },
      "source": [
        ""
      ],
      "execution_count": null,
      "outputs": []
    }
  ]
}