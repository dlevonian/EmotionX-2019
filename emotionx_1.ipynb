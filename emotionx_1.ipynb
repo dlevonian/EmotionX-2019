{
  "nbformat": 4,
  "nbformat_minor": 0,
  "metadata": {
    "colab": {
      "name": "emotionx_1.ipynb",
      "provenance": [],
      "collapsed_sections": [],
      "toc_visible": true,
      "machine_shape": "hm",
      "authorship_tag": "ABX9TyNw4pXniROM4FHZ2EHBbGet",
      "include_colab_link": true
    },
    "kernelspec": {
      "name": "python3",
      "display_name": "Python 3"
    },
    "accelerator": "GPU"
  },
  "cells": [
    {
      "cell_type": "markdown",
      "metadata": {
        "id": "view-in-github",
        "colab_type": "text"
      },
      "source": [
        "<a href=\"https://colab.research.google.com/github/dlevonian/EmotionX-2019/blob/master/emotionx_1.ipynb\" target=\"_parent\"><img src=\"https://colab.research.google.com/assets/colab-badge.svg\" alt=\"Open In Colab\"/></a>"
      ]
    },
    {
      "cell_type": "markdown",
      "metadata": {
        "id": "UXZcYcRKKQNq",
        "colab_type": "text"
      },
      "source": [
        "# EmotionX 2019"
      ]
    },
    {
      "cell_type": "markdown",
      "metadata": {
        "id": "2i7kbHxkGkam",
        "colab_type": "text"
      },
      "source": [
        "[EmotionX 2019 Challenge](https://sites.google.com/view/emotionx2019/home?authuser=0)\n",
        "\n",
        "Participants are challenged to predict the emotions induced by dialogue utterances by classifying each utterance into one of four label candidates: joy, sadness, anger, and neutral.\n",
        "\n",
        "Leaderboard for the Friends dataset:"
      ]
    },
    {
      "cell_type": "markdown",
      "metadata": {
        "id": "Knl46gMgGkfs",
        "colab_type": "text"
      },
      "source": [
        "![alt text](https://drive.google.com/uc?id=1wWCGTD-rFySYK350_QQyEdXdDAzMKQ1d)"
      ]
    },
    {
      "cell_type": "markdown",
      "metadata": {
        "id": "oBVK9MG-U7zZ",
        "colab_type": "text"
      },
      "source": [
        "Thanks to David Patton for this great notebook:\n",
        "https://github.com/dcpatton/NLP/blob/master/Friends_Albert.ipynb\n",
        "\n",
        "Thanks to George Zoto, David Patton, and Robert Kraig for organizing the [Deep Learning Adventures](https://www.meetup.com/Deep-Learning-Adventures/) group"
      ]
    },
    {
      "cell_type": "markdown",
      "metadata": {
        "id": "28SY1mhsVBzS",
        "colab_type": "text"
      },
      "source": [
        "### Imports"
      ]
    },
    {
      "cell_type": "code",
      "metadata": {
        "id": "ALrFzWh2REW2",
        "colab_type": "code",
        "colab": {}
      },
      "source": [
        "# make sure nightly builds are installed to use official.nlp modules\n",
        "# this is needed for BERT tokenization and, optionally, for custom official.nlp optimizers\n",
        "!pip install tf-nightly\n",
        "!pip install -q tf-models-nightly"
      ],
      "execution_count": null,
      "outputs": []
    },
    {
      "cell_type": "code",
      "metadata": {
        "id": "ZRsekViu_zb-",
        "colab_type": "code",
        "colab": {
          "base_uri": "https://localhost:8080/",
          "height": 72
        },
        "outputId": "0b5c59aa-eee7-4c73-8b58-ea873e109ff0"
      },
      "source": [
        "import numpy as np\n",
        "import pandas as pd\n",
        "\n",
        "import math\n",
        "import time\n",
        "\n",
        "import matplotlib.pyplot as plt\n",
        "import seaborn as sns\n",
        "plt.style.use('ggplot')\n",
        "\n",
        "import warnings\n",
        "warnings.simplefilter(action='ignore')"
      ],
      "execution_count": null,
      "outputs": [
        {
          "output_type": "stream",
          "text": [
            "/usr/local/lib/python3.6/dist-packages/statsmodels/tools/_testing.py:19: FutureWarning: pandas.util.testing is deprecated. Use the functions in the public API at pandas.testing instead.\n",
            "  import pandas.util.testing as tm\n"
          ],
          "name": "stderr"
        }
      ]
    },
    {
      "cell_type": "code",
      "metadata": {
        "id": "QQqy2ixhRKlc",
        "colab_type": "code",
        "colab": {
          "base_uri": "https://localhost:8080/",
          "height": 69
        },
        "outputId": "9af6db31-12e9-4c37-d5fa-d1734e8995d5"
      },
      "source": [
        "import tensorflow as tf\n",
        "import tensorflow_hub as hub\n",
        "# %load_ext tensorboard\n",
        "\n",
        "from tensorflow import keras\n",
        "from tensorflow.keras.preprocessing.sequence import pad_sequences\n",
        "from tensorflow.keras.utils import to_categorical\n",
        "\n",
        "import official.nlp.bert.tokenization as tokenization\n",
        "import official.nlp.optimization as optimization\n",
        "\n",
        "from sklearn.metrics import classification_report\n",
        "from sklearn.preprocessing import LabelEncoder\n",
        "\n",
        "print(\"TF version: \", tf.__version__)\n",
        "print(\"Hub version: \", hub.__version__)\n",
        "print('GPU is available' if tf.config.experimental.list_physical_devices('GPU') else 'CPU')"
      ],
      "execution_count": null,
      "outputs": [
        {
          "output_type": "stream",
          "text": [
            "TF version:  2.4.0-dev20200810\n",
            "Hub version:  0.8.0\n",
            "GPU is available\n"
          ],
          "name": "stdout"
        }
      ]
    },
    {
      "cell_type": "code",
      "metadata": {
        "id": "exKvZGuwA6yf",
        "colab_type": "code",
        "colab": {
          "base_uri": "https://localhost:8080/",
          "height": 35
        },
        "outputId": "c7c3f054-97da-4ccc-a3ef-a5b6036e9ac3"
      },
      "source": [
        "from google.colab import drive\n",
        "drive.mount('/content/drive', force_remount=True)\n",
        "path = '/content/drive/My Drive/EmotionX_2019/'"
      ],
      "execution_count": 156,
      "outputs": [
        {
          "output_type": "stream",
          "text": [
            "Mounted at /content/drive\n"
          ],
          "name": "stdout"
        }
      ]
    },
    {
      "cell_type": "code",
      "metadata": {
        "id": "nig473-3XC-i",
        "colab_type": "code",
        "colab": {}
      },
      "source": [
        "seed_value= 2020\n",
        "np.random.seed(seed_value)\n",
        "tf.random.set_seed(seed_value)"
      ],
      "execution_count": 157,
      "outputs": []
    },
    {
      "cell_type": "markdown",
      "metadata": {
        "id": "qKO-3-g7gzyV",
        "colab_type": "text"
      },
      "source": [
        "### Load EmotionX 2019"
      ]
    },
    {
      "cell_type": "code",
      "metadata": {
        "id": "RMfmzuJFMuQH",
        "colab_type": "code",
        "colab": {
          "base_uri": "https://localhost:8080/",
          "height": 284
        },
        "outputId": "3e7b1076-4d68-4d4b-9c9a-9540d8090beb"
      },
      "source": [
        "train_original = pd.read_json(path+'emotionx_data/2019_Train_Friends/Friends/friends.json')\n",
        "print(train_original.shape)\n",
        "train_original.head(2)"
      ],
      "execution_count": 207,
      "outputs": [
        {
          "output_type": "stream",
          "text": [
            "(1000, 24)\n"
          ],
          "name": "stdout"
        },
        {
          "output_type": "execute_result",
          "data": {
            "text/html": [
              "<div>\n",
              "<style scoped>\n",
              "    .dataframe tbody tr th:only-of-type {\n",
              "        vertical-align: middle;\n",
              "    }\n",
              "\n",
              "    .dataframe tbody tr th {\n",
              "        vertical-align: top;\n",
              "    }\n",
              "\n",
              "    .dataframe thead th {\n",
              "        text-align: right;\n",
              "    }\n",
              "</style>\n",
              "<table border=\"1\" class=\"dataframe\">\n",
              "  <thead>\n",
              "    <tr style=\"text-align: right;\">\n",
              "      <th></th>\n",
              "      <th>0</th>\n",
              "      <th>1</th>\n",
              "      <th>2</th>\n",
              "      <th>3</th>\n",
              "      <th>4</th>\n",
              "      <th>5</th>\n",
              "      <th>6</th>\n",
              "      <th>7</th>\n",
              "      <th>8</th>\n",
              "      <th>9</th>\n",
              "      <th>10</th>\n",
              "      <th>11</th>\n",
              "      <th>12</th>\n",
              "      <th>13</th>\n",
              "      <th>14</th>\n",
              "      <th>15</th>\n",
              "      <th>16</th>\n",
              "      <th>17</th>\n",
              "      <th>18</th>\n",
              "      <th>19</th>\n",
              "      <th>20</th>\n",
              "      <th>21</th>\n",
              "      <th>22</th>\n",
              "      <th>23</th>\n",
              "    </tr>\n",
              "  </thead>\n",
              "  <tbody>\n",
              "    <tr>\n",
              "      <th>0</th>\n",
              "      <td>{'speaker': 'Phoebe', 'utterance': 'Oh my God,...</td>\n",
              "      <td>{'speaker': 'Monica', 'utterance': 'What?', 'e...</td>\n",
              "      <td>{'speaker': 'Ross', 'utterance': 'Or! Or, we c...</td>\n",
              "      <td>{'speaker': 'Chandler', 'utterance': 'Youre a...</td>\n",
              "      <td>{'speaker': 'Joey', 'utterance': 'Aww, man, no...</td>\n",
              "      <td>{'speaker': 'Chandler', 'utterance': 'Now, the...</td>\n",
              "      <td>{'speaker': 'Phoebe', 'utterance': 'Hey.', 'em...</td>\n",
              "      <td>{'speaker': 'All', 'utterance': 'Hey!', 'emoti...</td>\n",
              "      <td>{'speaker': 'Phoebe', 'utterance': 'Ohh, you g...</td>\n",
              "      <td>{'speaker': 'Rachel', 'utterance': 'Where?!', ...</td>\n",
              "      <td>{'speaker': 'Phoebe', 'utterance': 'On the tou...</td>\n",
              "      <td>{'speaker': 'Ross', 'utterance': 'And', 'emoti...</td>\n",
              "      <td>{'speaker': 'Phoebe', 'utterance': 'No, I know...</td>\n",
              "      <td>{'speaker': 'Phoebe', 'utterance': 'I-Im sorr...</td>\n",
              "      <td>{'speaker': 'Monica', 'utterance': 'Well, next...</td>\n",
              "      <td>{'speaker': 'Joey', 'utterance': 'Yeah! Yeah! ...</td>\n",
              "      <td>{'speaker': 'Chandler', 'utterance': 'Thank yo...</td>\n",
              "      <td>{'speaker': 'Joey', 'utterance': 'No-no, thank...</td>\n",
              "      <td>None</td>\n",
              "      <td>None</td>\n",
              "      <td>None</td>\n",
              "      <td>None</td>\n",
              "      <td>None</td>\n",
              "      <td>None</td>\n",
              "    </tr>\n",
              "    <tr>\n",
              "      <th>1</th>\n",
              "      <td>{'speaker': 'Joey', 'utterance': 'Hey Estelle,...</td>\n",
              "      <td>{'speaker': 'Estelle', 'utterance': 'Well! Wel...</td>\n",
              "      <td>{'speaker': 'Joey', 'utterance': 'What are you...</td>\n",
              "      <td>{'speaker': 'Estelle', 'utterance': 'Really?!'...</td>\n",
              "      <td>{'speaker': 'Joey', 'utterance': 'Yeah!', 'emo...</td>\n",
              "      <td>{'speaker': 'Estelle', 'utterance': 'Oh well, ...</td>\n",
              "      <td>{'speaker': 'Gary', 'utterance': 'Okay, you gu...</td>\n",
              "      <td>{'speaker': 'Ross', 'utterance': 'Yeah!!', 'em...</td>\n",
              "      <td>{'speaker': 'Chandler', 'utterance': 'Tonight?...</td>\n",
              "      <td>None</td>\n",
              "      <td>None</td>\n",
              "      <td>None</td>\n",
              "      <td>None</td>\n",
              "      <td>None</td>\n",
              "      <td>None</td>\n",
              "      <td>None</td>\n",
              "      <td>None</td>\n",
              "      <td>None</td>\n",
              "      <td>None</td>\n",
              "      <td>None</td>\n",
              "      <td>None</td>\n",
              "      <td>None</td>\n",
              "      <td>None</td>\n",
              "      <td>None</td>\n",
              "    </tr>\n",
              "  </tbody>\n",
              "</table>\n",
              "</div>"
            ],
            "text/plain": [
              "                                                   0  ...    23\n",
              "0  {'speaker': 'Phoebe', 'utterance': 'Oh my God,...  ...  None\n",
              "1  {'speaker': 'Joey', 'utterance': 'Hey Estelle,...  ...  None\n",
              "\n",
              "[2 rows x 24 columns]"
            ]
          },
          "metadata": {
            "tags": []
          },
          "execution_count": 207
        }
      ]
    },
    {
      "cell_type": "code",
      "metadata": {
        "id": "1gS03SerR5f8",
        "colab_type": "code",
        "colab": {
          "base_uri": "https://localhost:8080/",
          "height": 284
        },
        "outputId": "c3077e78-84a6-4063-c761-c182632d8362"
      },
      "source": [
        "# augmented data (round-trip translation)\n",
        "train_augmented = pd.read_json(path+'emotionx_data/2019_Train_Friends/Friends/friends.augmented.json')\n",
        "print(train_augmented.shape)\n",
        "train_augmented.sample(2)"
      ],
      "execution_count": 208,
      "outputs": [
        {
          "output_type": "stream",
          "text": [
            "(1000, 24)\n"
          ],
          "name": "stdout"
        },
        {
          "output_type": "execute_result",
          "data": {
            "text/html": [
              "<div>\n",
              "<style scoped>\n",
              "    .dataframe tbody tr th:only-of-type {\n",
              "        vertical-align: middle;\n",
              "    }\n",
              "\n",
              "    .dataframe tbody tr th {\n",
              "        vertical-align: top;\n",
              "    }\n",
              "\n",
              "    .dataframe thead th {\n",
              "        text-align: right;\n",
              "    }\n",
              "</style>\n",
              "<table border=\"1\" class=\"dataframe\">\n",
              "  <thead>\n",
              "    <tr style=\"text-align: right;\">\n",
              "      <th></th>\n",
              "      <th>0</th>\n",
              "      <th>1</th>\n",
              "      <th>2</th>\n",
              "      <th>3</th>\n",
              "      <th>4</th>\n",
              "      <th>5</th>\n",
              "      <th>6</th>\n",
              "      <th>7</th>\n",
              "      <th>8</th>\n",
              "      <th>9</th>\n",
              "      <th>10</th>\n",
              "      <th>11</th>\n",
              "      <th>12</th>\n",
              "      <th>13</th>\n",
              "      <th>14</th>\n",
              "      <th>15</th>\n",
              "      <th>16</th>\n",
              "      <th>17</th>\n",
              "      <th>18</th>\n",
              "      <th>19</th>\n",
              "      <th>20</th>\n",
              "      <th>21</th>\n",
              "      <th>22</th>\n",
              "      <th>23</th>\n",
              "    </tr>\n",
              "  </thead>\n",
              "  <tbody>\n",
              "    <tr>\n",
              "      <th>457</th>\n",
              "      <td>{'speaker': 'Chandler', 'utterance': 'That was...</td>\n",
              "      <td>{'speaker': 'Monica', 'utterance': 'Phoebe and...</td>\n",
              "      <td>{'speaker': 'Chandler', 'utterance': 'That was...</td>\n",
              "      <td>{'speaker': 'Monica', 'utterance': 'We are the...</td>\n",
              "      <td>{'speaker': 'Chandler', 'utterance': 'No, you'...</td>\n",
              "      <td>{'speaker': 'Monica', 'utterance': 'No, you're...</td>\n",
              "      <td>{'speaker': 'Chandler', 'utterance': 'No, you'...</td>\n",
              "      <td>{'speaker': 'Monica', 'utterance': 'I', 'emoti...</td>\n",
              "      <td>{'speaker': 'Joey', 'utterance': 'Hey guys!  W...</td>\n",
              "      <td>{'speaker': 'Monica', 'utterance': 'Hey Joey! ...</td>\n",
              "      <td>{'speaker': 'Joey', 'utterance': 'How you doin...</td>\n",
              "      <td>None</td>\n",
              "      <td>None</td>\n",
              "      <td>None</td>\n",
              "      <td>None</td>\n",
              "      <td>None</td>\n",
              "      <td>None</td>\n",
              "      <td>None</td>\n",
              "      <td>None</td>\n",
              "      <td>None</td>\n",
              "      <td>None</td>\n",
              "      <td>None</td>\n",
              "      <td>None</td>\n",
              "      <td>None</td>\n",
              "    </tr>\n",
              "    <tr>\n",
              "      <th>28</th>\n",
              "      <td>{'speaker': 'Phoebe', 'utterance': 'I can't', ...</td>\n",
              "      <td>{'speaker': 'Joey', 'utterance': 'Yeah! You go...</td>\n",
              "      <td>{'speaker': 'Chandler', 'utterance': 'Y'know w...</td>\n",
              "      <td>{'speaker': 'Phoebe', 'utterance': 'Greg and J...</td>\n",
              "      <td>{'speaker': 'Monica', 'utterance': 'Do you sti...</td>\n",
              "      <td>{'speaker': 'Chandler', 'utterance': 'Let's ca...</td>\n",
              "      <td>{'speaker': 'Joey', 'utterance': 'Yeah! Ask th...</td>\n",
              "      <td>{'speaker': 'Monica', 'utterance': 'Hello?  Ei...</td>\n",
              "      <td>{'speaker': 'Joey', 'utterance': 'Hey, hang up...</td>\n",
              "      <td>{'speaker': 'Monica', 'utterance': 'Uh sorry, ...</td>\n",
              "      <td>{'speaker': 'Chandler', 'utterance': 'Here you...</td>\n",
              "      <td>{'speaker': 'Monica', 'utterance': 'Hello?   I...</td>\n",
              "      <td>{'speaker': 'Joey', 'utterance': 'All right! I...</td>\n",
              "      <td>{'speaker': 'Monica', 'utterance': 'I don't th...</td>\n",
              "      <td>{'speaker': 'Rachel', 'utterance': 'Oh come on...</td>\n",
              "      <td>None</td>\n",
              "      <td>None</td>\n",
              "      <td>None</td>\n",
              "      <td>None</td>\n",
              "      <td>None</td>\n",
              "      <td>None</td>\n",
              "      <td>None</td>\n",
              "      <td>None</td>\n",
              "      <td>None</td>\n",
              "    </tr>\n",
              "  </tbody>\n",
              "</table>\n",
              "</div>"
            ],
            "text/plain": [
              "                                                     0  ...    23\n",
              "457  {'speaker': 'Chandler', 'utterance': 'That was...  ...  None\n",
              "28   {'speaker': 'Phoebe', 'utterance': 'I can't', ...  ...  None\n",
              "\n",
              "[2 rows x 24 columns]"
            ]
          },
          "metadata": {
            "tags": []
          },
          "execution_count": 208
        }
      ]
    },
    {
      "cell_type": "code",
      "metadata": {
        "id": "nbEn1NJRSxfj",
        "colab_type": "code",
        "colab": {
          "base_uri": "https://localhost:8080/",
          "height": 35
        },
        "outputId": "a02331b4-5797-4601-c11a-e8b663b150c5"
      },
      "source": [
        "# concatenate the regular and augmented\n",
        "train_df = pd.concat([train_original, train_augmented], axis=0)\n",
        "train_df.index = range(len(train_df))\n",
        "train_df.shape"
      ],
      "execution_count": 226,
      "outputs": [
        {
          "output_type": "execute_result",
          "data": {
            "text/plain": [
              "(2000, 24)"
            ]
          },
          "metadata": {
            "tags": []
          },
          "execution_count": 226
        }
      ]
    },
    {
      "cell_type": "code",
      "metadata": {
        "id": "s8PwICfeSVVM",
        "colab_type": "code",
        "colab": {
          "base_uri": "https://localhost:8080/",
          "height": 284
        },
        "outputId": "0b197fcf-4285-41dc-fa43-8f81883eae67"
      },
      "source": [
        "test_df = pd.read_json(path+'emotionx_data/2019_Eval_Labeled/friends_eval_gold.json')\n",
        "print(test_df.shape)\n",
        "test_df.sample(2)"
      ],
      "execution_count": 217,
      "outputs": [
        {
          "output_type": "stream",
          "text": [
            "(240, 24)\n"
          ],
          "name": "stdout"
        },
        {
          "output_type": "execute_result",
          "data": {
            "text/html": [
              "<div>\n",
              "<style scoped>\n",
              "    .dataframe tbody tr th:only-of-type {\n",
              "        vertical-align: middle;\n",
              "    }\n",
              "\n",
              "    .dataframe tbody tr th {\n",
              "        vertical-align: top;\n",
              "    }\n",
              "\n",
              "    .dataframe thead th {\n",
              "        text-align: right;\n",
              "    }\n",
              "</style>\n",
              "<table border=\"1\" class=\"dataframe\">\n",
              "  <thead>\n",
              "    <tr style=\"text-align: right;\">\n",
              "      <th></th>\n",
              "      <th>0</th>\n",
              "      <th>1</th>\n",
              "      <th>2</th>\n",
              "      <th>3</th>\n",
              "      <th>4</th>\n",
              "      <th>5</th>\n",
              "      <th>6</th>\n",
              "      <th>7</th>\n",
              "      <th>8</th>\n",
              "      <th>9</th>\n",
              "      <th>10</th>\n",
              "      <th>11</th>\n",
              "      <th>12</th>\n",
              "      <th>13</th>\n",
              "      <th>14</th>\n",
              "      <th>15</th>\n",
              "      <th>16</th>\n",
              "      <th>17</th>\n",
              "      <th>18</th>\n",
              "      <th>19</th>\n",
              "      <th>20</th>\n",
              "      <th>21</th>\n",
              "      <th>22</th>\n",
              "      <th>23</th>\n",
              "    </tr>\n",
              "  </thead>\n",
              "  <tbody>\n",
              "    <tr>\n",
              "      <th>56</th>\n",
              "      <td>{'speaker': 'Chandler', 'utterance': 'Airplane...</td>\n",
              "      <td>{'speaker': 'Rachel', 'utterance': 'Oh, time's...</td>\n",
              "      <td>{'speaker': 'Monica', 'utterance': 'Bye... bye...</td>\n",
              "      <td>{'speaker': 'Monica', 'utterance': 'What's a '...</td>\n",
              "      <td>{'speaker': 'Joey', 'utterance': 'You usually ...</td>\n",
              "      <td>{'speaker': 'Rachel', 'utterance': 'Alright, a...</td>\n",
              "      <td>{'speaker': 'Ross', 'utterance': 'Wait, did yo...</td>\n",
              "      <td>{'speaker': 'Ross', 'utterance': 'Tell ya, you...</td>\n",
              "      <td>{'speaker': 'Rachel', 'utterance': 'Alright, t...</td>\n",
              "      <td>{'speaker': 'All', 'utterance': 'Nooo!', 'anno...</td>\n",
              "      <td>None</td>\n",
              "      <td>None</td>\n",
              "      <td>None</td>\n",
              "      <td>None</td>\n",
              "      <td>None</td>\n",
              "      <td>None</td>\n",
              "      <td>None</td>\n",
              "      <td>None</td>\n",
              "      <td>None</td>\n",
              "      <td>None</td>\n",
              "      <td>None</td>\n",
              "      <td>None</td>\n",
              "      <td>None</td>\n",
              "      <td>None</td>\n",
              "    </tr>\n",
              "    <tr>\n",
              "      <th>180</th>\n",
              "      <td>{'speaker': 'Lewis', 'utterance': 'Professor G...</td>\n",
              "      <td>{'speaker': 'Ross', 'utterance': 'Yes Mr. Lewi...</td>\n",
              "      <td>{'speaker': 'Lewis', 'utterance': 'I know I di...</td>\n",
              "      <td>{'speaker': 'Ross', 'utterance': 'And why exac...</td>\n",
              "      <td>{'speaker': 'Lewis', 'utterance': 'Because Im...</td>\n",
              "      <td>{'speaker': 'Ross', 'utterance': 'What?!', 'an...</td>\n",
              "      <td>{'speaker': 'Lewis', 'utterance': 'Yeah, Im a...</td>\n",
              "      <td>{'speaker': 'Ross', 'utterance': 'No!', 'annot...</td>\n",
              "      <td>{'speaker': 'Lewis', 'utterance': 'Well why no...</td>\n",
              "      <td>{'speaker': 'Ross', 'utterance': 'Well thats ...</td>\n",
              "      <td>{'speaker': 'Lewis', 'utterance': 'No hes not...</td>\n",
              "      <td>{'speaker': 'Ross', 'utterance': 'What?', 'ann...</td>\n",
              "      <td>{'speaker': 'Lewis', 'utterance': 'Hes got a ...</td>\n",
              "      <td>{'speaker': 'Ross', 'utterance': 'I cant beli...</td>\n",
              "      <td>{'speaker': 'Lewis', 'utterance': 'I know! It...</td>\n",
              "      <td>None</td>\n",
              "      <td>None</td>\n",
              "      <td>None</td>\n",
              "      <td>None</td>\n",
              "      <td>None</td>\n",
              "      <td>None</td>\n",
              "      <td>None</td>\n",
              "      <td>None</td>\n",
              "      <td>None</td>\n",
              "    </tr>\n",
              "  </tbody>\n",
              "</table>\n",
              "</div>"
            ],
            "text/plain": [
              "                                                     0  ...    23\n",
              "56   {'speaker': 'Chandler', 'utterance': 'Airplane...  ...  None\n",
              "180  {'speaker': 'Lewis', 'utterance': 'Professor G...  ...  None\n",
              "\n",
              "[2 rows x 24 columns]"
            ]
          },
          "metadata": {
            "tags": []
          },
          "execution_count": 217
        }
      ]
    },
    {
      "cell_type": "code",
      "metadata": {
        "id": "Rk-d57eyMyyC",
        "colab_type": "code",
        "colab": {}
      },
      "source": [
        "def flatten_dialogs(df):\n",
        "    \n",
        "    # u: single utternaces, fully flatten\n",
        "    # uu: utterance appended to the previous utterance in the dialog\n",
        "    #     if u the first utteramce in the dialog, prepend \"Start of the dialog:\"\n",
        "    \n",
        "    speakers, u, uu, emotions  = [], [], [], []\n",
        "    for r, row in df.iterrows():\n",
        "        for i in range(len(df.columns)):\n",
        "            if row[i] is not None:\n",
        "                speakers.append(row[i]['speaker'])\n",
        "                emotions.append(row[i]['emotion'])\n",
        "                u.append(row[i]['utterance'].replace('\\x92', '`'))\n",
        "                if i==0:\n",
        "                    uu.append(f'Start of the dialog: {u[-1]}')\n",
        "                else:\n",
        "                    uu.append(f'{u[-2]} {u[-1]}')\n",
        "    return pd.DataFrame(zip(speakers, u, uu, emotions), columns =['speaker', 'u', 'uu', 'emotion'])    "
      ],
      "execution_count": 227,
      "outputs": []
    },
    {
      "cell_type": "code",
      "metadata": {
        "id": "Pyv5IxrxXGFO",
        "colab_type": "code",
        "colab": {
          "base_uri": "https://localhost:8080/",
          "height": 198
        },
        "outputId": "34edeba1-9844-4199-eb10-237608f2a336"
      },
      "source": [
        "train_df = flatten_dialogs(train_df)\n",
        "train_df.head()"
      ],
      "execution_count": 228,
      "outputs": [
        {
          "output_type": "execute_result",
          "data": {
            "text/html": [
              "<div>\n",
              "<style scoped>\n",
              "    .dataframe tbody tr th:only-of-type {\n",
              "        vertical-align: middle;\n",
              "    }\n",
              "\n",
              "    .dataframe tbody tr th {\n",
              "        vertical-align: top;\n",
              "    }\n",
              "\n",
              "    .dataframe thead th {\n",
              "        text-align: right;\n",
              "    }\n",
              "</style>\n",
              "<table border=\"1\" class=\"dataframe\">\n",
              "  <thead>\n",
              "    <tr style=\"text-align: right;\">\n",
              "      <th></th>\n",
              "      <th>speaker</th>\n",
              "      <th>u</th>\n",
              "      <th>uu</th>\n",
              "      <th>emotion</th>\n",
              "    </tr>\n",
              "  </thead>\n",
              "  <tbody>\n",
              "    <tr>\n",
              "      <th>0</th>\n",
              "      <td>Phoebe</td>\n",
              "      <td>Oh my God, he`s lost it. He`s totally lost it.</td>\n",
              "      <td>Start of the dialog: Oh my God, he`s lost it. ...</td>\n",
              "      <td>non-neutral</td>\n",
              "    </tr>\n",
              "    <tr>\n",
              "      <th>1</th>\n",
              "      <td>Monica</td>\n",
              "      <td>What?</td>\n",
              "      <td>Oh my God, he`s lost it. He`s totally lost it....</td>\n",
              "      <td>surprise</td>\n",
              "    </tr>\n",
              "    <tr>\n",
              "      <th>2</th>\n",
              "      <td>Ross</td>\n",
              "      <td>Or! Or, we could go to the bank, close our acc...</td>\n",
              "      <td>What? Or! Or, we could go to the bank, close o...</td>\n",
              "      <td>neutral</td>\n",
              "    </tr>\n",
              "    <tr>\n",
              "      <th>3</th>\n",
              "      <td>Chandler</td>\n",
              "      <td>You`re a genius!</td>\n",
              "      <td>Or! Or, we could go to the bank, close our acc...</td>\n",
              "      <td>joy</td>\n",
              "    </tr>\n",
              "    <tr>\n",
              "      <th>4</th>\n",
              "      <td>Joey</td>\n",
              "      <td>Aww, man, now we won`t be bank buddies!</td>\n",
              "      <td>You`re a genius! Aww, man, now we won`t be ban...</td>\n",
              "      <td>sadness</td>\n",
              "    </tr>\n",
              "  </tbody>\n",
              "</table>\n",
              "</div>"
            ],
            "text/plain": [
              "    speaker  ...      emotion\n",
              "0    Phoebe  ...  non-neutral\n",
              "1    Monica  ...     surprise\n",
              "2      Ross  ...      neutral\n",
              "3  Chandler  ...          joy\n",
              "4      Joey  ...      sadness\n",
              "\n",
              "[5 rows x 4 columns]"
            ]
          },
          "metadata": {
            "tags": []
          },
          "execution_count": 228
        }
      ]
    },
    {
      "cell_type": "code",
      "metadata": {
        "id": "5259_BtYgpaL",
        "colab_type": "code",
        "colab": {
          "base_uri": "https://localhost:8080/",
          "height": 267
        },
        "outputId": "f2e9a719-16c1-4c4f-f183-0718db0b978e"
      },
      "source": [
        "test_df = flatten_dialogs(test_df)\n",
        "test_df.head()"
      ],
      "execution_count": 229,
      "outputs": [
        {
          "output_type": "execute_result",
          "data": {
            "text/html": [
              "<div>\n",
              "<style scoped>\n",
              "    .dataframe tbody tr th:only-of-type {\n",
              "        vertical-align: middle;\n",
              "    }\n",
              "\n",
              "    .dataframe tbody tr th {\n",
              "        vertical-align: top;\n",
              "    }\n",
              "\n",
              "    .dataframe thead th {\n",
              "        text-align: right;\n",
              "    }\n",
              "</style>\n",
              "<table border=\"1\" class=\"dataframe\">\n",
              "  <thead>\n",
              "    <tr style=\"text-align: right;\">\n",
              "      <th></th>\n",
              "      <th>speaker</th>\n",
              "      <th>u</th>\n",
              "      <th>uu</th>\n",
              "      <th>emotion</th>\n",
              "    </tr>\n",
              "  </thead>\n",
              "  <tbody>\n",
              "    <tr>\n",
              "      <th>0</th>\n",
              "      <td>Phoebe</td>\n",
              "      <td>Alright, whadyou do with him?</td>\n",
              "      <td>Start of the dialog: Alright, whadyou do with ...</td>\n",
              "      <td>non-neutral</td>\n",
              "    </tr>\n",
              "    <tr>\n",
              "      <th>1</th>\n",
              "      <td>Monica</td>\n",
              "      <td>Oh! You're awake!</td>\n",
              "      <td>Alright, whadyou do with him? Oh! You're awake!</td>\n",
              "      <td>surprise</td>\n",
              "    </tr>\n",
              "    <tr>\n",
              "      <th>2</th>\n",
              "      <td>Joey</td>\n",
              "      <td>Then you gotta come clean with Ma! This is not...</td>\n",
              "      <td>Oh! You're awake! Then you gotta come clean wi...</td>\n",
              "      <td>anger</td>\n",
              "    </tr>\n",
              "    <tr>\n",
              "      <th>3</th>\n",
              "      <td>Mr. Tribbiani</td>\n",
              "      <td>Yeah, but this is</td>\n",
              "      <td>Then you gotta come clean with Ma! This is not...</td>\n",
              "      <td>neutral</td>\n",
              "    </tr>\n",
              "    <tr>\n",
              "      <th>4</th>\n",
              "      <td>Joey</td>\n",
              "      <td>I don't wanna hear it! Now go to my room!</td>\n",
              "      <td>Yeah, but this is I don't wanna hear it! Now g...</td>\n",
              "      <td>anger</td>\n",
              "    </tr>\n",
              "  </tbody>\n",
              "</table>\n",
              "</div>"
            ],
            "text/plain": [
              "         speaker  ...      emotion\n",
              "0         Phoebe  ...  non-neutral\n",
              "1         Monica  ...     surprise\n",
              "2           Joey  ...        anger\n",
              "3  Mr. Tribbiani  ...      neutral\n",
              "4           Joey  ...        anger\n",
              "\n",
              "[5 rows x 4 columns]"
            ]
          },
          "metadata": {
            "tags": []
          },
          "execution_count": 229
        }
      ]
    },
    {
      "cell_type": "code",
      "metadata": {
        "id": "kIxgyoLj0nJ_",
        "colab_type": "code",
        "colab": {
          "base_uri": "https://localhost:8080/",
          "height": 52
        },
        "outputId": "3c111dda-ee46-49df-ba99-2cc33782753e"
      },
      "source": [
        "print(train_df.shape)\n",
        "print(test_df.shape)"
      ],
      "execution_count": 230,
      "outputs": [
        {
          "output_type": "stream",
          "text": [
            "(29006, 4)\n",
            "(3296, 4)\n"
          ],
          "name": "stdout"
        }
      ]
    },
    {
      "cell_type": "markdown",
      "metadata": {
        "id": "rIr7yOWCgqA4",
        "colab_type": "text"
      },
      "source": [
        "### Process train/test"
      ]
    },
    {
      "cell_type": "code",
      "metadata": {
        "id": "qj3X-5vJXGHU",
        "colab_type": "code",
        "colab": {
          "base_uri": "https://localhost:8080/",
          "height": 138
        },
        "outputId": "61c7ab0a-606d-4726-abc0-92d334731fa6"
      },
      "source": [
        "# There are more speakers than the main 6 characters:\n",
        "print(len(train_df.speaker.unique()))\n",
        "train_df.speaker.unique()[:30]"
      ],
      "execution_count": 231,
      "outputs": [
        {
          "output_type": "stream",
          "text": [
            "309\n"
          ],
          "name": "stdout"
        },
        {
          "output_type": "execute_result",
          "data": {
            "text/plain": [
              "array(['Phoebe', 'Monica', 'Ross', 'Chandler', 'Joey', 'All', 'Rachel',\n",
              "       'Estelle', 'Gary', 'Guy', 'Woman', 'Mrs. Green', 'Dr. Harad',\n",
              "       'Frank', 'Alice', 'Bob', 'Whitney', 'Kyle', 'Passerby', 'Susan',\n",
              "       'Cookie', 'Kori', 'Dr. Long', 'Carol', 'Mark', 'TV Announcer',\n",
              "       'The Hot Girl', 'Jen', 'Monica and Rachel', 'The Dry Cleaner'],\n",
              "      dtype=object)"
            ]
          },
          "metadata": {
            "tags": []
          },
          "execution_count": 231
        }
      ]
    },
    {
      "cell_type": "code",
      "metadata": {
        "id": "dU6frSuvVfvG",
        "colab_type": "code",
        "colab": {
          "base_uri": "https://localhost:8080/",
          "height": 35
        },
        "outputId": "b39d068e-c1e8-4bf3-93c8-f86017f2ce31"
      },
      "source": [
        "main_characters = train_df.speaker.value_counts()[:6].index.tolist()\n",
        "print(main_characters)"
      ],
      "execution_count": 232,
      "outputs": [
        {
          "output_type": "stream",
          "text": [
            "['Ross', 'Joey', 'Rachel', 'Phoebe', 'Monica', 'Chandler']\n"
          ],
          "name": "stdout"
        }
      ]
    },
    {
      "cell_type": "code",
      "metadata": {
        "id": "YvGEKqhhUEym",
        "colab_type": "code",
        "colab": {
          "base_uri": "https://localhost:8080/",
          "height": 155
        },
        "outputId": "509d7c29-109c-483d-d76d-6d26a2bfcd5c"
      },
      "source": [
        "# Label all non-main speakers as 'Other'\n",
        "train_df.speaker = train_df.speaker.apply(lambda x: x if x in main_characters else 'Other')\n",
        "test_df.speaker = test_df.speaker.apply(lambda x: x if x in main_characters else 'Other')\n",
        "\n",
        "train_df.speaker.value_counts()"
      ],
      "execution_count": 233,
      "outputs": [
        {
          "output_type": "execute_result",
          "data": {
            "text/plain": [
              "Other       4808\n",
              "Ross        4332\n",
              "Joey        4326\n",
              "Rachel      4190\n",
              "Phoebe      3852\n",
              "Monica      3776\n",
              "Chandler    3722\n",
              "Name: speaker, dtype: int64"
            ]
          },
          "metadata": {
            "tags": []
          },
          "execution_count": 233
        }
      ]
    },
    {
      "cell_type": "markdown",
      "metadata": {
        "id": "hwzdtRK-ZxxW",
        "colab_type": "text"
      },
      "source": [
        "Explore the distribution of emotions:"
      ]
    },
    {
      "cell_type": "code",
      "metadata": {
        "id": "slEoL51jdX1t",
        "colab_type": "code",
        "colab": {
          "base_uri": "https://localhost:8080/",
          "height": 318
        },
        "outputId": "4b72deb0-2f2c-4208-c527-c9d7b692f6a7"
      },
      "source": [
        "speaker_emotions = train_df.groupby(['speaker', 'emotion']).count().reset_index()\n",
        "speaker_emotions = speaker_emotions.pivot_table(index='speaker', columns='emotion', values='u', aggfunc=np.sum, margins=True)\n",
        "speaker_emotions"
      ],
      "execution_count": 234,
      "outputs": [
        {
          "output_type": "execute_result",
          "data": {
            "text/html": [
              "<div>\n",
              "<style scoped>\n",
              "    .dataframe tbody tr th:only-of-type {\n",
              "        vertical-align: middle;\n",
              "    }\n",
              "\n",
              "    .dataframe tbody tr th {\n",
              "        vertical-align: top;\n",
              "    }\n",
              "\n",
              "    .dataframe thead th {\n",
              "        text-align: right;\n",
              "    }\n",
              "</style>\n",
              "<table border=\"1\" class=\"dataframe\">\n",
              "  <thead>\n",
              "    <tr style=\"text-align: right;\">\n",
              "      <th>emotion</th>\n",
              "      <th>anger</th>\n",
              "      <th>disgust</th>\n",
              "      <th>fear</th>\n",
              "      <th>joy</th>\n",
              "      <th>neutral</th>\n",
              "      <th>non-neutral</th>\n",
              "      <th>sadness</th>\n",
              "      <th>surprise</th>\n",
              "      <th>All</th>\n",
              "    </tr>\n",
              "    <tr>\n",
              "      <th>speaker</th>\n",
              "      <th></th>\n",
              "      <th></th>\n",
              "      <th></th>\n",
              "      <th></th>\n",
              "      <th></th>\n",
              "      <th></th>\n",
              "      <th></th>\n",
              "      <th></th>\n",
              "      <th></th>\n",
              "    </tr>\n",
              "  </thead>\n",
              "  <tbody>\n",
              "    <tr>\n",
              "      <th>Chandler</th>\n",
              "      <td>122</td>\n",
              "      <td>102</td>\n",
              "      <td>90</td>\n",
              "      <td>398</td>\n",
              "      <td>1742</td>\n",
              "      <td>772</td>\n",
              "      <td>92</td>\n",
              "      <td>404</td>\n",
              "      <td>3722</td>\n",
              "    </tr>\n",
              "    <tr>\n",
              "      <th>Joey</th>\n",
              "      <td>214</td>\n",
              "      <td>90</td>\n",
              "      <td>70</td>\n",
              "      <td>550</td>\n",
              "      <td>1960</td>\n",
              "      <td>816</td>\n",
              "      <td>120</td>\n",
              "      <td>506</td>\n",
              "      <td>4326</td>\n",
              "    </tr>\n",
              "    <tr>\n",
              "      <th>Monica</th>\n",
              "      <td>208</td>\n",
              "      <td>132</td>\n",
              "      <td>48</td>\n",
              "      <td>452</td>\n",
              "      <td>1568</td>\n",
              "      <td>790</td>\n",
              "      <td>96</td>\n",
              "      <td>482</td>\n",
              "      <td>3776</td>\n",
              "    </tr>\n",
              "    <tr>\n",
              "      <th>Other</th>\n",
              "      <td>246</td>\n",
              "      <td>70</td>\n",
              "      <td>78</td>\n",
              "      <td>572</td>\n",
              "      <td>2470</td>\n",
              "      <td>718</td>\n",
              "      <td>172</td>\n",
              "      <td>482</td>\n",
              "      <td>4808</td>\n",
              "    </tr>\n",
              "    <tr>\n",
              "      <th>Phoebe</th>\n",
              "      <td>228</td>\n",
              "      <td>94</td>\n",
              "      <td>60</td>\n",
              "      <td>464</td>\n",
              "      <td>1664</td>\n",
              "      <td>734</td>\n",
              "      <td>150</td>\n",
              "      <td>458</td>\n",
              "      <td>3852</td>\n",
              "    </tr>\n",
              "    <tr>\n",
              "      <th>Rachel</th>\n",
              "      <td>252</td>\n",
              "      <td>86</td>\n",
              "      <td>64</td>\n",
              "      <td>506</td>\n",
              "      <td>1644</td>\n",
              "      <td>872</td>\n",
              "      <td>198</td>\n",
              "      <td>568</td>\n",
              "      <td>4190</td>\n",
              "    </tr>\n",
              "    <tr>\n",
              "      <th>Ross</th>\n",
              "      <td>248</td>\n",
              "      <td>88</td>\n",
              "      <td>82</td>\n",
              "      <td>478</td>\n",
              "      <td>2012</td>\n",
              "      <td>842</td>\n",
              "      <td>168</td>\n",
              "      <td>414</td>\n",
              "      <td>4332</td>\n",
              "    </tr>\n",
              "    <tr>\n",
              "      <th>All</th>\n",
              "      <td>1518</td>\n",
              "      <td>662</td>\n",
              "      <td>492</td>\n",
              "      <td>3420</td>\n",
              "      <td>13060</td>\n",
              "      <td>5544</td>\n",
              "      <td>996</td>\n",
              "      <td>3314</td>\n",
              "      <td>29006</td>\n",
              "    </tr>\n",
              "  </tbody>\n",
              "</table>\n",
              "</div>"
            ],
            "text/plain": [
              "emotion   anger  disgust  fear   joy  ...  non-neutral  sadness  surprise    All\n",
              "speaker                               ...                                       \n",
              "Chandler    122      102    90   398  ...          772       92       404   3722\n",
              "Joey        214       90    70   550  ...          816      120       506   4326\n",
              "Monica      208      132    48   452  ...          790       96       482   3776\n",
              "Other       246       70    78   572  ...          718      172       482   4808\n",
              "Phoebe      228       94    60   464  ...          734      150       458   3852\n",
              "Rachel      252       86    64   506  ...          872      198       568   4190\n",
              "Ross        248       88    82   478  ...          842      168       414   4332\n",
              "All        1518      662   492  3420  ...         5544      996      3314  29006\n",
              "\n",
              "[8 rows x 9 columns]"
            ]
          },
          "metadata": {
            "tags": []
          },
          "execution_count": 234
        }
      ]
    },
    {
      "cell_type": "code",
      "metadata": {
        "id": "JPh1OYxr6XgD",
        "colab_type": "code",
        "colab": {
          "base_uri": "https://localhost:8080/",
          "height": 318
        },
        "outputId": "06aef58e-f6aa-4ce0-f67e-08e1c955d4cd"
      },
      "source": [
        "speaker_emotions = speaker_emotions.sort_values(by ='All', axis=1, ascending =False)\n",
        "speaker_emotions = speaker_emotions.apply(lambda row: row/row[0], axis=1).drop('All', axis=1)\n",
        "speaker_emotions"
      ],
      "execution_count": 235,
      "outputs": [
        {
          "output_type": "execute_result",
          "data": {
            "text/html": [
              "<div>\n",
              "<style scoped>\n",
              "    .dataframe tbody tr th:only-of-type {\n",
              "        vertical-align: middle;\n",
              "    }\n",
              "\n",
              "    .dataframe tbody tr th {\n",
              "        vertical-align: top;\n",
              "    }\n",
              "\n",
              "    .dataframe thead th {\n",
              "        text-align: right;\n",
              "    }\n",
              "</style>\n",
              "<table border=\"1\" class=\"dataframe\">\n",
              "  <thead>\n",
              "    <tr style=\"text-align: right;\">\n",
              "      <th>emotion</th>\n",
              "      <th>neutral</th>\n",
              "      <th>non-neutral</th>\n",
              "      <th>joy</th>\n",
              "      <th>surprise</th>\n",
              "      <th>anger</th>\n",
              "      <th>sadness</th>\n",
              "      <th>disgust</th>\n",
              "      <th>fear</th>\n",
              "    </tr>\n",
              "    <tr>\n",
              "      <th>speaker</th>\n",
              "      <th></th>\n",
              "      <th></th>\n",
              "      <th></th>\n",
              "      <th></th>\n",
              "      <th></th>\n",
              "      <th></th>\n",
              "      <th></th>\n",
              "      <th></th>\n",
              "    </tr>\n",
              "  </thead>\n",
              "  <tbody>\n",
              "    <tr>\n",
              "      <th>Chandler</th>\n",
              "      <td>0.468028</td>\n",
              "      <td>0.207415</td>\n",
              "      <td>0.106932</td>\n",
              "      <td>0.108544</td>\n",
              "      <td>0.032778</td>\n",
              "      <td>0.024718</td>\n",
              "      <td>0.027405</td>\n",
              "      <td>0.024181</td>\n",
              "    </tr>\n",
              "    <tr>\n",
              "      <th>Joey</th>\n",
              "      <td>0.453074</td>\n",
              "      <td>0.188627</td>\n",
              "      <td>0.127138</td>\n",
              "      <td>0.116967</td>\n",
              "      <td>0.049468</td>\n",
              "      <td>0.027739</td>\n",
              "      <td>0.020804</td>\n",
              "      <td>0.016181</td>\n",
              "    </tr>\n",
              "    <tr>\n",
              "      <th>Monica</th>\n",
              "      <td>0.415254</td>\n",
              "      <td>0.209216</td>\n",
              "      <td>0.119703</td>\n",
              "      <td>0.127648</td>\n",
              "      <td>0.055085</td>\n",
              "      <td>0.025424</td>\n",
              "      <td>0.034958</td>\n",
              "      <td>0.012712</td>\n",
              "    </tr>\n",
              "    <tr>\n",
              "      <th>Other</th>\n",
              "      <td>0.513727</td>\n",
              "      <td>0.149334</td>\n",
              "      <td>0.118968</td>\n",
              "      <td>0.100250</td>\n",
              "      <td>0.051165</td>\n",
              "      <td>0.035774</td>\n",
              "      <td>0.014559</td>\n",
              "      <td>0.016223</td>\n",
              "    </tr>\n",
              "    <tr>\n",
              "      <th>Phoebe</th>\n",
              "      <td>0.431983</td>\n",
              "      <td>0.190550</td>\n",
              "      <td>0.120457</td>\n",
              "      <td>0.118899</td>\n",
              "      <td>0.059190</td>\n",
              "      <td>0.038941</td>\n",
              "      <td>0.024403</td>\n",
              "      <td>0.015576</td>\n",
              "    </tr>\n",
              "    <tr>\n",
              "      <th>Rachel</th>\n",
              "      <td>0.392363</td>\n",
              "      <td>0.208115</td>\n",
              "      <td>0.120764</td>\n",
              "      <td>0.135561</td>\n",
              "      <td>0.060143</td>\n",
              "      <td>0.047255</td>\n",
              "      <td>0.020525</td>\n",
              "      <td>0.015274</td>\n",
              "    </tr>\n",
              "    <tr>\n",
              "      <th>Ross</th>\n",
              "      <td>0.464451</td>\n",
              "      <td>0.194367</td>\n",
              "      <td>0.110342</td>\n",
              "      <td>0.095568</td>\n",
              "      <td>0.057248</td>\n",
              "      <td>0.038781</td>\n",
              "      <td>0.020314</td>\n",
              "      <td>0.018929</td>\n",
              "    </tr>\n",
              "    <tr>\n",
              "      <th>All</th>\n",
              "      <td>0.450252</td>\n",
              "      <td>0.191133</td>\n",
              "      <td>0.117907</td>\n",
              "      <td>0.114252</td>\n",
              "      <td>0.052334</td>\n",
              "      <td>0.034338</td>\n",
              "      <td>0.022823</td>\n",
              "      <td>0.016962</td>\n",
              "    </tr>\n",
              "  </tbody>\n",
              "</table>\n",
              "</div>"
            ],
            "text/plain": [
              "emotion    neutral  non-neutral       joy  ...   sadness   disgust      fear\n",
              "speaker                                    ...                              \n",
              "Chandler  0.468028     0.207415  0.106932  ...  0.024718  0.027405  0.024181\n",
              "Joey      0.453074     0.188627  0.127138  ...  0.027739  0.020804  0.016181\n",
              "Monica    0.415254     0.209216  0.119703  ...  0.025424  0.034958  0.012712\n",
              "Other     0.513727     0.149334  0.118968  ...  0.035774  0.014559  0.016223\n",
              "Phoebe    0.431983     0.190550  0.120457  ...  0.038941  0.024403  0.015576\n",
              "Rachel    0.392363     0.208115  0.120764  ...  0.047255  0.020525  0.015274\n",
              "Ross      0.464451     0.194367  0.110342  ...  0.038781  0.020314  0.018929\n",
              "All       0.450252     0.191133  0.117907  ...  0.034338  0.022823  0.016962\n",
              "\n",
              "[8 rows x 8 columns]"
            ]
          },
          "metadata": {
            "tags": []
          },
          "execution_count": 235
        }
      ]
    },
    {
      "cell_type": "code",
      "metadata": {
        "id": "juDShm1P_sEM",
        "colab_type": "code",
        "colab": {
          "base_uri": "https://localhost:8080/",
          "height": 348
        },
        "outputId": "1d79e53d-2a23-4d24-85f6-235a05b51101"
      },
      "source": [
        "speaker_emotions.T.plot(kind='bar', figsize=(12, 4), title='EmotionX dataset: speakers/emotions');\n",
        "#observation: emotions are relatively evenly spread among the speakers"
      ],
      "execution_count": 236,
      "outputs": [
        {
          "output_type": "display_data",
          "data": {
            "image/png": "[encoded data removed]",
            "text/plain": [
              "<Figure size 864x288 with 1 Axes>"
            ]
          },
          "metadata": {
            "tags": []
          }
        }
      ]
    },
    {
      "cell_type": "code",
      "metadata": {
        "id": "U2hnXLipiuHA",
        "colab_type": "code",
        "colab": {}
      },
      "source": [
        "# In EmotionX_2019, all 7 emotions are tagged but only 4 categories are counted towards the competition f1 metric:\n",
        "# Neutral, Joy, Anger, Sadness\n",
        "# 'Surprise', the second-largest distinct category, is not included (?)\n",
        "\n",
        "allowed_emotions = ['neutral', 'joy', 'anger', 'sadness']\n",
        "train_df = train_df[train_df.emotion.isin(allowed_emotions)]\n",
        "test_df = test_df[test_df.emotion.isin(allowed_emotions)]"
      ],
      "execution_count": 237,
      "outputs": []
    },
    {
      "cell_type": "code",
      "metadata": {
        "id": "Z7bbm2poiuAx",
        "colab_type": "code",
        "colab": {
          "base_uri": "https://localhost:8080/",
          "height": 198
        },
        "outputId": "3f5b3f98-cdea-4d96-f560-e8fabb9dbbf4"
      },
      "source": [
        "labelEncoder = LabelEncoder()\n",
        "train_df['label'] = labelEncoder.fit_transform(train_df['emotion'].values)\n",
        "test_df['label']  = labelEncoder.transform(test_df['emotion'].values)\n",
        "train_df.head()"
      ],
      "execution_count": 238,
      "outputs": [
        {
          "output_type": "execute_result",
          "data": {
            "text/html": [
              "<div>\n",
              "<style scoped>\n",
              "    .dataframe tbody tr th:only-of-type {\n",
              "        vertical-align: middle;\n",
              "    }\n",
              "\n",
              "    .dataframe tbody tr th {\n",
              "        vertical-align: top;\n",
              "    }\n",
              "\n",
              "    .dataframe thead th {\n",
              "        text-align: right;\n",
              "    }\n",
              "</style>\n",
              "<table border=\"1\" class=\"dataframe\">\n",
              "  <thead>\n",
              "    <tr style=\"text-align: right;\">\n",
              "      <th></th>\n",
              "      <th>speaker</th>\n",
              "      <th>u</th>\n",
              "      <th>uu</th>\n",
              "      <th>emotion</th>\n",
              "      <th>label</th>\n",
              "    </tr>\n",
              "  </thead>\n",
              "  <tbody>\n",
              "    <tr>\n",
              "      <th>2</th>\n",
              "      <td>Ross</td>\n",
              "      <td>Or! Or, we could go to the bank, close our acc...</td>\n",
              "      <td>What? Or! Or, we could go to the bank, close o...</td>\n",
              "      <td>neutral</td>\n",
              "      <td>2</td>\n",
              "    </tr>\n",
              "    <tr>\n",
              "      <th>3</th>\n",
              "      <td>Chandler</td>\n",
              "      <td>You`re a genius!</td>\n",
              "      <td>Or! Or, we could go to the bank, close our acc...</td>\n",
              "      <td>joy</td>\n",
              "      <td>1</td>\n",
              "    </tr>\n",
              "    <tr>\n",
              "      <th>4</th>\n",
              "      <td>Joey</td>\n",
              "      <td>Aww, man, now we won`t be bank buddies!</td>\n",
              "      <td>You`re a genius! Aww, man, now we won`t be ban...</td>\n",
              "      <td>sadness</td>\n",
              "      <td>3</td>\n",
              "    </tr>\n",
              "    <tr>\n",
              "      <th>5</th>\n",
              "      <td>Chandler</td>\n",
              "      <td>Now, there`s two reasons.</td>\n",
              "      <td>Aww, man, now we won`t be bank buddies! Now, t...</td>\n",
              "      <td>neutral</td>\n",
              "      <td>2</td>\n",
              "    </tr>\n",
              "    <tr>\n",
              "      <th>6</th>\n",
              "      <td>Phoebe</td>\n",
              "      <td>Hey.</td>\n",
              "      <td>Now, there`s two reasons. Hey.</td>\n",
              "      <td>neutral</td>\n",
              "      <td>2</td>\n",
              "    </tr>\n",
              "  </tbody>\n",
              "</table>\n",
              "</div>"
            ],
            "text/plain": [
              "    speaker                                                  u  ...  emotion label\n",
              "2      Ross  Or! Or, we could go to the bank, close our acc...  ...  neutral     2\n",
              "3  Chandler                                   You`re a genius!  ...      joy     1\n",
              "4      Joey            Aww, man, now we won`t be bank buddies!  ...  sadness     3\n",
              "5  Chandler                          Now, there`s two reasons.  ...  neutral     2\n",
              "6    Phoebe                                               Hey.  ...  neutral     2\n",
              "\n",
              "[5 rows x 5 columns]"
            ]
          },
          "metadata": {
            "tags": []
          },
          "execution_count": 238
        }
      ]
    },
    {
      "cell_type": "code",
      "metadata": {
        "id": "4dCp4FJ_itop",
        "colab_type": "code",
        "colab": {
          "base_uri": "https://localhost:8080/",
          "height": 35
        },
        "outputId": "f756837c-9e71-4b9b-ff05-6cb0d3563610"
      },
      "source": [
        "EMOTION_NAMES = labelEncoder.classes_\n",
        "NUM_EMOTIONS = len(EMOTION_NAMES)\n",
        "EMOTION_NAMES"
      ],
      "execution_count": 239,
      "outputs": [
        {
          "output_type": "execute_result",
          "data": {
            "text/plain": [
              "array(['anger', 'joy', 'neutral', 'sadness'], dtype=object)"
            ]
          },
          "metadata": {
            "tags": []
          },
          "execution_count": 239
        }
      ]
    },
    {
      "cell_type": "code",
      "metadata": {
        "id": "YgbBYKC7js1w",
        "colab_type": "code",
        "colab": {
          "base_uri": "https://localhost:8080/",
          "height": 267
        },
        "outputId": "6e6df80b-aa6b-4734-962d-73f8de28c029"
      },
      "source": [
        "# encode the speakers\n",
        "speakerEncoder = LabelEncoder()\n",
        "train_df['s'] = speakerEncoder.fit_transform(train_df['speaker'].values)\n",
        "test_df['s'] = speakerEncoder.transform(test_df['speaker'].values)\n",
        "train_df.head()"
      ],
      "execution_count": 240,
      "outputs": [
        {
          "output_type": "execute_result",
          "data": {
            "text/html": [
              "<div>\n",
              "<style scoped>\n",
              "    .dataframe tbody tr th:only-of-type {\n",
              "        vertical-align: middle;\n",
              "    }\n",
              "\n",
              "    .dataframe tbody tr th {\n",
              "        vertical-align: top;\n",
              "    }\n",
              "\n",
              "    .dataframe thead th {\n",
              "        text-align: right;\n",
              "    }\n",
              "</style>\n",
              "<table border=\"1\" class=\"dataframe\">\n",
              "  <thead>\n",
              "    <tr style=\"text-align: right;\">\n",
              "      <th></th>\n",
              "      <th>speaker</th>\n",
              "      <th>u</th>\n",
              "      <th>uu</th>\n",
              "      <th>emotion</th>\n",
              "      <th>label</th>\n",
              "      <th>s</th>\n",
              "    </tr>\n",
              "  </thead>\n",
              "  <tbody>\n",
              "    <tr>\n",
              "      <th>2</th>\n",
              "      <td>Ross</td>\n",
              "      <td>Or! Or, we could go to the bank, close our acc...</td>\n",
              "      <td>What? Or! Or, we could go to the bank, close o...</td>\n",
              "      <td>neutral</td>\n",
              "      <td>2</td>\n",
              "      <td>6</td>\n",
              "    </tr>\n",
              "    <tr>\n",
              "      <th>3</th>\n",
              "      <td>Chandler</td>\n",
              "      <td>You`re a genius!</td>\n",
              "      <td>Or! Or, we could go to the bank, close our acc...</td>\n",
              "      <td>joy</td>\n",
              "      <td>1</td>\n",
              "      <td>0</td>\n",
              "    </tr>\n",
              "    <tr>\n",
              "      <th>4</th>\n",
              "      <td>Joey</td>\n",
              "      <td>Aww, man, now we won`t be bank buddies!</td>\n",
              "      <td>You`re a genius! Aww, man, now we won`t be ban...</td>\n",
              "      <td>sadness</td>\n",
              "      <td>3</td>\n",
              "      <td>1</td>\n",
              "    </tr>\n",
              "    <tr>\n",
              "      <th>5</th>\n",
              "      <td>Chandler</td>\n",
              "      <td>Now, there`s two reasons.</td>\n",
              "      <td>Aww, man, now we won`t be bank buddies! Now, t...</td>\n",
              "      <td>neutral</td>\n",
              "      <td>2</td>\n",
              "      <td>0</td>\n",
              "    </tr>\n",
              "    <tr>\n",
              "      <th>6</th>\n",
              "      <td>Phoebe</td>\n",
              "      <td>Hey.</td>\n",
              "      <td>Now, there`s two reasons. Hey.</td>\n",
              "      <td>neutral</td>\n",
              "      <td>2</td>\n",
              "      <td>4</td>\n",
              "    </tr>\n",
              "  </tbody>\n",
              "</table>\n",
              "</div>"
            ],
            "text/plain": [
              "    speaker                                                  u  ... label  s\n",
              "2      Ross  Or! Or, we could go to the bank, close our acc...  ...     2  6\n",
              "3  Chandler                                   You`re a genius!  ...     1  0\n",
              "4      Joey            Aww, man, now we won`t be bank buddies!  ...     3  1\n",
              "5  Chandler                          Now, there`s two reasons.  ...     2  0\n",
              "6    Phoebe                                               Hey.  ...     2  4\n",
              "\n",
              "[5 rows x 6 columns]"
            ]
          },
          "metadata": {
            "tags": []
          },
          "execution_count": 240
        }
      ]
    },
    {
      "cell_type": "code",
      "metadata": {
        "id": "p2kA48DBooVZ",
        "colab_type": "code",
        "colab": {
          "base_uri": "https://localhost:8080/",
          "height": 52
        },
        "outputId": "29206b26-6cf1-4e27-af1a-8a007e8f07f6"
      },
      "source": [
        "SPEAKER_NAMES = speakerEncoder.classes_\n",
        "NUM_SPEAKERS = len(SPEAKER_NAMES)\n",
        "SPEAKER_NAMES"
      ],
      "execution_count": 241,
      "outputs": [
        {
          "output_type": "execute_result",
          "data": {
            "text/plain": [
              "array(['Chandler', 'Joey', 'Monica', 'Other', 'Phoebe', 'Rachel', 'Ross'],\n",
              "      dtype=object)"
            ]
          },
          "metadata": {
            "tags": []
          },
          "execution_count": 241
        }
      ]
    },
    {
      "cell_type": "code",
      "metadata": {
        "id": "VmB4ngI3uOQO",
        "colab_type": "code",
        "colab": {
          "base_uri": "https://localhost:8080/",
          "height": 52
        },
        "outputId": "c0c47c9b-68a3-4a2b-a947-0c27dbc02d8a"
      },
      "source": [
        "# y_true to be used in performance metrics\n",
        "y_true = test_df.label\n",
        "\n",
        "# reindex\n",
        "train_df.index = range(len(train_df))\n",
        "test_df.index = range(len(test_df))\n",
        "print(train_df.shape)\n",
        "print(test_df.shape)"
      ],
      "execution_count": 242,
      "outputs": [
        {
          "output_type": "stream",
          "text": [
            "(18994, 6)\n",
            "(1802, 6)\n"
          ],
          "name": "stdout"
        }
      ]
    },
    {
      "cell_type": "markdown",
      "metadata": {
        "id": "LSVDIYWQZPWh",
        "colab_type": "text"
      },
      "source": [
        "### Random f1"
      ]
    },
    {
      "cell_type": "code",
      "metadata": {
        "id": "YMyDJkaZ4rdE",
        "colab_type": "code",
        "colab": {}
      },
      "source": [
        "# scores_df to keep track of performace. Initialize with top-5 teams from EmotionX 2019 challenge\n",
        "scores_df = pd.DataFrame(data={\n",
        "                            'team/model': ['NTHU IDEA Lab', 'KAKAO NLP+KU', 'HSU HK', 'Alexandria U', 'Antenna'],\n",
        "                            'micro-f1': [81.5, 79.5, 79.1, 77.0, 75.2],\n",
        "                            'macro-f1': [73.1, 68.7, 69.9, 68.6, 63.8]\n",
        "                            })\n",
        "\n",
        "def update_scores(scores_df, model_name, y_pred, y_true=y_true, target_names=EMOTION_NAMES):\n",
        "\n",
        "    report = classification_report(y_true, y_pred, target_names=target_names, digits=3)\n",
        "    print(report)\n",
        "    \n",
        "    # f1 scores are contained at specific points in sklearn class.report string\n",
        "    micro = 100*float(report.split('accuracy')[1][25:35])  \n",
        "    macro = 100*float(report.split('macro avg')[1][25:35])\n",
        "    scores_df.loc[scores_df.shape[0]]=[model_name, micro, macro]\n",
        "\n",
        "    return scores_df"
      ],
      "execution_count": 262,
      "outputs": []
    },
    {
      "cell_type": "markdown",
      "metadata": {
        "id": "63N-2Q3KZY_x",
        "colab_type": "text"
      },
      "source": [
        "2 types of random benchmark:\n",
        "- stratified, i.e. random shuffle preserving class weights\n",
        "- majority class"
      ]
    },
    {
      "cell_type": "code",
      "metadata": {
        "id": "rAqHoj4ibDl9",
        "colab_type": "code",
        "colab": {
          "base_uri": "https://localhost:8080/",
          "height": 418
        },
        "outputId": "aba34822-4947-4580-bf39-4dff1cfce111"
      },
      "source": [
        "# Stratified random shuffle\n",
        "y_shuffled = y_true.copy().values\n",
        "np.random.shuffle(y_shuffled)\n",
        "\n",
        "scores_df = update_scores(scores_df, 'random stratified', y_shuffled)\n",
        "scores_df.head(10)"
      ],
      "execution_count": 263,
      "outputs": [
        {
          "output_type": "stream",
          "text": [
            "              precision    recall  f1-score   support\n",
            "\n",
            "       anger      0.064     0.064     0.064       141\n",
            "         joy      0.253     0.253     0.253       505\n",
            "     neutral      0.569     0.569     0.569      1035\n",
            "     sadness      0.083     0.083     0.083       121\n",
            "\n",
            "    accuracy                          0.408      1802\n",
            "   macro avg      0.242     0.242     0.242      1802\n",
            "weighted avg      0.408     0.408     0.408      1802\n",
            "\n"
          ],
          "name": "stdout"
        },
        {
          "output_type": "execute_result",
          "data": {
            "text/html": [
              "<div>\n",
              "<style scoped>\n",
              "    .dataframe tbody tr th:only-of-type {\n",
              "        vertical-align: middle;\n",
              "    }\n",
              "\n",
              "    .dataframe tbody tr th {\n",
              "        vertical-align: top;\n",
              "    }\n",
              "\n",
              "    .dataframe thead th {\n",
              "        text-align: right;\n",
              "    }\n",
              "</style>\n",
              "<table border=\"1\" class=\"dataframe\">\n",
              "  <thead>\n",
              "    <tr style=\"text-align: right;\">\n",
              "      <th></th>\n",
              "      <th>team/model</th>\n",
              "      <th>micro-f1</th>\n",
              "      <th>macro-f1</th>\n",
              "    </tr>\n",
              "  </thead>\n",
              "  <tbody>\n",
              "    <tr>\n",
              "      <th>0</th>\n",
              "      <td>NTHU IDEA Lab</td>\n",
              "      <td>81.5</td>\n",
              "      <td>73.1</td>\n",
              "    </tr>\n",
              "    <tr>\n",
              "      <th>1</th>\n",
              "      <td>KAKAK NLP+KU</td>\n",
              "      <td>79.5</td>\n",
              "      <td>68.7</td>\n",
              "    </tr>\n",
              "    <tr>\n",
              "      <th>2</th>\n",
              "      <td>HSU HK</td>\n",
              "      <td>79.1</td>\n",
              "      <td>69.9</td>\n",
              "    </tr>\n",
              "    <tr>\n",
              "      <th>3</th>\n",
              "      <td>Alexandria U</td>\n",
              "      <td>77.0</td>\n",
              "      <td>68.6</td>\n",
              "    </tr>\n",
              "    <tr>\n",
              "      <th>4</th>\n",
              "      <td>Antenna</td>\n",
              "      <td>75.2</td>\n",
              "      <td>63.8</td>\n",
              "    </tr>\n",
              "    <tr>\n",
              "      <th>5</th>\n",
              "      <td>random stratified</td>\n",
              "      <td>40.8</td>\n",
              "      <td>24.2</td>\n",
              "    </tr>\n",
              "  </tbody>\n",
              "</table>\n",
              "</div>"
            ],
            "text/plain": [
              "          team/model  micro-f1  macro-f1\n",
              "0      NTHU IDEA Lab      81.5      73.1\n",
              "1       KAKAK NLP+KU      79.5      68.7\n",
              "2             HSU HK      79.1      69.9\n",
              "3       Alexandria U      77.0      68.6\n",
              "4            Antenna      75.2      63.8\n",
              "5  random stratified      40.8      24.2"
            ]
          },
          "metadata": {
            "tags": []
          },
          "execution_count": 263
        }
      ]
    },
    {
      "cell_type": "code",
      "metadata": {
        "id": "o34ppNMQZPT6",
        "colab_type": "code",
        "colab": {
          "base_uri": "https://localhost:8080/",
          "height": 465
        },
        "outputId": "db757f24-0ce2-486f-bda6-296e54b368ce"
      },
      "source": [
        "# predict all y_pred as majority class\n",
        "maj_class = y_true.value_counts().index[0]\n",
        "maj_pred = np.full_like(y_true, maj_class)\n",
        "print(maj_class, EMOTION_NAMES[maj_class])\n",
        "\n",
        "scores_df = update_scores(scores_df, 'all majority class', maj_pred)\n",
        "scores_df.head(10)"
      ],
      "execution_count": 264,
      "outputs": [
        {
          "output_type": "stream",
          "text": [
            "2 neutral\n",
            "              precision    recall  f1-score   support\n",
            "\n",
            "       anger      0.000     0.000     0.000       141\n",
            "         joy      0.000     0.000     0.000       505\n",
            "     neutral      0.574     1.000     0.730      1035\n",
            "     sadness      0.000     0.000     0.000       121\n",
            "\n",
            "    accuracy                          0.574      1802\n",
            "   macro avg      0.144     0.250     0.182      1802\n",
            "weighted avg      0.330     0.574     0.419      1802\n",
            "\n"
          ],
          "name": "stdout"
        },
        {
          "output_type": "execute_result",
          "data": {
            "text/html": [
              "<div>\n",
              "<style scoped>\n",
              "    .dataframe tbody tr th:only-of-type {\n",
              "        vertical-align: middle;\n",
              "    }\n",
              "\n",
              "    .dataframe tbody tr th {\n",
              "        vertical-align: top;\n",
              "    }\n",
              "\n",
              "    .dataframe thead th {\n",
              "        text-align: right;\n",
              "    }\n",
              "</style>\n",
              "<table border=\"1\" class=\"dataframe\">\n",
              "  <thead>\n",
              "    <tr style=\"text-align: right;\">\n",
              "      <th></th>\n",
              "      <th>team/model</th>\n",
              "      <th>micro-f1</th>\n",
              "      <th>macro-f1</th>\n",
              "    </tr>\n",
              "  </thead>\n",
              "  <tbody>\n",
              "    <tr>\n",
              "      <th>0</th>\n",
              "      <td>NTHU IDEA Lab</td>\n",
              "      <td>81.5</td>\n",
              "      <td>73.1</td>\n",
              "    </tr>\n",
              "    <tr>\n",
              "      <th>1</th>\n",
              "      <td>KAKAK NLP+KU</td>\n",
              "      <td>79.5</td>\n",
              "      <td>68.7</td>\n",
              "    </tr>\n",
              "    <tr>\n",
              "      <th>2</th>\n",
              "      <td>HSU HK</td>\n",
              "      <td>79.1</td>\n",
              "      <td>69.9</td>\n",
              "    </tr>\n",
              "    <tr>\n",
              "      <th>3</th>\n",
              "      <td>Alexandria U</td>\n",
              "      <td>77.0</td>\n",
              "      <td>68.6</td>\n",
              "    </tr>\n",
              "    <tr>\n",
              "      <th>4</th>\n",
              "      <td>Antenna</td>\n",
              "      <td>75.2</td>\n",
              "      <td>63.8</td>\n",
              "    </tr>\n",
              "    <tr>\n",
              "      <th>5</th>\n",
              "      <td>random stratified</td>\n",
              "      <td>40.8</td>\n",
              "      <td>24.2</td>\n",
              "    </tr>\n",
              "    <tr>\n",
              "      <th>6</th>\n",
              "      <td>all majority class</td>\n",
              "      <td>57.4</td>\n",
              "      <td>18.2</td>\n",
              "    </tr>\n",
              "  </tbody>\n",
              "</table>\n",
              "</div>"
            ],
            "text/plain": [
              "           team/model  micro-f1  macro-f1\n",
              "0       NTHU IDEA Lab      81.5      73.1\n",
              "1        KAKAK NLP+KU      79.5      68.7\n",
              "2              HSU HK      79.1      69.9\n",
              "3        Alexandria U      77.0      68.6\n",
              "4             Antenna      75.2      63.8\n",
              "5   random stratified      40.8      24.2\n",
              "6  all majority class      57.4      18.2"
            ]
          },
          "metadata": {
            "tags": []
          },
          "execution_count": 264
        }
      ]
    },
    {
      "cell_type": "markdown",
      "metadata": {
        "id": "hPh_5NWiiEap",
        "colab_type": "text"
      },
      "source": [
        "### Load BERT, encode"
      ]
    },
    {
      "cell_type": "code",
      "metadata": {
        "id": "KtAwB8p3KNzq",
        "colab_type": "code",
        "colab": {
          "base_uri": "https://localhost:8080/",
          "height": 35
        },
        "outputId": "f119a855-ffcc-45af-d950-900e7fbc44ce"
      },
      "source": [
        "tic = time.time()\n",
        "bert_layer = hub.KerasLayer(\"https://tfhub.dev/tensorflow/bert_en_uncased_L-12_H-768_A-12/2\",  \n",
        "                            name = 'bert_layer',\n",
        "                            trainable=True)\n",
        "toc = time.time()\n",
        "print(f'done in {toc-tic:.1f} sec')"
      ],
      "execution_count": 179,
      "outputs": [
        {
          "output_type": "stream",
          "text": [
            "done in 6.3 sec\n"
          ],
          "name": "stdout"
        }
      ]
    },
    {
      "cell_type": "code",
      "metadata": {
        "id": "YTScCZTS_rax",
        "colab_type": "code",
        "colab": {}
      },
      "source": [
        "vocab_file = bert_layer.resolved_object.vocab_file.asset_path.numpy()\n",
        "do_lower_case = bert_layer.resolved_object.do_lower_case.numpy()\n",
        "\n",
        "tokenizer = tokenization.FullTokenizer(vocab_file, do_lower_case)\n",
        "# dir(tokenizer)"
      ],
      "execution_count": 180,
      "outputs": []
    },
    {
      "cell_type": "code",
      "metadata": {
        "id": "38qdrMAtRayp",
        "colab_type": "code",
        "colab": {
          "base_uri": "https://localhost:8080/",
          "height": 72
        },
        "outputId": "1be246d3-e139-470b-f5f7-d34c35c38fdf"
      },
      "source": [
        "tokens = tokenizer.tokenize(train_df.u[0])\n",
        "ids = tokenizer.convert_tokens_to_ids(tokens)\n",
        "\n",
        "print(tokens)\n",
        "print(ids)"
      ],
      "execution_count": 181,
      "outputs": [
        {
          "output_type": "stream",
          "text": [
            "['or', '!', 'or', ',', 'we', 'could', 'go', 'to', 'the', 'bank', ',', 'close', 'our', 'accounts', 'and', 'cut', 'them', 'off', 'at', 'the', 'source', '.']\n",
            "[2030, 999, 2030, 1010, 2057, 2071, 2175, 2000, 1996, 2924, 1010, 2485, 2256, 6115, 1998, 3013, 2068, 2125, 2012, 1996, 3120, 1012]\n"
          ],
          "name": "stdout"
        }
      ]
    },
    {
      "cell_type": "code",
      "metadata": {
        "id": "wvltG3AAY0qN",
        "colab_type": "code",
        "colab": {}
      },
      "source": [
        "def encode_sentence(s):\n",
        "    # any input sequence in BERT must start with [CLS] token\n",
        "    # the first sentence (whether in pairs or standalone) must end with [SEP]\n",
        "    return (tokenizer.convert_tokens_to_ids(['[CLS]']) + \n",
        "            tokenizer.convert_tokens_to_ids(tokenizer.tokenize(s)) + \n",
        "            tokenizer.convert_tokens_to_ids(['[SEP]']))\n",
        "\n",
        "train_ids = train_df.u.apply(encode_sentence)\n",
        "test_ids = test_df.u.apply(encode_sentence)"
      ],
      "execution_count": 182,
      "outputs": []
    },
    {
      "cell_type": "code",
      "metadata": {
        "id": "3LSPssVfY_9O",
        "colab_type": "code",
        "colab": {
          "base_uri": "https://localhost:8080/",
          "height": 69
        },
        "outputId": "f95b1c37-aea0-4b05-c675-51350fec5ada"
      },
      "source": [
        "max_len_train = max(map(len, train_ids))\n",
        "max_len_test = max(map(len, test_ids))\n",
        "MAX_LEN = max(max_len_train, max_len_test)\n",
        "\n",
        "print(f'max len train =', max_len_train)\n",
        "print(f'max len test =', max_len_test)\n",
        "print(f'MAX LEN =', MAX_LEN)"
      ],
      "execution_count": 183,
      "outputs": [
        {
          "output_type": "stream",
          "text": [
            "max len train = 65\n",
            "max len test = 67\n",
            "MAX LEN = 67\n"
          ],
          "name": "stdout"
        }
      ]
    },
    {
      "cell_type": "markdown",
      "metadata": {
        "id": "cHufWe5YZXT9",
        "colab_type": "text"
      },
      "source": [
        "### TF Dataset"
      ]
    },
    {
      "cell_type": "code",
      "metadata": {
        "id": "f517GxOO1Og9",
        "colab_type": "code",
        "colab": {
          "base_uri": "https://localhost:8080/",
          "height": 233
        },
        "outputId": "4d8210c7-ced7-4fcc-cb1c-e78f755316a4"
      },
      "source": [
        "train_df.sample(5)"
      ],
      "execution_count": 184,
      "outputs": [
        {
          "output_type": "execute_result",
          "data": {
            "text/html": [
              "<div>\n",
              "<style scoped>\n",
              "    .dataframe tbody tr th:only-of-type {\n",
              "        vertical-align: middle;\n",
              "    }\n",
              "\n",
              "    .dataframe tbody tr th {\n",
              "        vertical-align: top;\n",
              "    }\n",
              "\n",
              "    .dataframe thead th {\n",
              "        text-align: right;\n",
              "    }\n",
              "</style>\n",
              "<table border=\"1\" class=\"dataframe\">\n",
              "  <thead>\n",
              "    <tr style=\"text-align: right;\">\n",
              "      <th></th>\n",
              "      <th>speaker</th>\n",
              "      <th>u</th>\n",
              "      <th>uu</th>\n",
              "      <th>emotion</th>\n",
              "      <th>label</th>\n",
              "      <th>s</th>\n",
              "    </tr>\n",
              "  </thead>\n",
              "  <tbody>\n",
              "    <tr>\n",
              "      <th>14922</th>\n",
              "      <td>Joey</td>\n",
              "      <td>Oh my God!</td>\n",
              "      <td>They loved me! Oh my God!</td>\n",
              "      <td>joy</td>\n",
              "      <td>1</td>\n",
              "      <td>1</td>\n",
              "    </tr>\n",
              "    <tr>\n",
              "      <th>4057</th>\n",
              "      <td>Joey</td>\n",
              "      <td>Y`know, hey I understand.</td>\n",
              "      <td>Y`know you wear a white coat, I wear a blue bl...</td>\n",
              "      <td>neutral</td>\n",
              "      <td>2</td>\n",
              "      <td>1</td>\n",
              "    </tr>\n",
              "    <tr>\n",
              "      <th>17510</th>\n",
              "      <td>Ross</td>\n",
              "      <td>Damnit!</td>\n",
              "      <td>Ezel!  Hey Gunther! You're an ezel! Damnit!</td>\n",
              "      <td>anger</td>\n",
              "      <td>0</td>\n",
              "      <td>6</td>\n",
              "    </tr>\n",
              "    <tr>\n",
              "      <th>2182</th>\n",
              "      <td>Joey</td>\n",
              "      <td>Monica and Rachel made out.</td>\n",
              "      <td>Yeah. Monica and Rachel made out.</td>\n",
              "      <td>neutral</td>\n",
              "      <td>2</td>\n",
              "      <td>1</td>\n",
              "    </tr>\n",
              "    <tr>\n",
              "      <th>15980</th>\n",
              "      <td>Chandler</td>\n",
              "      <td>And hats off to Phoebe. Quite a competitor.  A...</td>\n",
              "      <td>Dude! And hats off to Phoebe. Quite a competit...</td>\n",
              "      <td>joy</td>\n",
              "      <td>1</td>\n",
              "      <td>0</td>\n",
              "    </tr>\n",
              "  </tbody>\n",
              "</table>\n",
              "</div>"
            ],
            "text/plain": [
              "        speaker                                                  u  ... label  s\n",
              "14922      Joey                                         Oh my God!  ...     1  1\n",
              "4057       Joey                          Y`know, hey I understand.  ...     2  1\n",
              "17510      Ross                                            Damnit!  ...     0  6\n",
              "2182       Joey                        Monica and Rachel made out.  ...     2  1\n",
              "15980  Chandler  And hats off to Phoebe. Quite a competitor.  A...  ...     1  0\n",
              "\n",
              "[5 rows x 6 columns]"
            ]
          },
          "metadata": {
            "tags": []
          },
          "execution_count": 184
        }
      ]
    },
    {
      "cell_type": "code",
      "metadata": {
        "id": "fh1IOvMc67Hz",
        "colab_type": "code",
        "colab": {}
      },
      "source": [
        "BATCH_SIZE=32\n",
        "\n",
        "def bert_dataset(df, \n",
        "                 max_len=MAX_LEN, \n",
        "                 batch_size=BATCH_SIZE, \n",
        "                 num_emotions=NUM_EMOTIONS,\n",
        "                 include_speakers=False,\n",
        "                 num_speakers=NUM_SPEAKERS,\n",
        "                 add_preceding=False,\n",
        "                 train_size=0.9,\n",
        "                 shuffle=True,\n",
        "                 ):\n",
        "    \"\"\"\n",
        "    Produce TF datasets, both train and val, from the input dataframe\n",
        "    The convention for the input df: \n",
        "        labels       in column 'label,\n",
        "        utterances   in column 'u'\n",
        "        double utts  in column 'uu'\n",
        "        speakers     in column 's'\n",
        "    \"\"\"\n",
        "    input_word_ids=[]\n",
        "\n",
        "    if not add_preceding:\n",
        "        for sentence in df['u']:\n",
        "            input_word_ids.append(encode_sentence(sentence))\n",
        "    else:\n",
        "        for sentence in df['uu']:\n",
        "            input_word_ids.append(encode_sentence(sentence))\n",
        "\n",
        "    input_word_ids = pad_sequences(input_word_ids, maxlen=max_len, dtype=\"long\", value=0, padding=\"post\")\n",
        "    input_mask = np.vectorize(lambda arr: int(arr>0))(input_word_ids)\n",
        "    # BERT needs the 'segment ids' element. For single-sentence tasks such as classification, supply zeros\n",
        "    input_segment_ids = np.zeros_like(input_mask)\n",
        "    \n",
        "    if not include_speakers:\n",
        "        inputs = (input_word_ids, input_mask, input_segment_ids)\n",
        "    else:\n",
        "        speakers = to_categorical(df['s'].values, num_classes=num_speakers)\n",
        "        inputs = (input_word_ids, input_mask, input_segment_ids, speakers)\n",
        "    \n",
        "        # one-hot encode the labels\n",
        "    labels = to_categorical(df['label'].values, num_classes=num_emotions)\n",
        "\n",
        "    dataset = tf.data.Dataset.from_tensor_slices((inputs, labels))\n",
        "    if shuffle: dataset = dataset.shuffle(1024)\n",
        "    \n",
        "    train_size = int(train_size*df.shape[0])\n",
        "    train_ds = dataset.take(train_size).batch(batch_size).cache()\n",
        "    val_ds   = dataset.skip(train_size).batch(batch_size).cache()\n",
        "    \n",
        "    return train_ds, val_ds\n"
      ],
      "execution_count": 185,
      "outputs": []
    },
    {
      "cell_type": "code",
      "metadata": {
        "id": "pdI0K-2TZXYt",
        "colab_type": "code",
        "colab": {
          "base_uri": "https://localhost:8080/",
          "height": 1000
        },
        "outputId": "1799d47b-6d8c-4962-8e44-c3872e4be16c"
      },
      "source": [
        "train_ds, val_ds = bert_dataset(train_df)\n",
        "# train_ds, val_ds = bert_dataset(train_df, include_speakers=True)\n",
        "\n",
        "# inspect the dataset element\n",
        "print(train_ds.element_spec )\n",
        "next(iter(train_ds))\n"
      ],
      "execution_count": 186,
      "outputs": [
        {
          "output_type": "stream",
          "text": [
            "((TensorSpec(shape=(None, 67), dtype=tf.int64, name=None), TensorSpec(shape=(None, 67), dtype=tf.int64, name=None), TensorSpec(shape=(None, 67), dtype=tf.int64, name=None)), TensorSpec(shape=(None, 4), dtype=tf.float32, name=None))\n"
          ],
          "name": "stdout"
        },
        {
          "output_type": "execute_result",
          "data": {
            "text/plain": [
              "((<tf.Tensor: shape=(32, 67), dtype=int64, numpy=\n",
              "  array([[ 101, 2054, 1036, ...,    0,    0,    0],\n",
              "         [ 101, 2298, 1010, ...,    0,    0,    0],\n",
              "         [ 101, 4931, 6887, ...,    0,    0,    0],\n",
              "         ...,\n",
              "         [ 101, 4931,  999, ...,    0,    0,    0],\n",
              "         [ 101,  999,  102, ...,    0,    0,    0],\n",
              "         [ 101, 2821, 2057, ...,    0,    0,    0]])>,\n",
              "  <tf.Tensor: shape=(32, 67), dtype=int64, numpy=\n",
              "  array([[1, 1, 1, ..., 0, 0, 0],\n",
              "         [1, 1, 1, ..., 0, 0, 0],\n",
              "         [1, 1, 1, ..., 0, 0, 0],\n",
              "         ...,\n",
              "         [1, 1, 1, ..., 0, 0, 0],\n",
              "         [1, 1, 1, ..., 0, 0, 0],\n",
              "         [1, 1, 1, ..., 0, 0, 0]])>,\n",
              "  <tf.Tensor: shape=(32, 67), dtype=int64, numpy=\n",
              "  array([[0, 0, 0, ..., 0, 0, 0],\n",
              "         [0, 0, 0, ..., 0, 0, 0],\n",
              "         [0, 0, 0, ..., 0, 0, 0],\n",
              "         ...,\n",
              "         [0, 0, 0, ..., 0, 0, 0],\n",
              "         [0, 0, 0, ..., 0, 0, 0],\n",
              "         [0, 0, 0, ..., 0, 0, 0]])>),\n",
              " <tf.Tensor: shape=(32, 4), dtype=float32, numpy=\n",
              " array([[0., 0., 1., 0.],\n",
              "        [0., 0., 0., 1.],\n",
              "        [0., 0., 1., 0.],\n",
              "        [0., 1., 0., 0.],\n",
              "        [0., 0., 1., 0.],\n",
              "        [0., 0., 1., 0.],\n",
              "        [1., 0., 0., 0.],\n",
              "        [0., 0., 1., 0.],\n",
              "        [0., 1., 0., 0.],\n",
              "        [0., 0., 1., 0.],\n",
              "        [0., 0., 1., 0.],\n",
              "        [1., 0., 0., 0.],\n",
              "        [0., 0., 1., 0.],\n",
              "        [0., 0., 1., 0.],\n",
              "        [0., 0., 1., 0.],\n",
              "        [0., 0., 1., 0.],\n",
              "        [0., 0., 1., 0.],\n",
              "        [1., 0., 0., 0.],\n",
              "        [0., 1., 0., 0.],\n",
              "        [1., 0., 0., 0.],\n",
              "        [0., 0., 1., 0.],\n",
              "        [0., 0., 1., 0.],\n",
              "        [0., 0., 1., 0.],\n",
              "        [0., 1., 0., 0.],\n",
              "        [0., 0., 1., 0.],\n",
              "        [0., 0., 1., 0.],\n",
              "        [0., 0., 1., 0.],\n",
              "        [1., 0., 0., 0.],\n",
              "        [0., 0., 1., 0.],\n",
              "        [0., 1., 0., 0.],\n",
              "        [1., 0., 0., 0.],\n",
              "        [0., 1., 0., 0.]], dtype=float32)>)"
            ]
          },
          "metadata": {
            "tags": []
          },
          "execution_count": 186
        }
      ]
    },
    {
      "cell_type": "markdown",
      "metadata": {
        "id": "0iNab7nehLLi",
        "colab_type": "text"
      },
      "source": [
        "### BERT model"
      ]
    },
    {
      "cell_type": "code",
      "metadata": {
        "id": "h515V77qZXbN",
        "colab_type": "code",
        "colab": {}
      },
      "source": [
        "from tensorflow.keras.models import Model\n",
        "from tensorflow.keras.layers import Input, Dense, Dropout, LSTM\n",
        "from tensorflow.keras.initializers import Constant\n",
        "\n",
        "from tensorflow.keras.optimizers import Adam\n",
        "from tensorflow.keras.losses import CategoricalCrossentropy\n",
        "from tensorflow.keras.metrics import Accuracy, Precision, Recall, AUC\n",
        "\n",
        "from tensorflow.keras import callbacks\n",
        "import tensorflow.keras.backend as K\n"
      ],
      "execution_count": 187,
      "outputs": []
    },
    {
      "cell_type": "code",
      "metadata": {
        "id": "aH2ip1eTdCg6",
        "colab_type": "code",
        "colab": {}
      },
      "source": [
        "import tensorflow_addons as tfa\n",
        "f1_score = tfa.metrics.F1Score(NUM_EMOTIONS, average='micro', name='f1')   # the competition metric"
      ],
      "execution_count": 188,
      "outputs": []
    },
    {
      "cell_type": "code",
      "metadata": {
        "id": "vdnDo-Nk94LI",
        "colab_type": "code",
        "colab": {}
      },
      "source": [
        "\n",
        "def bert_model( max_len=MAX_LEN, \n",
        "                num_emotions=NUM_EMOTIONS,\n",
        "                include_speakers=False,\n",
        "                num_speakers=NUM_SPEAKERS,\n",
        "                dropout_rate=0.1, \n",
        "                seed=seed_value):\n",
        " \n",
        "    input_word_ids = Input(shape=(max_len,), dtype=tf.int32, name=\"input_word_ids\")\n",
        "    input_mask     = Input(shape=(max_len,), dtype=tf.int32, name=\"input_mask\")\n",
        "    segment_ids    = Input(shape=(max_len,), dtype=tf.int32, name=\"segment_ids\")\n",
        "    speakers = Input(shape=(num_speakers,), dtype=tf.float32, name=\"speakers\")\n",
        "\n",
        "    # deep copy of a keras layer object is problematic, therefore download for each instance\n",
        "    bert = hub.KerasLayer(\"https://tfhub.dev/tensorflow/bert_en_uncased_L-12_H-768_A-12/2\",  \n",
        "                                name = 'bert_layer', trainable=True)\n",
        "\n",
        "    if not include_speakers:\n",
        "        inputs = [input_word_ids, input_mask, segment_ids]\n",
        "        x, _ = bert(inputs)\n",
        "        x = Dropout(dropout_rate, seed=seed, name='dropout')(x)\n",
        "    else:\n",
        "        inputs = [input_word_ids, input_mask, segment_ids, speakers]\n",
        "        x, _ = bert(inputs[:-1])\n",
        "        x = Dropout(dropout_rate, seed=seed, name='dropout')(x)\n",
        "        x = tf.concat([x, speakers], axis=1)\n",
        "        x = Dense(512, activation='relu')(x)\n",
        "\n",
        "    output = Dense(num_emotions, activation='softmax')(x)\n",
        "    model = Model(inputs, output)\n",
        "\n",
        "    return model\n"
      ],
      "execution_count": 189,
      "outputs": []
    },
    {
      "cell_type": "code",
      "metadata": {
        "id": "OeNtwW_4m8bX",
        "colab_type": "code",
        "colab": {}
      },
      "source": [
        "def plot_training(history):\n",
        "\n",
        "    f,axes = plt.subplots(1, 2, figsize=(12, 4))\n",
        "    ax0,ax1=axes[0],axes[1]\n",
        "    \n",
        "    hist = history.history\n",
        "    epochs = np.arange(1,1+len(hist['loss']))\n",
        "\n",
        "    ax0.plot(epochs, hist['f1'], label='f1 train') \n",
        "    ax0.plot(epochs, hist['val_f1'], label='f1 val') \n",
        "    ax0.set_title('f1 score')\n",
        "    ax0.legend()\n",
        "\n",
        "    ax1.plot(epochs, hist['P'], label='precision train') \n",
        "    ax1.plot(epochs, hist['R'], label='recall train') \n",
        "    ax1.plot(epochs, hist['val_P'], label='precision val') \n",
        "    ax1.plot(epochs, hist['val_R'], label='recall val') \n",
        "    ax1.set_title('precision / recall')\n",
        "    ax1.legend()\n",
        "\n",
        "    plt.show()"
      ],
      "execution_count": 190,
      "outputs": []
    },
    {
      "cell_type": "code",
      "metadata": {
        "id": "klpcof6dH556",
        "colab_type": "code",
        "colab": {
          "base_uri": "https://localhost:8080/",
          "height": 397
        },
        "outputId": "1b48f935-cd34-4778-dbcd-78d0852ec044"
      },
      "source": [
        "# test model\n",
        "model = bert_model()\n",
        "model.summary()"
      ],
      "execution_count": 191,
      "outputs": [
        {
          "output_type": "stream",
          "text": [
            "Model: \"functional_23\"\n",
            "__________________________________________________________________________________________________\n",
            "Layer (type)                    Output Shape         Param #     Connected to                     \n",
            "==================================================================================================\n",
            "input_word_ids (InputLayer)     [(None, 67)]         0                                            \n",
            "__________________________________________________________________________________________________\n",
            "input_mask (InputLayer)         [(None, 67)]         0                                            \n",
            "__________________________________________________________________________________________________\n",
            "segment_ids (InputLayer)        [(None, 67)]         0                                            \n",
            "__________________________________________________________________________________________________\n",
            "bert_layer (KerasLayer)         [(None, 768), (None, 109482241   input_word_ids[0][0]             \n",
            "                                                                 input_mask[0][0]                 \n",
            "                                                                 segment_ids[0][0]                \n",
            "__________________________________________________________________________________________________\n",
            "dropout (Dropout)               (None, 768)          0           bert_layer[0][0]                 \n",
            "__________________________________________________________________________________________________\n",
            "dense_16 (Dense)                (None, 4)            3076        dropout[0][0]                    \n",
            "==================================================================================================\n",
            "Total params: 109,485,317\n",
            "Trainable params: 109,485,316\n",
            "Non-trainable params: 1\n",
            "__________________________________________________________________________________________________\n"
          ],
          "name": "stdout"
        }
      ]
    },
    {
      "cell_type": "code",
      "metadata": {
        "id": "U48B0aVx4Tm8",
        "colab_type": "code",
        "colab": {
          "base_uri": "https://localhost:8080/",
          "height": 52
        },
        "outputId": "cc37aed4-abba-409f-98aa-cafbf93e63ae"
      },
      "source": [
        "# Test the computational graph\n",
        "tic=time.time()\n",
        "sample_input = next(iter(train_ds))\n",
        "\n",
        "# Dataset is a generator of (X,Y). Only X should be passed to the model, i.e. sample_input[0]\n",
        "sample_output = model(sample_input[0])\n",
        "\n",
        "toc=time.time()\n",
        "print(f'done in {toc-tic:.1f} sec')\n",
        "print(sample_output.shape)\n"
      ],
      "execution_count": 192,
      "outputs": [
        {
          "output_type": "stream",
          "text": [
            "done in 0.5 sec\n",
            "(32, 4)\n"
          ],
          "name": "stdout"
        }
      ]
    },
    {
      "cell_type": "code",
      "metadata": {
        "id": "9xAbn3Xv7voX",
        "colab_type": "code",
        "colab": {
          "base_uri": "https://localhost:8080/",
          "height": 287
        },
        "outputId": "dd16126e-1661-4be2-f58a-6ba3428eca43"
      },
      "source": [
        "tf.keras.utils.plot_model(model, show_shapes=True, dpi=64)"
      ],
      "execution_count": 193,
      "outputs": [
        {
          "output_type": "execute_result",
          "data": {
            "image/png": "[encoded data removed]",
            "text/plain": [
              "<IPython.core.display.Image object>"
            ]
          },
          "metadata": {
            "tags": []
          },
          "execution_count": 193
        }
      ]
    },
    {
      "cell_type": "markdown",
      "metadata": {
        "id": "AbLfArlyhHQS",
        "colab_type": "text"
      },
      "source": [
        "Common callbacks to be used in all models"
      ]
    },
    {
      "cell_type": "code",
      "metadata": {
        "id": "lKXelom3hDUk",
        "colab_type": "code",
        "colab": {}
      },
      "source": [
        "def scheduler(epoch, lr):\n",
        "    # keep the original lr for flat_period epochs, exponential decay since then subject to floor_lr\n",
        "    flat_period, decay, floor_lr = 1, -0.25, 1e-6\n",
        "    if epoch<=flat_period: return lr\n",
        "    return max(lr*np.exp(decay), floor_lr)\n",
        "   \n",
        "lr_callback = callbacks.LearningRateScheduler(scheduler, verbose=1) \n",
        "\n",
        "es_callback = callbacks.EarlyStopping(monitor='val_f1', verbose=1, patience=2, mode='max')\n"
      ],
      "execution_count": 270,
      "outputs": []
    },
    {
      "cell_type": "markdown",
      "metadata": {
        "id": "yTmEzPv-g3Ta",
        "colab_type": "text"
      },
      "source": [
        "### m0. single utt"
      ]
    },
    {
      "cell_type": "code",
      "metadata": {
        "id": "w_0szQW44rYQ",
        "colab_type": "code",
        "colab": {
          "base_uri": "https://localhost:8080/",
          "height": 728
        },
        "outputId": "225e86c3-7afb-4d22-f0fa-cc7fbbcd3c92"
      },
      "source": [
        "train_ds, val_ds = bert_dataset(train_df)\n",
        "test_ds = bert_dataset(test_df, train_size=1, shuffle=False)[0]\n",
        "\n",
        "EPOCHS = 10\n",
        "\n",
        "model_0 = bert_model(dropout_rate=0)\n",
        "\n",
        "model_0.compile(optimizer=Adam(1e-5),\n",
        "                loss=CategoricalCrossentropy(),\n",
        "                metrics=[f1_score, Precision(name='P'), Recall(name='R')])\n",
        "\n",
        "history = model_0.fit(\n",
        "                train_ds,\n",
        "                epochs=EPOCHS,\n",
        "                verbose=1,\n",
        "                callbacks = [lr_callback, es_callback],\n",
        "                validation_data=val_ds)\n"
      ],
      "execution_count": 266,
      "outputs": [
        {
          "output_type": "stream",
          "text": [
            "\n",
            "Epoch 00001: LearningRateScheduler reducing learning rate to 9.999999747378752e-06.\n",
            "Epoch 1/10\n",
            "535/535 [==============================] - 156s 292ms/step - loss: 0.6964 - f1: 0.8284 - P: 0.8073 - R: 0.6889 - val_loss: 0.4001 - val_f1: 0.8584 - val_P: 0.8719 - val_R: 0.8526\n",
            "\n",
            "Epoch 00002: LearningRateScheduler reducing learning rate to 9.999999747378752e-06.\n",
            "Epoch 2/10\n",
            "535/535 [==============================] - 144s 268ms/step - loss: 0.3867 - f1: 0.8719 - P: 0.8834 - R: 0.8569 - val_loss: 0.3057 - val_f1: 0.8947 - val_P: 0.9032 - val_R: 0.8884\n",
            "\n",
            "Epoch 00003: LearningRateScheduler reducing learning rate to 7.788007633972422e-06.\n",
            "Epoch 3/10\n",
            "535/535 [==============================] - 143s 268ms/step - loss: 0.2558 - f1: 0.9175 - P: 0.9250 - R: 0.9102 - val_loss: 0.1986 - val_f1: 0.9353 - val_P: 0.9395 - val_R: 0.9311\n",
            "\n",
            "Epoch 00004: LearningRateScheduler reducing learning rate to 6.065306478780581e-06.\n",
            "Epoch 4/10\n",
            "535/535 [==============================] - 143s 268ms/step - loss: 0.1630 - f1: 0.9506 - P: 0.9547 - R: 0.9468 - val_loss: 0.1296 - val_f1: 0.9579 - val_P: 0.9604 - val_R: 0.9568\n",
            "\n",
            "Epoch 00005: LearningRateScheduler reducing learning rate to 4.7236654356359535e-06.\n",
            "Epoch 5/10\n",
            "535/535 [==============================] - 144s 268ms/step - loss: 0.1177 - f1: 0.9653 - P: 0.9666 - R: 0.9640 - val_loss: 0.0914 - val_f1: 0.9684 - val_P: 0.9689 - val_R: 0.9684\n",
            "\n",
            "Epoch 00006: LearningRateScheduler reducing learning rate to 3.6787942890964882e-06.\n",
            "Epoch 6/10\n",
            "535/535 [==============================] - 143s 268ms/step - loss: 0.0867 - f1: 0.9738 - P: 0.9753 - R: 0.9722 - val_loss: 0.0767 - val_f1: 0.9742 - val_P: 0.9757 - val_R: 0.9721\n",
            "\n",
            "Epoch 00007: LearningRateScheduler reducing learning rate to 2.865047804359633e-06.\n",
            "Epoch 7/10\n",
            "535/535 [==============================] - 143s 268ms/step - loss: 0.0706 - f1: 0.9783 - P: 0.9800 - R: 0.9769 - val_loss: 0.0681 - val_f1: 0.9784 - val_P: 0.9789 - val_R: 0.9779\n",
            "\n",
            "Epoch 00008: LearningRateScheduler reducing learning rate to 2.2313015620922005e-06.\n",
            "Epoch 8/10\n",
            "535/535 [==============================] - 144s 268ms/step - loss: 0.0652 - f1: 0.9788 - P: 0.9808 - R: 0.9777 - val_loss: 0.0618 - val_f1: 0.9800 - val_P: 0.9805 - val_R: 0.9789\n",
            "\n",
            "Epoch 00009: LearningRateScheduler reducing learning rate to 1.7377393949045351e-06.\n",
            "Epoch 9/10\n",
            "535/535 [==============================] - 143s 268ms/step - loss: 0.0571 - f1: 0.9829 - P: 0.9842 - R: 0.9824 - val_loss: 0.0553 - val_f1: 0.9816 - val_P: 0.9821 - val_R: 0.9811\n",
            "\n",
            "Epoch 00010: LearningRateScheduler reducing learning rate to 1.3533527691259516e-06.\n",
            "Epoch 10/10\n",
            "535/535 [==============================] - 143s 268ms/step - loss: 0.0533 - f1: 0.9832 - P: 0.9839 - R: 0.9825 - val_loss: 0.0508 - val_f1: 0.9816 - val_P: 0.9821 - val_R: 0.9811\n"
          ],
          "name": "stdout"
        }
      ]
    },
    {
      "cell_type": "code",
      "metadata": {
        "id": "nYuJcD6dnCZm",
        "colab_type": "code",
        "colab": {
          "base_uri": "https://localhost:8080/",
          "height": 282
        },
        "outputId": "0a98a84f-1613-4c8c-b6e1-6516ddf650d2"
      },
      "source": [
        "plot_training(history)"
      ],
      "execution_count": 267,
      "outputs": [
        {
          "output_type": "display_data",
          "data": {
            "image/png": "[encoded data removed]",
            "text/plain": [
              "<Figure size 864x288 with 2 Axes>"
            ]
          },
          "metadata": {
            "tags": []
          }
        }
      ]
    },
    {
      "cell_type": "code",
      "metadata": {
        "id": "MiajJrflD7P6",
        "colab_type": "code",
        "colab": {
          "base_uri": "https://localhost:8080/",
          "height": 288
        },
        "outputId": "2ac149ed-d11f-4297-bbb9-99c5d7005aee"
      },
      "source": [
        "y_pred = model_0.predict(test_ds).argmax(axis=1)\n",
        "\n",
        "scores_df = update_scores(scores_df, 'model 0. single utterance', y_pred)\n",
        "scores_df.head(10)"
      ],
      "execution_count": 269,
      "outputs": [
        {
          "output_type": "execute_result",
          "data": {
            "text/html": [
              "<div>\n",
              "<style scoped>\n",
              "    .dataframe tbody tr th:only-of-type {\n",
              "        vertical-align: middle;\n",
              "    }\n",
              "\n",
              "    .dataframe tbody tr th {\n",
              "        vertical-align: top;\n",
              "    }\n",
              "\n",
              "    .dataframe thead th {\n",
              "        text-align: right;\n",
              "    }\n",
              "</style>\n",
              "<table border=\"1\" class=\"dataframe\">\n",
              "  <thead>\n",
              "    <tr style=\"text-align: right;\">\n",
              "      <th></th>\n",
              "      <th>team/model</th>\n",
              "      <th>micro-f1</th>\n",
              "      <th>macro-f1</th>\n",
              "    </tr>\n",
              "  </thead>\n",
              "  <tbody>\n",
              "    <tr>\n",
              "      <th>0</th>\n",
              "      <td>NTHU IDEA Lab</td>\n",
              "      <td>81.5</td>\n",
              "      <td>73.1</td>\n",
              "    </tr>\n",
              "    <tr>\n",
              "      <th>1</th>\n",
              "      <td>KAKAK NLP+KU</td>\n",
              "      <td>79.5</td>\n",
              "      <td>68.7</td>\n",
              "    </tr>\n",
              "    <tr>\n",
              "      <th>2</th>\n",
              "      <td>HSU HK</td>\n",
              "      <td>79.1</td>\n",
              "      <td>69.9</td>\n",
              "    </tr>\n",
              "    <tr>\n",
              "      <th>3</th>\n",
              "      <td>Alexandria U</td>\n",
              "      <td>77.0</td>\n",
              "      <td>68.6</td>\n",
              "    </tr>\n",
              "    <tr>\n",
              "      <th>4</th>\n",
              "      <td>Antenna</td>\n",
              "      <td>75.2</td>\n",
              "      <td>63.8</td>\n",
              "    </tr>\n",
              "    <tr>\n",
              "      <th>5</th>\n",
              "      <td>random stratified</td>\n",
              "      <td>40.8</td>\n",
              "      <td>24.2</td>\n",
              "    </tr>\n",
              "    <tr>\n",
              "      <th>6</th>\n",
              "      <td>all majority class</td>\n",
              "      <td>57.4</td>\n",
              "      <td>18.2</td>\n",
              "    </tr>\n",
              "    <tr>\n",
              "      <th>7</th>\n",
              "      <td>model 0. single utterance</td>\n",
              "      <td>79.6</td>\n",
              "      <td>71.0</td>\n",
              "    </tr>\n",
              "  </tbody>\n",
              "</table>\n",
              "</div>"
            ],
            "text/plain": [
              "                  team/model  micro-f1  macro-f1\n",
              "0              NTHU IDEA Lab      81.5      73.1\n",
              "1               KAKAK NLP+KU      79.5      68.7\n",
              "2                     HSU HK      79.1      69.9\n",
              "3               Alexandria U      77.0      68.6\n",
              "4                    Antenna      75.2      63.8\n",
              "5          random stratified      40.8      24.2\n",
              "6         all majority class      57.4      18.2\n",
              "7  model 0. single utterance      79.6      71.0"
            ]
          },
          "metadata": {
            "tags": []
          },
          "execution_count": 269
        }
      ]
    },
    {
      "cell_type": "markdown",
      "metadata": {
        "id": "MDgxN8nK89o5",
        "colab_type": "text"
      },
      "source": [
        "### m1. +speakers ids"
      ]
    },
    {
      "cell_type": "code",
      "metadata": {
        "id": "Nh1RW4_lIXzA",
        "colab_type": "code",
        "colab": {
          "base_uri": "https://localhost:8080/",
          "height": 728
        },
        "outputId": "3cb8aa05-b1e2-46e6-bd8d-4585b11a6704"
      },
      "source": [
        "train_ds, val_ds = bert_dataset(train_df, include_speakers=True)\n",
        "test_ds = bert_dataset(test_df, include_speakers=True, train_size=1, shuffle=False)[0]\n",
        "\n",
        "EPOCHS = 10\n",
        "\n",
        "model_1 = bert_model(include_speakers=True, dropout_rate=0)\n",
        "\n",
        "model_1.compile(optimizer=Adam(1e-5),\n",
        "                loss=CategoricalCrossentropy(),\n",
        "                metrics=[f1_score, Precision(name='P'), Recall(name='R')])\n",
        "\n",
        "history = model_1.fit(\n",
        "                train_ds,\n",
        "                epochs=EPOCHS,\n",
        "                verbose=1,\n",
        "                callbacks = [lr_callback, es_callback],\n",
        "                validation_data=val_ds)\n"
      ],
      "execution_count": 271,
      "outputs": [
        {
          "output_type": "stream",
          "text": [
            "\n",
            "Epoch 00001: LearningRateScheduler reducing learning rate to 9.999999747378752e-06.\n",
            "Epoch 1/10\n",
            "535/535 [==============================] - 157s 293ms/step - loss: 0.6883 - f1: 0.8293 - P: 0.7998 - R: 0.7111 - val_loss: 0.3984 - val_f1: 0.8626 - val_P: 0.8768 - val_R: 0.8468\n",
            "\n",
            "Epoch 00002: LearningRateScheduler reducing learning rate to 9.999999747378752e-06.\n",
            "Epoch 2/10\n",
            "535/535 [==============================] - 144s 269ms/step - loss: 0.3908 - f1: 0.8689 - P: 0.8864 - R: 0.8521 - val_loss: 0.2938 - val_f1: 0.9058 - val_P: 0.9118 - val_R: 0.8979\n",
            "\n",
            "Epoch 00003: LearningRateScheduler reducing learning rate to 7.788007633972422e-06.\n",
            "Epoch 3/10\n",
            "535/535 [==============================] - 144s 269ms/step - loss: 0.2462 - f1: 0.9227 - P: 0.9298 - R: 0.9122 - val_loss: 0.1977 - val_f1: 0.9374 - val_P: 0.9397 - val_R: 0.9358\n",
            "\n",
            "Epoch 00004: LearningRateScheduler reducing learning rate to 6.065306478780581e-06.\n",
            "Epoch 4/10\n",
            "535/535 [==============================] - 144s 269ms/step - loss: 0.1691 - f1: 0.9469 - P: 0.9497 - R: 0.9442 - val_loss: 0.1191 - val_f1: 0.9647 - val_P: 0.9667 - val_R: 0.9621\n",
            "\n",
            "Epoch 00005: LearningRateScheduler reducing learning rate to 4.7236654356359535e-06.\n",
            "Epoch 5/10\n",
            "535/535 [==============================] - 144s 269ms/step - loss: 0.1185 - f1: 0.9651 - P: 0.9681 - R: 0.9635 - val_loss: 0.1021 - val_f1: 0.9689 - val_P: 0.9700 - val_R: 0.9684\n",
            "\n",
            "Epoch 00006: LearningRateScheduler reducing learning rate to 3.6787942890964882e-06.\n",
            "Epoch 6/10\n",
            "535/535 [==============================] - 144s 269ms/step - loss: 0.0926 - f1: 0.9725 - P: 0.9739 - R: 0.9706 - val_loss: 0.0797 - val_f1: 0.9737 - val_P: 0.9746 - val_R: 0.9711\n",
            "\n",
            "Epoch 00007: LearningRateScheduler reducing learning rate to 2.865047804359633e-06.\n",
            "Epoch 7/10\n",
            "535/535 [==============================] - 144s 269ms/step - loss: 0.0756 - f1: 0.9753 - P: 0.9766 - R: 0.9745 - val_loss: 0.0652 - val_f1: 0.9795 - val_P: 0.9800 - val_R: 0.9779\n",
            "\n",
            "Epoch 00008: LearningRateScheduler reducing learning rate to 2.2313015620922005e-06.\n",
            "Epoch 8/10\n",
            "535/535 [==============================] - 144s 268ms/step - loss: 0.0660 - f1: 0.9792 - P: 0.9803 - R: 0.9785 - val_loss: 0.0598 - val_f1: 0.9805 - val_P: 0.9816 - val_R: 0.9805\n",
            "\n",
            "Epoch 00009: LearningRateScheduler reducing learning rate to 1.7377393949045351e-06.\n",
            "Epoch 9/10\n",
            "535/535 [==============================] - 144s 268ms/step - loss: 0.0602 - f1: 0.9816 - P: 0.9824 - R: 0.9810 - val_loss: 0.0540 - val_f1: 0.9805 - val_P: 0.9810 - val_R: 0.9805\n",
            "\n",
            "Epoch 00010: LearningRateScheduler reducing learning rate to 1.3533527691259516e-06.\n",
            "Epoch 10/10\n",
            "535/535 [==============================] - 144s 268ms/step - loss: 0.0544 - f1: 0.9818 - P: 0.9828 - R: 0.9813 - val_loss: 0.0500 - val_f1: 0.9826 - val_P: 0.9836 - val_R: 0.9805\n"
          ],
          "name": "stdout"
        }
      ]
    },
    {
      "cell_type": "code",
      "metadata": {
        "id": "rSYsHyQafHWO",
        "colab_type": "code",
        "colab": {
          "base_uri": "https://localhost:8080/",
          "height": 282
        },
        "outputId": "809fc77a-dbc5-48d2-f5eb-01267c30d5db"
      },
      "source": [
        "plot_training(history)"
      ],
      "execution_count": 272,
      "outputs": [
        {
          "output_type": "display_data",
          "data": {
            "image/png": "[encoded data removed]",
            "text/plain": [
              "<Figure size 864x288 with 2 Axes>"
            ]
          },
          "metadata": {
            "tags": []
          }
        }
      ]
    },
    {
      "cell_type": "code",
      "metadata": {
        "id": "WXqoAQ9RIXvp",
        "colab_type": "code",
        "colab": {
          "base_uri": "https://localhost:8080/",
          "height": 508
        },
        "outputId": "f212fd3d-dda0-4036-c850-25c271f8eac8"
      },
      "source": [
        "y_pred = model_1.predict(test_ds).argmax(axis=1)\n",
        "\n",
        "scores_df = update_scores(scores_df, 'model 1. +speaker ids', y_pred)\n",
        "scores_df.head(10)\n"
      ],
      "execution_count": 273,
      "outputs": [
        {
          "output_type": "stream",
          "text": [
            "              precision    recall  f1-score   support\n",
            "\n",
            "       anger      0.752     0.645     0.695       141\n",
            "         joy      0.838     0.657     0.737       505\n",
            "     neutral      0.816     0.925     0.867      1035\n",
            "     sadness      0.571     0.529     0.549       121\n",
            "\n",
            "    accuracy                          0.801      1802\n",
            "   macro avg      0.744     0.689     0.712      1802\n",
            "weighted avg      0.801     0.801     0.796      1802\n",
            "\n"
          ],
          "name": "stdout"
        },
        {
          "output_type": "execute_result",
          "data": {
            "text/html": [
              "<div>\n",
              "<style scoped>\n",
              "    .dataframe tbody tr th:only-of-type {\n",
              "        vertical-align: middle;\n",
              "    }\n",
              "\n",
              "    .dataframe tbody tr th {\n",
              "        vertical-align: top;\n",
              "    }\n",
              "\n",
              "    .dataframe thead th {\n",
              "        text-align: right;\n",
              "    }\n",
              "</style>\n",
              "<table border=\"1\" class=\"dataframe\">\n",
              "  <thead>\n",
              "    <tr style=\"text-align: right;\">\n",
              "      <th></th>\n",
              "      <th>team/model</th>\n",
              "      <th>micro-f1</th>\n",
              "      <th>macro-f1</th>\n",
              "    </tr>\n",
              "  </thead>\n",
              "  <tbody>\n",
              "    <tr>\n",
              "      <th>0</th>\n",
              "      <td>NTHU IDEA Lab</td>\n",
              "      <td>81.5</td>\n",
              "      <td>73.1</td>\n",
              "    </tr>\n",
              "    <tr>\n",
              "      <th>1</th>\n",
              "      <td>KAKAK NLP+KU</td>\n",
              "      <td>79.5</td>\n",
              "      <td>68.7</td>\n",
              "    </tr>\n",
              "    <tr>\n",
              "      <th>2</th>\n",
              "      <td>HSU HK</td>\n",
              "      <td>79.1</td>\n",
              "      <td>69.9</td>\n",
              "    </tr>\n",
              "    <tr>\n",
              "      <th>3</th>\n",
              "      <td>Alexandria U</td>\n",
              "      <td>77.0</td>\n",
              "      <td>68.6</td>\n",
              "    </tr>\n",
              "    <tr>\n",
              "      <th>4</th>\n",
              "      <td>Antenna</td>\n",
              "      <td>75.2</td>\n",
              "      <td>63.8</td>\n",
              "    </tr>\n",
              "    <tr>\n",
              "      <th>5</th>\n",
              "      <td>random stratified</td>\n",
              "      <td>40.8</td>\n",
              "      <td>24.2</td>\n",
              "    </tr>\n",
              "    <tr>\n",
              "      <th>6</th>\n",
              "      <td>all majority class</td>\n",
              "      <td>57.4</td>\n",
              "      <td>18.2</td>\n",
              "    </tr>\n",
              "    <tr>\n",
              "      <th>7</th>\n",
              "      <td>model 0. single utterance</td>\n",
              "      <td>79.6</td>\n",
              "      <td>71.0</td>\n",
              "    </tr>\n",
              "    <tr>\n",
              "      <th>8</th>\n",
              "      <td>model 1. +speaker ids</td>\n",
              "      <td>80.1</td>\n",
              "      <td>71.2</td>\n",
              "    </tr>\n",
              "  </tbody>\n",
              "</table>\n",
              "</div>"
            ],
            "text/plain": [
              "                  team/model  micro-f1  macro-f1\n",
              "0              NTHU IDEA Lab      81.5      73.1\n",
              "1               KAKAK NLP+KU      79.5      68.7\n",
              "2                     HSU HK      79.1      69.9\n",
              "3               Alexandria U      77.0      68.6\n",
              "4                    Antenna      75.2      63.8\n",
              "5          random stratified      40.8      24.2\n",
              "6         all majority class      57.4      18.2\n",
              "7  model 0. single utterance      79.6      71.0\n",
              "8      model 1. +speaker ids      80.1      71.2"
            ]
          },
          "metadata": {
            "tags": []
          },
          "execution_count": 273
        }
      ]
    },
    {
      "cell_type": "markdown",
      "metadata": {
        "id": "n4S6sAZ5CVN1",
        "colab_type": "text"
      },
      "source": [
        "### m2. +preceding utt"
      ]
    },
    {
      "cell_type": "code",
      "metadata": {
        "id": "pZmVOEmBqj3e",
        "colab_type": "code",
        "colab": {
          "base_uri": "https://localhost:8080/",
          "height": 728
        },
        "outputId": "88800ac0-de5d-4d0a-9fea-f911404329dc"
      },
      "source": [
        "train_ds, val_ds = bert_dataset(train_df, include_speakers=True, add_preceding=True, max_len=2*MAX_LEN)\n",
        "test_ds = bert_dataset(test_df, include_speakers=True, add_preceding=True, max_len=2*MAX_LEN, train_size=1, shuffle=False)[0]\n",
        "\n",
        "EPOCHS = 10\n",
        "\n",
        "model_2 = bert_model(include_speakers=True, max_len=2*MAX_LEN, dropout_rate=0)\n",
        "\n",
        "model_2.compile(optimizer=Adam(1e-5),\n",
        "              loss=CategoricalCrossentropy(),\n",
        "              metrics=[f1_score, Precision(name='P'), Recall(name='R')])\n",
        "\n",
        "history = model_2.fit(\n",
        "                train_ds,\n",
        "                epochs=EPOCHS,\n",
        "                verbose=1,\n",
        "                callbacks = [lr_callback, es_callback],\n",
        "                validation_data=val_ds)\n"
      ],
      "execution_count": 275,
      "outputs": [
        {
          "output_type": "stream",
          "text": [
            "\n",
            "Epoch 00001: LearningRateScheduler reducing learning rate to 9.999999747378752e-06.\n",
            "Epoch 1/10\n",
            "535/535 [==============================] - 288s 539ms/step - loss: 0.7654 - f1: 0.7944 - P: 0.7597 - R: 0.6834 - val_loss: 0.4092 - val_f1: 0.8521 - val_P: 0.8673 - val_R: 0.8395\n",
            "\n",
            "Epoch 00002: LearningRateScheduler reducing learning rate to 9.999999747378752e-06.\n",
            "Epoch 2/10\n",
            "535/535 [==============================] - 276s 516ms/step - loss: 0.3945 - f1: 0.8679 - P: 0.8803 - R: 0.8515 - val_loss: 0.2809 - val_f1: 0.9037 - val_P: 0.9127 - val_R: 0.8974\n",
            "\n",
            "Epoch 00003: LearningRateScheduler reducing learning rate to 7.788007633972422e-06.\n",
            "Epoch 3/10\n",
            "535/535 [==============================] - 276s 516ms/step - loss: 0.2239 - f1: 0.9284 - P: 0.9346 - R: 0.9215 - val_loss: 0.1726 - val_f1: 0.9468 - val_P: 0.9510 - val_R: 0.9400\n",
            "\n",
            "Epoch 00004: LearningRateScheduler reducing learning rate to 6.065306478780581e-06.\n",
            "Epoch 4/10\n",
            "535/535 [==============================] - 276s 515ms/step - loss: 0.1268 - f1: 0.9596 - P: 0.9625 - R: 0.9564 - val_loss: 0.1094 - val_f1: 0.9711 - val_P: 0.9725 - val_R: 0.9679\n",
            "\n",
            "Epoch 00005: LearningRateScheduler reducing learning rate to 4.7236654356359535e-06.\n",
            "Epoch 5/10\n",
            "535/535 [==============================] - 276s 515ms/step - loss: 0.0757 - f1: 0.9757 - P: 0.9782 - R: 0.9734 - val_loss: 0.0747 - val_f1: 0.9795 - val_P: 0.9795 - val_R: 0.9795\n",
            "\n",
            "Epoch 00006: LearningRateScheduler reducing learning rate to 3.6787942890964882e-06.\n",
            "Epoch 6/10\n",
            "535/535 [==============================] - 276s 516ms/step - loss: 0.0567 - f1: 0.9826 - P: 0.9832 - R: 0.9812 - val_loss: 0.0504 - val_f1: 0.9858 - val_P: 0.9868 - val_R: 0.9853\n",
            "\n",
            "Epoch 00007: LearningRateScheduler reducing learning rate to 2.865047804359633e-06.\n",
            "Epoch 7/10\n",
            "535/535 [==============================] - 276s 516ms/step - loss: 0.0388 - f1: 0.9870 - P: 0.9879 - R: 0.9866 - val_loss: 0.0375 - val_f1: 0.9911 - val_P: 0.9910 - val_R: 0.9905\n",
            "\n",
            "Epoch 00008: LearningRateScheduler reducing learning rate to 2.2313015620922005e-06.\n",
            "Epoch 8/10\n",
            "535/535 [==============================] - 276s 516ms/step - loss: 0.0279 - f1: 0.9907 - P: 0.9911 - R: 0.9904 - val_loss: 0.0358 - val_f1: 0.9905 - val_P: 0.9905 - val_R: 0.9905\n",
            "\n",
            "Epoch 00009: LearningRateScheduler reducing learning rate to 1.7377393949045351e-06.\n",
            "Epoch 9/10\n",
            "535/535 [==============================] - 276s 516ms/step - loss: 0.0258 - f1: 0.9923 - P: 0.9928 - R: 0.9921 - val_loss: 0.0316 - val_f1: 0.9921 - val_P: 0.9926 - val_R: 0.9921\n",
            "\n",
            "Epoch 00010: LearningRateScheduler reducing learning rate to 1.3533527691259516e-06.\n",
            "Epoch 10/10\n",
            "535/535 [==============================] - 276s 517ms/step - loss: 0.0215 - f1: 0.9939 - P: 0.9943 - R: 0.9935 - val_loss: 0.0312 - val_f1: 0.9926 - val_P: 0.9926 - val_R: 0.9921\n"
          ],
          "name": "stdout"
        }
      ]
    },
    {
      "cell_type": "code",
      "metadata": {
        "id": "kju6QnXY3ODk",
        "colab_type": "code",
        "colab": {
          "base_uri": "https://localhost:8080/",
          "height": 282
        },
        "outputId": "7eafdc4d-f285-4c64-9645-d5474538f8f1"
      },
      "source": [
        "plot_training(history)"
      ],
      "execution_count": 276,
      "outputs": [
        {
          "output_type": "display_data",
          "data": {
            "image/png": "[encoded data removed]",
            "text/plain": [
              "<Figure size 864x288 with 2 Axes>"
            ]
          },
          "metadata": {
            "tags": []
          }
        }
      ]
    },
    {
      "cell_type": "code",
      "metadata": {
        "id": "6LjBaLvDEEdJ",
        "colab_type": "code",
        "colab": {
          "base_uri": "https://localhost:8080/",
          "height": 538
        },
        "outputId": "4f4ba7c1-7caf-4fd3-d7e1-0b80eb55e90d"
      },
      "source": [
        "y_pred = model_2.predict(test_ds).argmax(axis=1)\n",
        "\n",
        "scores_df = update_scores(scores_df, 'model 2. +preceding utternace', y_pred)\n",
        "scores_df.head(10)"
      ],
      "execution_count": 280,
      "outputs": [
        {
          "output_type": "stream",
          "text": [
            "              precision    recall  f1-score   support\n",
            "\n",
            "       anger      0.716     0.553     0.624       141\n",
            "         joy      0.848     0.606     0.707       505\n",
            "     neutral      0.783     0.936     0.853      1035\n",
            "     sadness      0.596     0.463     0.521       121\n",
            "\n",
            "    accuracy                          0.782      1802\n",
            "   macro avg      0.735     0.640     0.676      1802\n",
            "weighted avg      0.783     0.782     0.772      1802\n",
            "\n"
          ],
          "name": "stdout"
        },
        {
          "output_type": "execute_result",
          "data": {
            "text/html": [
              "<div>\n",
              "<style scoped>\n",
              "    .dataframe tbody tr th:only-of-type {\n",
              "        vertical-align: middle;\n",
              "    }\n",
              "\n",
              "    .dataframe tbody tr th {\n",
              "        vertical-align: top;\n",
              "    }\n",
              "\n",
              "    .dataframe thead th {\n",
              "        text-align: right;\n",
              "    }\n",
              "</style>\n",
              "<table border=\"1\" class=\"dataframe\">\n",
              "  <thead>\n",
              "    <tr style=\"text-align: right;\">\n",
              "      <th></th>\n",
              "      <th>team/model</th>\n",
              "      <th>micro-f1</th>\n",
              "      <th>macro-f1</th>\n",
              "    </tr>\n",
              "  </thead>\n",
              "  <tbody>\n",
              "    <tr>\n",
              "      <th>0</th>\n",
              "      <td>NTHU IDEA Lab</td>\n",
              "      <td>81.5</td>\n",
              "      <td>73.1</td>\n",
              "    </tr>\n",
              "    <tr>\n",
              "      <th>1</th>\n",
              "      <td>KAKAK NLP+KU</td>\n",
              "      <td>79.5</td>\n",
              "      <td>68.7</td>\n",
              "    </tr>\n",
              "    <tr>\n",
              "      <th>2</th>\n",
              "      <td>HSU HK</td>\n",
              "      <td>79.1</td>\n",
              "      <td>69.9</td>\n",
              "    </tr>\n",
              "    <tr>\n",
              "      <th>3</th>\n",
              "      <td>Alexandria U</td>\n",
              "      <td>77.0</td>\n",
              "      <td>68.6</td>\n",
              "    </tr>\n",
              "    <tr>\n",
              "      <th>4</th>\n",
              "      <td>Antenna</td>\n",
              "      <td>75.2</td>\n",
              "      <td>63.8</td>\n",
              "    </tr>\n",
              "    <tr>\n",
              "      <th>5</th>\n",
              "      <td>random stratified</td>\n",
              "      <td>40.8</td>\n",
              "      <td>24.2</td>\n",
              "    </tr>\n",
              "    <tr>\n",
              "      <th>6</th>\n",
              "      <td>all majority class</td>\n",
              "      <td>57.4</td>\n",
              "      <td>18.2</td>\n",
              "    </tr>\n",
              "    <tr>\n",
              "      <th>7</th>\n",
              "      <td>model 0. single utterance</td>\n",
              "      <td>79.6</td>\n",
              "      <td>71.0</td>\n",
              "    </tr>\n",
              "    <tr>\n",
              "      <th>8</th>\n",
              "      <td>model 1. +speaker ids</td>\n",
              "      <td>80.1</td>\n",
              "      <td>71.2</td>\n",
              "    </tr>\n",
              "    <tr>\n",
              "      <th>9</th>\n",
              "      <td>model 2. +preceding utternace</td>\n",
              "      <td>78.2</td>\n",
              "      <td>67.6</td>\n",
              "    </tr>\n",
              "  </tbody>\n",
              "</table>\n",
              "</div>"
            ],
            "text/plain": [
              "                      team/model  micro-f1  macro-f1\n",
              "0                  NTHU IDEA Lab      81.5      73.1\n",
              "1                   KAKAK NLP+KU      79.5      68.7\n",
              "2                         HSU HK      79.1      69.9\n",
              "3                   Alexandria U      77.0      68.6\n",
              "4                        Antenna      75.2      63.8\n",
              "5              random stratified      40.8      24.2\n",
              "6             all majority class      57.4      18.2\n",
              "7      model 0. single utterance      79.6      71.0\n",
              "8          model 1. +speaker ids      80.1      71.2\n",
              "9  model 2. +preceding utternace      78.2      67.6"
            ]
          },
          "metadata": {
            "tags": []
          },
          "execution_count": 280
        }
      ]
    },
    {
      "cell_type": "markdown",
      "metadata": {
        "id": "tLhh3jUTY4GV",
        "colab_type": "text"
      },
      "source": [
        "### Scores"
      ]
    },
    {
      "cell_type": "code",
      "metadata": {
        "id": "QKdVHZEBaJs9",
        "colab_type": "code",
        "colab": {}
      },
      "source": [
        "models = scores_df['team/model'].values\n",
        "micro = scores_df['micro-f1'].values\n",
        "macro = scores_df['macro-f1'].values"
      ],
      "execution_count": 288,
      "outputs": []
    },
    {
      "cell_type": "code",
      "metadata": {
        "id": "5b5gA_B4aJqH",
        "colab_type": "code",
        "colab": {
          "base_uri": "https://localhost:8080/",
          "height": 441
        },
        "outputId": "b4eac09c-07c2-49f1-e817-84bb70d92b1f"
      },
      "source": [
        "x = np.arange(len(models))\n",
        "width = 0.35\n",
        "\n",
        "fig, ax = plt.subplots(figsize=(12, 6))\n",
        "rects1 = ax.bar(x - width/2, micro, width, label='micro-f1', color='c')\n",
        "rects2 = ax.bar(x + width/2, macro, width, label='macro-f1', color='grey')\n",
        "\n",
        "ax.set_title('EmotionX 2019:  f1 scores. First five models are top-5 in the 2019 challenge')\n",
        "ax.set_ylim(0,100)\n",
        "ax.set_xticks(x)\n",
        "ax.set_xticklabels(models, rotation=80)\n",
        "ax.legend(loc='lower right')\n",
        "\n",
        "def autolabel(rects):\n",
        "    for rect in rects:\n",
        "        height = rect.get_height()\n",
        "        ax.annotate(f'{height:.1f}', xy=(rect.get_x() + rect.get_width() / 2, height),\n",
        "                    xytext=(0, 3), textcoords=\"offset points\",  ha='center', va='bottom')\n",
        "autolabel(rects1)\n",
        "autolabel(rects2)\n",
        "fig.tight_layout()\n",
        "plt.show()"
      ],
      "execution_count": 316,
      "outputs": [
        {
          "output_type": "display_data",
          "data": {
            "image/png": "[encoded data removed]",
            "text/plain": [
              "<Figure size 864x432 with 1 Axes>"
            ]
          },
          "metadata": {
            "tags": []
          }
        }
      ]
    },
    {
      "cell_type": "markdown",
      "metadata": {
        "id": "WuqSXW2n3OGH",
        "colab_type": "text"
      },
      "source": [
        "### Extract BERT features"
      ]
    },
    {
      "cell_type": "code",
      "metadata": {
        "id": "Eaj4ksB_H-bf",
        "colab_type": "code",
        "colab": {
          "base_uri": "https://localhost:8080/",
          "height": 173
        },
        "outputId": "ff18cf1c-47f9-4290-ca1b-f03314e2170d"
      },
      "source": [
        "# extract the pre-trained BERT sentence embeddings from the best-performing model\n",
        "model_1.layers"
      ],
      "execution_count": 205,
      "outputs": [
        {
          "output_type": "execute_result",
          "data": {
            "text/plain": [
              "[<tensorflow.python.keras.engine.input_layer.InputLayer at 0x7f7fa3a86588>,\n",
              " <tensorflow.python.keras.engine.input_layer.InputLayer at 0x7f7fa3abeef0>,\n",
              " <tensorflow.python.keras.engine.input_layer.InputLayer at 0x7f7f7c3270f0>,\n",
              " <tensorflow_hub.keras_layer.KerasLayer at 0x7f7d73581940>,\n",
              " <tensorflow.python.keras.layers.core.Dropout at 0x7f7d6bf0ee80>,\n",
              " <tensorflow.python.keras.engine.input_layer.InputLayer at 0x7f7f36817c50>,\n",
              " <tensorflow.python.keras.layers.core.TFOpLambda at 0x7f7d6be1f6d8>,\n",
              " <tensorflow.python.keras.layers.core.Dense at 0x7f7d6bec1b00>,\n",
              " <tensorflow.python.keras.layers.core.Dense at 0x7f7d6bec19b0>]"
            ]
          },
          "metadata": {
            "tags": []
          },
          "execution_count": 205
        }
      ]
    },
    {
      "cell_type": "code",
      "metadata": {
        "id": "vtnxvTsTVV5P",
        "colab_type": "code",
        "colab": {
          "base_uri": "https://localhost:8080/",
          "height": 52
        },
        "outputId": "c36351c4-4fdf-49f1-9527-e97ba1e56ef0"
      },
      "source": [
        "# output at layer 4 after dropout\n",
        "bert_extractor = keras.Model(inputs=model_1.input, outputs=model_1.get_layer('dropout').output)\n",
        "\n",
        "# datasets w/o shuffling. order must be preserved for feature extraction, to be aligned with the labels\n",
        "f_train_ds = bert_dataset(train_df, include_speakers=True, train_size=1, shuffle=False)[0]\n",
        "f_test_ds  = bert_dataset(test_df,  include_speakers=True, train_size=1, shuffle=False)[0]\n",
        "\n",
        "# produce numpy features\n",
        "f_train = bert_extractor.predict(f_train_ds)\n",
        "f_test  = bert_extractor.predict(f_test_ds)\n",
        "\n",
        "print(train_df.shape, f_train.shape)\n",
        "print(test_df.shape, f_test.shape)\n",
        "\n",
        "# save numpy features \n",
        "np.save(path+'models/train_extracted_m1', f_train, allow_pickle=True)\n",
        "np.save(path+'models/test_extracted_m1', f_test, allow_pickle=True)"
      ],
      "execution_count": 206,
      "outputs": [
        {
          "output_type": "stream",
          "text": [
            "(18994, 6) (18994, 768)\n",
            "(1802, 6) (1802, 768)\n"
          ],
          "name": "stdout"
        }
      ]
    },
    {
      "cell_type": "code",
      "metadata": {
        "id": "B8pbk22OeuDM",
        "colab_type": "code",
        "colab": {}
      },
      "source": [
        ""
      ],
      "execution_count": 206,
      "outputs": []
    }
  ]
}